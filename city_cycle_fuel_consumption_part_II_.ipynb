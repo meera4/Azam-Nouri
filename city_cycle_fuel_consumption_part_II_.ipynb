{
  "nbformat": 4,
  "nbformat_minor": 0,
  "metadata": {
    "colab": {
      "provenance": [],
      "authorship_tag": "ABX9TyMDdWV555BK5TC+vnjFCKSl"
    },
    "kernelspec": {
      "name": "python3",
      "display_name": "Python 3"
    },
    "language_info": {
      "name": "python"
    },
    "gpuClass": "standard"
  },
  "cells": [
    {
      "cell_type": "markdown",
      "source": [
        "# **Part II : Statistical Analysis**\n",
        "\n",
        "\n",
        "In this section, we will conduct various statistical hypothesis tests, apply estimation statistics, and interpret the results to validate the findings from part one. We will use both parametric and non-parametric tests and report all significant insights. This part requires a strong statistical background, and we will use our knowledge to delve deeper into the data.\n",
        "\n",
        "I perform the following steps:\n",
        "\n",
        "    Preprocess the data, following the same steps as in Part 1 of the EDA.\n",
        "    Test for independence between pairs of categorical attributes.\n",
        "    Test for normality of the distribution of each numeric attribute.\n",
        "    Analyze the correlation between pairs of numeric attributes.\n",
        "    Perform both parametric and non-parametric tests to compare samples.\n",
        "\n",
        "Throughout the notebook, I make use of hypothesis testing techniques to draw statistical conclusions."
      ],
      "metadata": {
        "id": "EBg6-HRtA_W0"
      }
    },
    {
      "cell_type": "markdown",
      "source": [
        "# **About Dataset**\n",
        "\n",
        "We are working with the city-cycle fuel consumption dataset, which consists of data related to city-cycle fuel consumption in miles per gallon. The dataset includes 398 instances, and there are 8 attributes, including 3 multi-valued discrete and 5 continuous attributes. The goal is to predict the attribute \"mpg\" using regression.\n",
        "\n",
        "It's worth noting that the dataset contains missing values, and 8 instances were removed due to unknown values for the \"mpg\" attribute. The original dataset is available in the file \"auto-mpg.data-original\". The attribute information shows that one of the attributes is a string type and is unique for each instance, which is the car name attribute.\n",
        "\n",
        "This is a multivariate dataset with both categorical and real attribute characteristics, and it's associated with a regression task.\n",
        "\n",
        "**Source**:\n",
        "\n",
        "This dataset was taken from the StatLib library which is maintained at Carnegie Mellon University. The dataset was used in the 1983 American Statistical Association Exposition.\n",
        "\n",
        "\n",
        "**Data Set Information:**\n",
        "\n",
        "This dataset is a slightly modified version of the dataset provided in the StatLib library. In line with the use by Ross Quinlan (1993) in predicting the attribute \"mpg\", 8 of the original instances were removed because they had unknown values for the \"mpg\" attribute. The original dataset is available in the file \"auto-mpg.data-original\".\n",
        "\n",
        "\"The data concerns city-cycle fuel consumption in miles per gallon, to be predicted in terms of 3 multivalued discrete and 5 continuous attributes.\" (Quinlan, 1993)\n",
        "\n",
        "\n",
        "**Attribute Information**:\n",
        "\n",
        "1. mpg: continuous\n",
        "2. cylinders: multi-valued discrete\n",
        "3. displacement: continuous\n",
        "4. horsepower: continuous\n",
        "5. weight: continuous\n",
        "6. acceleration: continuous\n",
        "7. model year: multi-valued discrete\n",
        "8. origin: multi-valued discrete\n",
        "9. car name: string (unique for each instance)"
      ],
      "metadata": {
        "id": "RE01oF6s-WS0"
      }
    },
    {
      "cell_type": "code",
      "execution_count": null,
      "metadata": {
        "id": "T5FVNnoN-GqE"
      },
      "outputs": [],
      "source": [
        "import itertools\n",
        "import os\n",
        "import pathlib\n",
        "import random\n",
        "import time\n",
        "\n",
        "import cv2\n",
        "import numpy as np\n",
        "import pandas as pd\n",
        "import scipy.stats as st\n",
        "import seaborn as sns\n",
        "import matplotlib.pyplot as plt\n",
        "import matplotlib.colors as mcolors\n",
        "import itertools\n",
        "\n",
        "from glob import glob\n",
        "from tqdm import tqdm_notebook, tnrange\n",
        "from skimage.color import rgb2gray\n",
        "from skimage.morphology import label\n",
        "from skimage.transform import resize\n",
        "from skimage.io import imread, imshow, concatenate_images\n",
        "from sklearn.model_selection import train_test_split\n",
        "from sklearn.metrics import precision_recall_curve, classification_report, confusion_matrix, accuracy_score, auc, f1_score, precision_score, recall_score\n",
        "from sklearn.preprocessing import normalize\n",
        "from sklearn.model_selection import train_test_split\n",
        "from sklearn.preprocessing import LabelEncoder\n",
        "from sklearn import feature_selection\n",
        "from statsmodels.graphics.gofplots import qqplot\n"
      ]
    },
    {
      "cell_type": "markdown",
      "source": [
        "# **Data Cleaning**"
      ],
      "metadata": {
        "id": "QngZDYvKDgKT"
      }
    },
    {
      "cell_type": "code",
      "source": [
        "df = pd.read_csv('city-cycle fuel consumption dataset.csv')"
      ],
      "metadata": {
        "id": "maBjOgdC-kGe"
      },
      "execution_count": null,
      "outputs": []
    },
    {
      "cell_type": "code",
      "source": [
        "df.head(2).transpose()"
      ],
      "metadata": {
        "colab": {
          "base_uri": "https://localhost:8080/",
          "height": 331
        },
        "id": "7C3uY-3u-lnL",
        "outputId": "21dccc53-6f3e-4ca0-ad40-745186d2491f"
      },
      "execution_count": null,
      "outputs": [
        {
          "output_type": "execute_result",
          "data": {
            "text/plain": [
              "                                      0                  1\n",
              "mpg                                18.0               15.0\n",
              "cylinders                             8                  8\n",
              "displacement                      307.0              350.0\n",
              "horsepower                        130.0              165.0\n",
              "weight                             3504               3693\n",
              "acceleration                       12.0               11.5\n",
              "model_year                           70                 70\n",
              "origin                              usa                usa\n",
              "name          chevrolet chevelle malibu  buick skylark 320"
            ],
            "text/html": [
              "\n",
              "  <div id=\"df-b1a05c95-7a82-4079-9eb8-149cc8bf8889\">\n",
              "    <div class=\"colab-df-container\">\n",
              "      <div>\n",
              "<style scoped>\n",
              "    .dataframe tbody tr th:only-of-type {\n",
              "        vertical-align: middle;\n",
              "    }\n",
              "\n",
              "    .dataframe tbody tr th {\n",
              "        vertical-align: top;\n",
              "    }\n",
              "\n",
              "    .dataframe thead th {\n",
              "        text-align: right;\n",
              "    }\n",
              "</style>\n",
              "<table border=\"1\" class=\"dataframe\">\n",
              "  <thead>\n",
              "    <tr style=\"text-align: right;\">\n",
              "      <th></th>\n",
              "      <th>0</th>\n",
              "      <th>1</th>\n",
              "    </tr>\n",
              "  </thead>\n",
              "  <tbody>\n",
              "    <tr>\n",
              "      <th>mpg</th>\n",
              "      <td>18.0</td>\n",
              "      <td>15.0</td>\n",
              "    </tr>\n",
              "    <tr>\n",
              "      <th>cylinders</th>\n",
              "      <td>8</td>\n",
              "      <td>8</td>\n",
              "    </tr>\n",
              "    <tr>\n",
              "      <th>displacement</th>\n",
              "      <td>307.0</td>\n",
              "      <td>350.0</td>\n",
              "    </tr>\n",
              "    <tr>\n",
              "      <th>horsepower</th>\n",
              "      <td>130.0</td>\n",
              "      <td>165.0</td>\n",
              "    </tr>\n",
              "    <tr>\n",
              "      <th>weight</th>\n",
              "      <td>3504</td>\n",
              "      <td>3693</td>\n",
              "    </tr>\n",
              "    <tr>\n",
              "      <th>acceleration</th>\n",
              "      <td>12.0</td>\n",
              "      <td>11.5</td>\n",
              "    </tr>\n",
              "    <tr>\n",
              "      <th>model_year</th>\n",
              "      <td>70</td>\n",
              "      <td>70</td>\n",
              "    </tr>\n",
              "    <tr>\n",
              "      <th>origin</th>\n",
              "      <td>usa</td>\n",
              "      <td>usa</td>\n",
              "    </tr>\n",
              "    <tr>\n",
              "      <th>name</th>\n",
              "      <td>chevrolet chevelle malibu</td>\n",
              "      <td>buick skylark 320</td>\n",
              "    </tr>\n",
              "  </tbody>\n",
              "</table>\n",
              "</div>\n",
              "      <button class=\"colab-df-convert\" onclick=\"convertToInteractive('df-b1a05c95-7a82-4079-9eb8-149cc8bf8889')\"\n",
              "              title=\"Convert this dataframe to an interactive table.\"\n",
              "              style=\"display:none;\">\n",
              "        \n",
              "  <svg xmlns=\"http://www.w3.org/2000/svg\" height=\"24px\"viewBox=\"0 0 24 24\"\n",
              "       width=\"24px\">\n",
              "    <path d=\"M0 0h24v24H0V0z\" fill=\"none\"/>\n",
              "    <path d=\"M18.56 5.44l.94 2.06.94-2.06 2.06-.94-2.06-.94-.94-2.06-.94 2.06-2.06.94zm-11 1L8.5 8.5l.94-2.06 2.06-.94-2.06-.94L8.5 2.5l-.94 2.06-2.06.94zm10 10l.94 2.06.94-2.06 2.06-.94-2.06-.94-.94-2.06-.94 2.06-2.06.94z\"/><path d=\"M17.41 7.96l-1.37-1.37c-.4-.4-.92-.59-1.43-.59-.52 0-1.04.2-1.43.59L10.3 9.45l-7.72 7.72c-.78.78-.78 2.05 0 2.83L4 21.41c.39.39.9.59 1.41.59.51 0 1.02-.2 1.41-.59l7.78-7.78 2.81-2.81c.8-.78.8-2.07 0-2.86zM5.41 20L4 18.59l7.72-7.72 1.47 1.35L5.41 20z\"/>\n",
              "  </svg>\n",
              "      </button>\n",
              "      \n",
              "  <style>\n",
              "    .colab-df-container {\n",
              "      display:flex;\n",
              "      flex-wrap:wrap;\n",
              "      gap: 12px;\n",
              "    }\n",
              "\n",
              "    .colab-df-convert {\n",
              "      background-color: #E8F0FE;\n",
              "      border: none;\n",
              "      border-radius: 50%;\n",
              "      cursor: pointer;\n",
              "      display: none;\n",
              "      fill: #1967D2;\n",
              "      height: 32px;\n",
              "      padding: 0 0 0 0;\n",
              "      width: 32px;\n",
              "    }\n",
              "\n",
              "    .colab-df-convert:hover {\n",
              "      background-color: #E2EBFA;\n",
              "      box-shadow: 0px 1px 2px rgba(60, 64, 67, 0.3), 0px 1px 3px 1px rgba(60, 64, 67, 0.15);\n",
              "      fill: #174EA6;\n",
              "    }\n",
              "\n",
              "    [theme=dark] .colab-df-convert {\n",
              "      background-color: #3B4455;\n",
              "      fill: #D2E3FC;\n",
              "    }\n",
              "\n",
              "    [theme=dark] .colab-df-convert:hover {\n",
              "      background-color: #434B5C;\n",
              "      box-shadow: 0px 1px 3px 1px rgba(0, 0, 0, 0.15);\n",
              "      filter: drop-shadow(0px 1px 2px rgba(0, 0, 0, 0.3));\n",
              "      fill: #FFFFFF;\n",
              "    }\n",
              "  </style>\n",
              "\n",
              "      <script>\n",
              "        const buttonEl =\n",
              "          document.querySelector('#df-b1a05c95-7a82-4079-9eb8-149cc8bf8889 button.colab-df-convert');\n",
              "        buttonEl.style.display =\n",
              "          google.colab.kernel.accessAllowed ? 'block' : 'none';\n",
              "\n",
              "        async function convertToInteractive(key) {\n",
              "          const element = document.querySelector('#df-b1a05c95-7a82-4079-9eb8-149cc8bf8889');\n",
              "          const dataTable =\n",
              "            await google.colab.kernel.invokeFunction('convertToInteractive',\n",
              "                                                     [key], {});\n",
              "          if (!dataTable) return;\n",
              "\n",
              "          const docLinkHtml = 'Like what you see? Visit the ' +\n",
              "            '<a target=\"_blank\" href=https://colab.research.google.com/notebooks/data_table.ipynb>data table notebook</a>'\n",
              "            + ' to learn more about interactive tables.';\n",
              "          element.innerHTML = '';\n",
              "          dataTable['output_type'] = 'display_data';\n",
              "          await google.colab.output.renderOutput(dataTable, element);\n",
              "          const docLink = document.createElement('div');\n",
              "          docLink.innerHTML = docLinkHtml;\n",
              "          element.appendChild(docLink);\n",
              "        }\n",
              "      </script>\n",
              "    </div>\n",
              "  </div>\n",
              "  "
            ]
          },
          "metadata": {},
          "execution_count": 6
        }
      ]
    },
    {
      "cell_type": "code",
      "source": [
        "df.info()"
      ],
      "metadata": {
        "colab": {
          "base_uri": "https://localhost:8080/"
        },
        "id": "VWk3F1wK_r1x",
        "outputId": "37d575ea-e23c-4007-c5ba-e90dba4f4548"
      },
      "execution_count": null,
      "outputs": [
        {
          "output_type": "stream",
          "name": "stdout",
          "text": [
            "<class 'pandas.core.frame.DataFrame'>\n",
            "RangeIndex: 398 entries, 0 to 397\n",
            "Data columns (total 9 columns):\n",
            " #   Column        Non-Null Count  Dtype  \n",
            "---  ------        --------------  -----  \n",
            " 0   mpg           398 non-null    float64\n",
            " 1   cylinders     398 non-null    int64  \n",
            " 2   displacement  398 non-null    float64\n",
            " 3   horsepower    392 non-null    float64\n",
            " 4   weight        398 non-null    int64  \n",
            " 5   acceleration  398 non-null    float64\n",
            " 6   model_year    398 non-null    int64  \n",
            " 7   origin        398 non-null    object \n",
            " 8   name          398 non-null    object \n",
            "dtypes: float64(4), int64(3), object(2)\n",
            "memory usage: 28.1+ KB\n"
          ]
        }
      ]
    },
    {
      "cell_type": "code",
      "source": [
        "df.shape"
      ],
      "metadata": {
        "colab": {
          "base_uri": "https://localhost:8080/"
        },
        "id": "ZYkrGUfF_tcb",
        "outputId": "5aca0599-ae9f-4170-afbf-1aedc5aca5fa"
      },
      "execution_count": null,
      "outputs": [
        {
          "output_type": "execute_result",
          "data": {
            "text/plain": [
              "(398, 9)"
            ]
          },
          "metadata": {},
          "execution_count": 8
        }
      ]
    },
    {
      "cell_type": "code",
      "source": [
        "df.describe().transpose()"
      ],
      "metadata": {
        "colab": {
          "base_uri": "https://localhost:8080/",
          "height": 269
        },
        "id": "txo80doQ_vLK",
        "outputId": "98ae39c2-468d-40d2-9e13-6850e28ea7ef"
      },
      "execution_count": null,
      "outputs": [
        {
          "output_type": "execute_result",
          "data": {
            "text/plain": [
              "              count         mean         std     min       25%     50%  \\\n",
              "mpg           398.0    23.514573    7.815984     9.0    17.500    23.0   \n",
              "cylinders     398.0     5.454774    1.701004     3.0     4.000     4.0   \n",
              "displacement  398.0   193.425879  104.269838    68.0   104.250   148.5   \n",
              "horsepower    392.0   104.469388   38.491160    46.0    75.000    93.5   \n",
              "weight        398.0  2970.424623  846.841774  1613.0  2223.750  2803.5   \n",
              "acceleration  398.0    15.568090    2.757689     8.0    13.825    15.5   \n",
              "model_year    398.0    76.010050    3.697627    70.0    73.000    76.0   \n",
              "\n",
              "                   75%     max  \n",
              "mpg             29.000    46.6  \n",
              "cylinders        8.000     8.0  \n",
              "displacement   262.000   455.0  \n",
              "horsepower     126.000   230.0  \n",
              "weight        3608.000  5140.0  \n",
              "acceleration    17.175    24.8  \n",
              "model_year      79.000    82.0  "
            ],
            "text/html": [
              "\n",
              "  <div id=\"df-dc308d49-a805-47f0-9e3a-93daca501eda\">\n",
              "    <div class=\"colab-df-container\">\n",
              "      <div>\n",
              "<style scoped>\n",
              "    .dataframe tbody tr th:only-of-type {\n",
              "        vertical-align: middle;\n",
              "    }\n",
              "\n",
              "    .dataframe tbody tr th {\n",
              "        vertical-align: top;\n",
              "    }\n",
              "\n",
              "    .dataframe thead th {\n",
              "        text-align: right;\n",
              "    }\n",
              "</style>\n",
              "<table border=\"1\" class=\"dataframe\">\n",
              "  <thead>\n",
              "    <tr style=\"text-align: right;\">\n",
              "      <th></th>\n",
              "      <th>count</th>\n",
              "      <th>mean</th>\n",
              "      <th>std</th>\n",
              "      <th>min</th>\n",
              "      <th>25%</th>\n",
              "      <th>50%</th>\n",
              "      <th>75%</th>\n",
              "      <th>max</th>\n",
              "    </tr>\n",
              "  </thead>\n",
              "  <tbody>\n",
              "    <tr>\n",
              "      <th>mpg</th>\n",
              "      <td>398.0</td>\n",
              "      <td>23.514573</td>\n",
              "      <td>7.815984</td>\n",
              "      <td>9.0</td>\n",
              "      <td>17.500</td>\n",
              "      <td>23.0</td>\n",
              "      <td>29.000</td>\n",
              "      <td>46.6</td>\n",
              "    </tr>\n",
              "    <tr>\n",
              "      <th>cylinders</th>\n",
              "      <td>398.0</td>\n",
              "      <td>5.454774</td>\n",
              "      <td>1.701004</td>\n",
              "      <td>3.0</td>\n",
              "      <td>4.000</td>\n",
              "      <td>4.0</td>\n",
              "      <td>8.000</td>\n",
              "      <td>8.0</td>\n",
              "    </tr>\n",
              "    <tr>\n",
              "      <th>displacement</th>\n",
              "      <td>398.0</td>\n",
              "      <td>193.425879</td>\n",
              "      <td>104.269838</td>\n",
              "      <td>68.0</td>\n",
              "      <td>104.250</td>\n",
              "      <td>148.5</td>\n",
              "      <td>262.000</td>\n",
              "      <td>455.0</td>\n",
              "    </tr>\n",
              "    <tr>\n",
              "      <th>horsepower</th>\n",
              "      <td>392.0</td>\n",
              "      <td>104.469388</td>\n",
              "      <td>38.491160</td>\n",
              "      <td>46.0</td>\n",
              "      <td>75.000</td>\n",
              "      <td>93.5</td>\n",
              "      <td>126.000</td>\n",
              "      <td>230.0</td>\n",
              "    </tr>\n",
              "    <tr>\n",
              "      <th>weight</th>\n",
              "      <td>398.0</td>\n",
              "      <td>2970.424623</td>\n",
              "      <td>846.841774</td>\n",
              "      <td>1613.0</td>\n",
              "      <td>2223.750</td>\n",
              "      <td>2803.5</td>\n",
              "      <td>3608.000</td>\n",
              "      <td>5140.0</td>\n",
              "    </tr>\n",
              "    <tr>\n",
              "      <th>acceleration</th>\n",
              "      <td>398.0</td>\n",
              "      <td>15.568090</td>\n",
              "      <td>2.757689</td>\n",
              "      <td>8.0</td>\n",
              "      <td>13.825</td>\n",
              "      <td>15.5</td>\n",
              "      <td>17.175</td>\n",
              "      <td>24.8</td>\n",
              "    </tr>\n",
              "    <tr>\n",
              "      <th>model_year</th>\n",
              "      <td>398.0</td>\n",
              "      <td>76.010050</td>\n",
              "      <td>3.697627</td>\n",
              "      <td>70.0</td>\n",
              "      <td>73.000</td>\n",
              "      <td>76.0</td>\n",
              "      <td>79.000</td>\n",
              "      <td>82.0</td>\n",
              "    </tr>\n",
              "  </tbody>\n",
              "</table>\n",
              "</div>\n",
              "      <button class=\"colab-df-convert\" onclick=\"convertToInteractive('df-dc308d49-a805-47f0-9e3a-93daca501eda')\"\n",
              "              title=\"Convert this dataframe to an interactive table.\"\n",
              "              style=\"display:none;\">\n",
              "        \n",
              "  <svg xmlns=\"http://www.w3.org/2000/svg\" height=\"24px\"viewBox=\"0 0 24 24\"\n",
              "       width=\"24px\">\n",
              "    <path d=\"M0 0h24v24H0V0z\" fill=\"none\"/>\n",
              "    <path d=\"M18.56 5.44l.94 2.06.94-2.06 2.06-.94-2.06-.94-.94-2.06-.94 2.06-2.06.94zm-11 1L8.5 8.5l.94-2.06 2.06-.94-2.06-.94L8.5 2.5l-.94 2.06-2.06.94zm10 10l.94 2.06.94-2.06 2.06-.94-2.06-.94-.94-2.06-.94 2.06-2.06.94z\"/><path d=\"M17.41 7.96l-1.37-1.37c-.4-.4-.92-.59-1.43-.59-.52 0-1.04.2-1.43.59L10.3 9.45l-7.72 7.72c-.78.78-.78 2.05 0 2.83L4 21.41c.39.39.9.59 1.41.59.51 0 1.02-.2 1.41-.59l7.78-7.78 2.81-2.81c.8-.78.8-2.07 0-2.86zM5.41 20L4 18.59l7.72-7.72 1.47 1.35L5.41 20z\"/>\n",
              "  </svg>\n",
              "      </button>\n",
              "      \n",
              "  <style>\n",
              "    .colab-df-container {\n",
              "      display:flex;\n",
              "      flex-wrap:wrap;\n",
              "      gap: 12px;\n",
              "    }\n",
              "\n",
              "    .colab-df-convert {\n",
              "      background-color: #E8F0FE;\n",
              "      border: none;\n",
              "      border-radius: 50%;\n",
              "      cursor: pointer;\n",
              "      display: none;\n",
              "      fill: #1967D2;\n",
              "      height: 32px;\n",
              "      padding: 0 0 0 0;\n",
              "      width: 32px;\n",
              "    }\n",
              "\n",
              "    .colab-df-convert:hover {\n",
              "      background-color: #E2EBFA;\n",
              "      box-shadow: 0px 1px 2px rgba(60, 64, 67, 0.3), 0px 1px 3px 1px rgba(60, 64, 67, 0.15);\n",
              "      fill: #174EA6;\n",
              "    }\n",
              "\n",
              "    [theme=dark] .colab-df-convert {\n",
              "      background-color: #3B4455;\n",
              "      fill: #D2E3FC;\n",
              "    }\n",
              "\n",
              "    [theme=dark] .colab-df-convert:hover {\n",
              "      background-color: #434B5C;\n",
              "      box-shadow: 0px 1px 3px 1px rgba(0, 0, 0, 0.15);\n",
              "      filter: drop-shadow(0px 1px 2px rgba(0, 0, 0, 0.3));\n",
              "      fill: #FFFFFF;\n",
              "    }\n",
              "  </style>\n",
              "\n",
              "      <script>\n",
              "        const buttonEl =\n",
              "          document.querySelector('#df-dc308d49-a805-47f0-9e3a-93daca501eda button.colab-df-convert');\n",
              "        buttonEl.style.display =\n",
              "          google.colab.kernel.accessAllowed ? 'block' : 'none';\n",
              "\n",
              "        async function convertToInteractive(key) {\n",
              "          const element = document.querySelector('#df-dc308d49-a805-47f0-9e3a-93daca501eda');\n",
              "          const dataTable =\n",
              "            await google.colab.kernel.invokeFunction('convertToInteractive',\n",
              "                                                     [key], {});\n",
              "          if (!dataTable) return;\n",
              "\n",
              "          const docLinkHtml = 'Like what you see? Visit the ' +\n",
              "            '<a target=\"_blank\" href=https://colab.research.google.com/notebooks/data_table.ipynb>data table notebook</a>'\n",
              "            + ' to learn more about interactive tables.';\n",
              "          element.innerHTML = '';\n",
              "          dataTable['output_type'] = 'display_data';\n",
              "          await google.colab.output.renderOutput(dataTable, element);\n",
              "          const docLink = document.createElement('div');\n",
              "          docLink.innerHTML = docLinkHtml;\n",
              "          element.appendChild(docLink);\n",
              "        }\n",
              "      </script>\n",
              "    </div>\n",
              "  </div>\n",
              "  "
            ]
          },
          "metadata": {},
          "execution_count": 9
        }
      ]
    },
    {
      "cell_type": "code",
      "source": [
        "cats = list(df.select_dtypes(include=['object']).columns)\n",
        "nums = list(df.select_dtypes(exclude=['object']).columns)\n",
        "print(f'Number of categorical variables: {len(cats)}')\n",
        "print(f'Categorical variables: {cats}')\n",
        "print(f'\\nNumber of numerical variables: {len(nums)}')\n",
        "print(f'Numerical variables: {nums}')"
      ],
      "metadata": {
        "colab": {
          "base_uri": "https://localhost:8080/"
        },
        "id": "T6UTOcVPBd2y",
        "outputId": "b9b117f7-ca94-428b-80c3-521c113ba9e6"
      },
      "execution_count": null,
      "outputs": [
        {
          "output_type": "stream",
          "name": "stdout",
          "text": [
            "Number of categorical variables: 2\n",
            "Categorical variables: ['origin', 'name']\n",
            "\n",
            "Number of numerical variables: 7\n",
            "Numerical variables: ['mpg', 'cylinders', 'displacement', 'horsepower', 'weight', 'acceleration', 'model_year']\n"
          ]
        }
      ]
    },
    {
      "cell_type": "markdown",
      "source": [
        "**Inspect number of unique values in each column**\n",
        "\n",
        "Given the limited number of unique values for both cylinders and model_year, it is recommended to treat them as categorical variables instead of numeric variables."
      ],
      "metadata": {
        "id": "9fDnC0AbBrMx"
      }
    },
    {
      "cell_type": "code",
      "source": [
        "df.nunique(axis=0)"
      ],
      "metadata": {
        "colab": {
          "base_uri": "https://localhost:8080/"
        },
        "id": "W8klvIPdBkE6",
        "outputId": "0bad2e9b-0c9d-4836-92a1-938f8914e007"
      },
      "execution_count": null,
      "outputs": [
        {
          "output_type": "execute_result",
          "data": {
            "text/plain": [
              "mpg             129\n",
              "cylinders         5\n",
              "displacement     82\n",
              "horsepower       93\n",
              "weight          351\n",
              "acceleration     95\n",
              "model_year       13\n",
              "origin            3\n",
              "name            305\n",
              "dtype: int64"
            ]
          },
          "metadata": {},
          "execution_count": 14
        }
      ]
    },
    {
      "cell_type": "code",
      "source": [
        "# add cylinders and model_year to categorical variables\n",
        "cats += ['cylinders', 'model_year']\n",
        "\n",
        "# remove cylinders and model_year from numerical variables\n",
        "nums.remove('cylinders')\n",
        "nums.remove('model_year')\n",
        "\n",
        "# print updated lists of variables\n",
        "print(f'Categorical variables: {cats}')\n",
        "print(f'Numerical variables: {nums}')\n"
      ],
      "metadata": {
        "colab": {
          "base_uri": "https://localhost:8080/"
        },
        "id": "GphygNFMCACx",
        "outputId": "05befe32-2cd1-42f5-d8b8-681ca18bad37"
      },
      "execution_count": null,
      "outputs": [
        {
          "output_type": "stream",
          "name": "stdout",
          "text": [
            "Categorical variables: ['origin', 'name', 'cylinders', 'model_year']\n",
            "Numerical variables: ['mpg', 'displacement', 'horsepower', 'weight', 'acceleration']\n"
          ]
        }
      ]
    },
    {
      "cell_type": "code",
      "source": [
        "df.isna().sum()"
      ],
      "metadata": {
        "colab": {
          "base_uri": "https://localhost:8080/"
        },
        "id": "Y2Lzd5XJCa1p",
        "outputId": "0de8ac1c-05dd-4204-ffa7-cc60aa23fc7c"
      },
      "execution_count": null,
      "outputs": [
        {
          "output_type": "execute_result",
          "data": {
            "text/plain": [
              "mpg             0\n",
              "cylinders       0\n",
              "displacement    0\n",
              "horsepower      6\n",
              "weight          0\n",
              "acceleration    0\n",
              "model_year      0\n",
              "origin          0\n",
              "name            0\n",
              "dtype: int64"
            ]
          },
          "metadata": {},
          "execution_count": 16
        }
      ]
    },
    {
      "cell_type": "markdown",
      "source": [
        "The horsepower feature has only 6 NaN rows, accounting for around 1.5% of the total data. Since this fraction is relatively small, we can safely drop these NaN rows for the time being.\n",
        "\n",
        "let's see these 6 `nan`"
      ],
      "metadata": {
        "id": "Qhf3LnlYCjoT"
      }
    },
    {
      "cell_type": "code",
      "source": [
        "df[df.isnull().any(axis=1)]"
      ],
      "metadata": {
        "colab": {
          "base_uri": "https://localhost:8080/",
          "height": 237
        },
        "id": "zP1XugBCCeho",
        "outputId": "9f6eb66b-88f6-4f47-d54b-1660816f56c9"
      },
      "execution_count": null,
      "outputs": [
        {
          "output_type": "execute_result",
          "data": {
            "text/plain": [
              "      mpg  cylinders  displacement  horsepower  weight  acceleration  \\\n",
              "32   25.0          4          98.0         NaN    2046          19.0   \n",
              "126  21.0          6         200.0         NaN    2875          17.0   \n",
              "330  40.9          4          85.0         NaN    1835          17.3   \n",
              "336  23.6          4         140.0         NaN    2905          14.3   \n",
              "354  34.5          4         100.0         NaN    2320          15.8   \n",
              "374  23.0          4         151.0         NaN    3035          20.5   \n",
              "\n",
              "     model_year  origin                  name  \n",
              "32           71     usa            ford pinto  \n",
              "126          74     usa         ford maverick  \n",
              "330          80  europe  renault lecar deluxe  \n",
              "336          80     usa    ford mustang cobra  \n",
              "354          81  europe           renault 18i  \n",
              "374          82     usa        amc concord dl  "
            ],
            "text/html": [
              "\n",
              "  <div id=\"df-0e3815a4-b262-4175-8360-2d6acd8ea731\">\n",
              "    <div class=\"colab-df-container\">\n",
              "      <div>\n",
              "<style scoped>\n",
              "    .dataframe tbody tr th:only-of-type {\n",
              "        vertical-align: middle;\n",
              "    }\n",
              "\n",
              "    .dataframe tbody tr th {\n",
              "        vertical-align: top;\n",
              "    }\n",
              "\n",
              "    .dataframe thead th {\n",
              "        text-align: right;\n",
              "    }\n",
              "</style>\n",
              "<table border=\"1\" class=\"dataframe\">\n",
              "  <thead>\n",
              "    <tr style=\"text-align: right;\">\n",
              "      <th></th>\n",
              "      <th>mpg</th>\n",
              "      <th>cylinders</th>\n",
              "      <th>displacement</th>\n",
              "      <th>horsepower</th>\n",
              "      <th>weight</th>\n",
              "      <th>acceleration</th>\n",
              "      <th>model_year</th>\n",
              "      <th>origin</th>\n",
              "      <th>name</th>\n",
              "    </tr>\n",
              "  </thead>\n",
              "  <tbody>\n",
              "    <tr>\n",
              "      <th>32</th>\n",
              "      <td>25.0</td>\n",
              "      <td>4</td>\n",
              "      <td>98.0</td>\n",
              "      <td>NaN</td>\n",
              "      <td>2046</td>\n",
              "      <td>19.0</td>\n",
              "      <td>71</td>\n",
              "      <td>usa</td>\n",
              "      <td>ford pinto</td>\n",
              "    </tr>\n",
              "    <tr>\n",
              "      <th>126</th>\n",
              "      <td>21.0</td>\n",
              "      <td>6</td>\n",
              "      <td>200.0</td>\n",
              "      <td>NaN</td>\n",
              "      <td>2875</td>\n",
              "      <td>17.0</td>\n",
              "      <td>74</td>\n",
              "      <td>usa</td>\n",
              "      <td>ford maverick</td>\n",
              "    </tr>\n",
              "    <tr>\n",
              "      <th>330</th>\n",
              "      <td>40.9</td>\n",
              "      <td>4</td>\n",
              "      <td>85.0</td>\n",
              "      <td>NaN</td>\n",
              "      <td>1835</td>\n",
              "      <td>17.3</td>\n",
              "      <td>80</td>\n",
              "      <td>europe</td>\n",
              "      <td>renault lecar deluxe</td>\n",
              "    </tr>\n",
              "    <tr>\n",
              "      <th>336</th>\n",
              "      <td>23.6</td>\n",
              "      <td>4</td>\n",
              "      <td>140.0</td>\n",
              "      <td>NaN</td>\n",
              "      <td>2905</td>\n",
              "      <td>14.3</td>\n",
              "      <td>80</td>\n",
              "      <td>usa</td>\n",
              "      <td>ford mustang cobra</td>\n",
              "    </tr>\n",
              "    <tr>\n",
              "      <th>354</th>\n",
              "      <td>34.5</td>\n",
              "      <td>4</td>\n",
              "      <td>100.0</td>\n",
              "      <td>NaN</td>\n",
              "      <td>2320</td>\n",
              "      <td>15.8</td>\n",
              "      <td>81</td>\n",
              "      <td>europe</td>\n",
              "      <td>renault 18i</td>\n",
              "    </tr>\n",
              "    <tr>\n",
              "      <th>374</th>\n",
              "      <td>23.0</td>\n",
              "      <td>4</td>\n",
              "      <td>151.0</td>\n",
              "      <td>NaN</td>\n",
              "      <td>3035</td>\n",
              "      <td>20.5</td>\n",
              "      <td>82</td>\n",
              "      <td>usa</td>\n",
              "      <td>amc concord dl</td>\n",
              "    </tr>\n",
              "  </tbody>\n",
              "</table>\n",
              "</div>\n",
              "      <button class=\"colab-df-convert\" onclick=\"convertToInteractive('df-0e3815a4-b262-4175-8360-2d6acd8ea731')\"\n",
              "              title=\"Convert this dataframe to an interactive table.\"\n",
              "              style=\"display:none;\">\n",
              "        \n",
              "  <svg xmlns=\"http://www.w3.org/2000/svg\" height=\"24px\"viewBox=\"0 0 24 24\"\n",
              "       width=\"24px\">\n",
              "    <path d=\"M0 0h24v24H0V0z\" fill=\"none\"/>\n",
              "    <path d=\"M18.56 5.44l.94 2.06.94-2.06 2.06-.94-2.06-.94-.94-2.06-.94 2.06-2.06.94zm-11 1L8.5 8.5l.94-2.06 2.06-.94-2.06-.94L8.5 2.5l-.94 2.06-2.06.94zm10 10l.94 2.06.94-2.06 2.06-.94-2.06-.94-.94-2.06-.94 2.06-2.06.94z\"/><path d=\"M17.41 7.96l-1.37-1.37c-.4-.4-.92-.59-1.43-.59-.52 0-1.04.2-1.43.59L10.3 9.45l-7.72 7.72c-.78.78-.78 2.05 0 2.83L4 21.41c.39.39.9.59 1.41.59.51 0 1.02-.2 1.41-.59l7.78-7.78 2.81-2.81c.8-.78.8-2.07 0-2.86zM5.41 20L4 18.59l7.72-7.72 1.47 1.35L5.41 20z\"/>\n",
              "  </svg>\n",
              "      </button>\n",
              "      \n",
              "  <style>\n",
              "    .colab-df-container {\n",
              "      display:flex;\n",
              "      flex-wrap:wrap;\n",
              "      gap: 12px;\n",
              "    }\n",
              "\n",
              "    .colab-df-convert {\n",
              "      background-color: #E8F0FE;\n",
              "      border: none;\n",
              "      border-radius: 50%;\n",
              "      cursor: pointer;\n",
              "      display: none;\n",
              "      fill: #1967D2;\n",
              "      height: 32px;\n",
              "      padding: 0 0 0 0;\n",
              "      width: 32px;\n",
              "    }\n",
              "\n",
              "    .colab-df-convert:hover {\n",
              "      background-color: #E2EBFA;\n",
              "      box-shadow: 0px 1px 2px rgba(60, 64, 67, 0.3), 0px 1px 3px 1px rgba(60, 64, 67, 0.15);\n",
              "      fill: #174EA6;\n",
              "    }\n",
              "\n",
              "    [theme=dark] .colab-df-convert {\n",
              "      background-color: #3B4455;\n",
              "      fill: #D2E3FC;\n",
              "    }\n",
              "\n",
              "    [theme=dark] .colab-df-convert:hover {\n",
              "      background-color: #434B5C;\n",
              "      box-shadow: 0px 1px 3px 1px rgba(0, 0, 0, 0.15);\n",
              "      filter: drop-shadow(0px 1px 2px rgba(0, 0, 0, 0.3));\n",
              "      fill: #FFFFFF;\n",
              "    }\n",
              "  </style>\n",
              "\n",
              "      <script>\n",
              "        const buttonEl =\n",
              "          document.querySelector('#df-0e3815a4-b262-4175-8360-2d6acd8ea731 button.colab-df-convert');\n",
              "        buttonEl.style.display =\n",
              "          google.colab.kernel.accessAllowed ? 'block' : 'none';\n",
              "\n",
              "        async function convertToInteractive(key) {\n",
              "          const element = document.querySelector('#df-0e3815a4-b262-4175-8360-2d6acd8ea731');\n",
              "          const dataTable =\n",
              "            await google.colab.kernel.invokeFunction('convertToInteractive',\n",
              "                                                     [key], {});\n",
              "          if (!dataTable) return;\n",
              "\n",
              "          const docLinkHtml = 'Like what you see? Visit the ' +\n",
              "            '<a target=\"_blank\" href=https://colab.research.google.com/notebooks/data_table.ipynb>data table notebook</a>'\n",
              "            + ' to learn more about interactive tables.';\n",
              "          element.innerHTML = '';\n",
              "          dataTable['output_type'] = 'display_data';\n",
              "          await google.colab.output.renderOutput(dataTable, element);\n",
              "          const docLink = document.createElement('div');\n",
              "          docLink.innerHTML = docLinkHtml;\n",
              "          element.appendChild(docLink);\n",
              "        }\n",
              "      </script>\n",
              "    </div>\n",
              "  </div>\n",
              "  "
            ]
          },
          "metadata": {},
          "execution_count": 17
        }
      ]
    },
    {
      "cell_type": "code",
      "source": [
        "# proportion of nan rows in dataset\n",
        "6 / len(df)"
      ],
      "metadata": {
        "colab": {
          "base_uri": "https://localhost:8080/"
        },
        "id": "hTR45_8BCp4y",
        "outputId": "90e4cb60-88b2-4d7e-f4f7-e4951baf9ebc"
      },
      "execution_count": null,
      "outputs": [
        {
          "output_type": "execute_result",
          "data": {
            "text/plain": [
              "0.01507537688442211"
            ]
          },
          "metadata": {},
          "execution_count": 18
        }
      ]
    },
    {
      "cell_type": "code",
      "source": [
        "#Remove all rows with NaN values\n",
        "df.dropna(inplace=True)\n",
        "\n",
        "#Reset index and drop old index column\n",
        "df.reset_index(drop=True, inplace=True)\n",
        "\n",
        "#Print new shape of the dataframe\n",
        "print(f\"New shape of the dataframe after removing NaN rows: {df.shape}\")"
      ],
      "metadata": {
        "colab": {
          "base_uri": "https://localhost:8080/"
        },
        "id": "0wUmve75DNER",
        "outputId": "efc4a332-cf6c-4513-ed85-a11de1390738"
      },
      "execution_count": null,
      "outputs": [
        {
          "output_type": "stream",
          "name": "stdout",
          "text": [
            "New shape of the dataframe after removing NaN rows: (392, 9)\n"
          ]
        }
      ]
    },
    {
      "cell_type": "code",
      "source": [
        "# find total duplicate entries and drop them if any\n",
        "print(f\"Total duplicate rows: {df.duplicated().sum()}\")\n",
        "\n",
        "# drop duplicate rows if any\n",
        "df = df[~df.duplicated()]\n",
        "df.shape\n",
        "\n",
        "if df.duplicated().sum() == 0:\n",
        "    print(\"No duplicates found. DataFrame is ready for analysis.\")\n",
        "else:\n",
        "    print(\"Duplicates removed. DataFrame is ready for analysis.\")\n"
      ],
      "metadata": {
        "colab": {
          "base_uri": "https://localhost:8080/"
        },
        "id": "AKYEOXnrDcao",
        "outputId": "19fa6852-2a09-484c-af9c-8fb7b4eb3b96"
      },
      "execution_count": null,
      "outputs": [
        {
          "output_type": "stream",
          "name": "stdout",
          "text": [
            "Total duplicate rows: 0\n",
            "No duplicates found. DataFrame is ready for analysis.\n"
          ]
        }
      ]
    },
    {
      "cell_type": "code",
      "source": [
        "# remove extra spaces if any\n",
        "for col in ['origin', 'name']:\n",
        "    df[col] = df[col].str.strip()\n"
      ],
      "metadata": {
        "id": "r9odxnQ6Dxn4"
      },
      "execution_count": null,
      "outputs": []
    },
    {
      "cell_type": "code",
      "source": [
        "# Create a new feature 'mpg_level' based on the 'mpg' column\n",
        "df['mpg_level'] = df['mpg'].apply(lambda x: 'low' if x<17 else 'high' if x>29 else 'medium')\n",
        "\n",
        "# Add 'mpg_level' to the list of categorical variables\n",
        "cats.append('mpg_level')\n",
        "\n",
        "# Print the updated list of categorical variables\n",
        "print(f'Categorical variables: {cats}')\n"
      ],
      "metadata": {
        "colab": {
          "base_uri": "https://localhost:8080/"
        },
        "id": "Wv72yMdsD4YS",
        "outputId": "51bee6ce-aa22-4b72-f8d7-57f4f87e134d"
      },
      "execution_count": null,
      "outputs": [
        {
          "output_type": "stream",
          "name": "stdout",
          "text": [
            "Categorical variables: ['origin', 'name', 'cylinders', 'model_year', 'mpg_level']\n"
          ]
        }
      ]
    },
    {
      "cell_type": "code",
      "source": [
        "# Combine all categorical and numerical variables into a single dataframe\n",
        "df = pd.concat((df[cats], df[nums]), axis=1)\n",
        "df.head(1)\n"
      ],
      "metadata": {
        "colab": {
          "base_uri": "https://localhost:8080/",
          "height": 81
        },
        "id": "xJWahUHXEAvh",
        "outputId": "e1f4d539-9251-4073-f037-607b0a6be53e"
      },
      "execution_count": null,
      "outputs": [
        {
          "output_type": "execute_result",
          "data": {
            "text/plain": [
              "  origin                       name  cylinders  model_year mpg_level   mpg  \\\n",
              "0    usa  chevrolet chevelle malibu          8          70    medium  18.0   \n",
              "\n",
              "   displacement  horsepower  weight  acceleration  \n",
              "0         307.0       130.0    3504          12.0  "
            ],
            "text/html": [
              "\n",
              "  <div id=\"df-d56350a3-55a5-4d52-83ba-c31ad5172df5\">\n",
              "    <div class=\"colab-df-container\">\n",
              "      <div>\n",
              "<style scoped>\n",
              "    .dataframe tbody tr th:only-of-type {\n",
              "        vertical-align: middle;\n",
              "    }\n",
              "\n",
              "    .dataframe tbody tr th {\n",
              "        vertical-align: top;\n",
              "    }\n",
              "\n",
              "    .dataframe thead th {\n",
              "        text-align: right;\n",
              "    }\n",
              "</style>\n",
              "<table border=\"1\" class=\"dataframe\">\n",
              "  <thead>\n",
              "    <tr style=\"text-align: right;\">\n",
              "      <th></th>\n",
              "      <th>origin</th>\n",
              "      <th>name</th>\n",
              "      <th>cylinders</th>\n",
              "      <th>model_year</th>\n",
              "      <th>mpg_level</th>\n",
              "      <th>mpg</th>\n",
              "      <th>displacement</th>\n",
              "      <th>horsepower</th>\n",
              "      <th>weight</th>\n",
              "      <th>acceleration</th>\n",
              "    </tr>\n",
              "  </thead>\n",
              "  <tbody>\n",
              "    <tr>\n",
              "      <th>0</th>\n",
              "      <td>usa</td>\n",
              "      <td>chevrolet chevelle malibu</td>\n",
              "      <td>8</td>\n",
              "      <td>70</td>\n",
              "      <td>medium</td>\n",
              "      <td>18.0</td>\n",
              "      <td>307.0</td>\n",
              "      <td>130.0</td>\n",
              "      <td>3504</td>\n",
              "      <td>12.0</td>\n",
              "    </tr>\n",
              "  </tbody>\n",
              "</table>\n",
              "</div>\n",
              "      <button class=\"colab-df-convert\" onclick=\"convertToInteractive('df-d56350a3-55a5-4d52-83ba-c31ad5172df5')\"\n",
              "              title=\"Convert this dataframe to an interactive table.\"\n",
              "              style=\"display:none;\">\n",
              "        \n",
              "  <svg xmlns=\"http://www.w3.org/2000/svg\" height=\"24px\"viewBox=\"0 0 24 24\"\n",
              "       width=\"24px\">\n",
              "    <path d=\"M0 0h24v24H0V0z\" fill=\"none\"/>\n",
              "    <path d=\"M18.56 5.44l.94 2.06.94-2.06 2.06-.94-2.06-.94-.94-2.06-.94 2.06-2.06.94zm-11 1L8.5 8.5l.94-2.06 2.06-.94-2.06-.94L8.5 2.5l-.94 2.06-2.06.94zm10 10l.94 2.06.94-2.06 2.06-.94-2.06-.94-.94-2.06-.94 2.06-2.06.94z\"/><path d=\"M17.41 7.96l-1.37-1.37c-.4-.4-.92-.59-1.43-.59-.52 0-1.04.2-1.43.59L10.3 9.45l-7.72 7.72c-.78.78-.78 2.05 0 2.83L4 21.41c.39.39.9.59 1.41.59.51 0 1.02-.2 1.41-.59l7.78-7.78 2.81-2.81c.8-.78.8-2.07 0-2.86zM5.41 20L4 18.59l7.72-7.72 1.47 1.35L5.41 20z\"/>\n",
              "  </svg>\n",
              "      </button>\n",
              "      \n",
              "  <style>\n",
              "    .colab-df-container {\n",
              "      display:flex;\n",
              "      flex-wrap:wrap;\n",
              "      gap: 12px;\n",
              "    }\n",
              "\n",
              "    .colab-df-convert {\n",
              "      background-color: #E8F0FE;\n",
              "      border: none;\n",
              "      border-radius: 50%;\n",
              "      cursor: pointer;\n",
              "      display: none;\n",
              "      fill: #1967D2;\n",
              "      height: 32px;\n",
              "      padding: 0 0 0 0;\n",
              "      width: 32px;\n",
              "    }\n",
              "\n",
              "    .colab-df-convert:hover {\n",
              "      background-color: #E2EBFA;\n",
              "      box-shadow: 0px 1px 2px rgba(60, 64, 67, 0.3), 0px 1px 3px 1px rgba(60, 64, 67, 0.15);\n",
              "      fill: #174EA6;\n",
              "    }\n",
              "\n",
              "    [theme=dark] .colab-df-convert {\n",
              "      background-color: #3B4455;\n",
              "      fill: #D2E3FC;\n",
              "    }\n",
              "\n",
              "    [theme=dark] .colab-df-convert:hover {\n",
              "      background-color: #434B5C;\n",
              "      box-shadow: 0px 1px 3px 1px rgba(0, 0, 0, 0.15);\n",
              "      filter: drop-shadow(0px 1px 2px rgba(0, 0, 0, 0.3));\n",
              "      fill: #FFFFFF;\n",
              "    }\n",
              "  </style>\n",
              "\n",
              "      <script>\n",
              "        const buttonEl =\n",
              "          document.querySelector('#df-d56350a3-55a5-4d52-83ba-c31ad5172df5 button.colab-df-convert');\n",
              "        buttonEl.style.display =\n",
              "          google.colab.kernel.accessAllowed ? 'block' : 'none';\n",
              "\n",
              "        async function convertToInteractive(key) {\n",
              "          const element = document.querySelector('#df-d56350a3-55a5-4d52-83ba-c31ad5172df5');\n",
              "          const dataTable =\n",
              "            await google.colab.kernel.invokeFunction('convertToInteractive',\n",
              "                                                     [key], {});\n",
              "          if (!dataTable) return;\n",
              "\n",
              "          const docLinkHtml = 'Like what you see? Visit the ' +\n",
              "            '<a target=\"_blank\" href=https://colab.research.google.com/notebooks/data_table.ipynb>data table notebook</a>'\n",
              "            + ' to learn more about interactive tables.';\n",
              "          element.innerHTML = '';\n",
              "          dataTable['output_type'] = 'display_data';\n",
              "          await google.colab.output.renderOutput(dataTable, element);\n",
              "          const docLink = document.createElement('div');\n",
              "          docLink.innerHTML = docLinkHtml;\n",
              "          element.appendChild(docLink);\n",
              "        }\n",
              "      </script>\n",
              "    </div>\n",
              "  </div>\n",
              "  "
            ]
          },
          "metadata": {},
          "execution_count": 24
        }
      ]
    },
    {
      "cell_type": "markdown",
      "source": [
        "# **Section 1. Statistical Analysis for Categorical Attributes**"
      ],
      "metadata": {
        "id": "_y9_tiBuEFtT"
      }
    },
    {
      "cell_type": "code",
      "source": [
        "ALPHA = 0.05"
      ],
      "metadata": {
        "id": "en05KNnLFlLX"
      },
      "execution_count": null,
      "outputs": []
    },
    {
      "cell_type": "markdown",
      "source": [
        "Although the chi-square assumption failed for every pair, we can still apply it to some extent. However, the results obtained may not be entirely reliable. However, the contingency table of origin and model_year is suitable for testing since most values are greater than or equal to 5.\n",
        "\n",
        "We can formulate our hypothesis test as follows:\n",
        "\n",
        "   H0: The origin and model_year are independent.\n",
        "       α=0.05"
      ],
      "metadata": {
        "id": "jETujM-UHBPv"
      }
    },
    {
      "cell_type": "code",
      "source": [
        "# Create a contingency table (aka frequency table) of origin and model_year\n",
        "contingency_table = pd.crosstab(df.origin, df.model_year)\n",
        "\n",
        "# Print the contingency table\n",
        "print(\"Contingency Table (Frequency Table) of Origin and Model Year:\\n\")\n",
        "contingency_table\n"
      ],
      "metadata": {
        "colab": {
          "base_uri": "https://localhost:8080/",
          "height": 211
        },
        "id": "jO2ZgwrBHhuy",
        "outputId": "501851d9-a0f4-4d9b-e56d-af70e8aa8b09"
      },
      "execution_count": null,
      "outputs": [
        {
          "output_type": "stream",
          "name": "stdout",
          "text": [
            "Contingency Table (Frequency Table) of Origin and Model Year:\n",
            "\n"
          ]
        },
        {
          "output_type": "execute_result",
          "data": {
            "text/plain": [
              "model_year  70  71  72  73  74  75  76  77  78  79  80  81  82\n",
              "origin                                                        \n",
              "europe       5   4   5   7   6   6   8   4   6   4   8   3   2\n",
              "japan        2   4   5   4   6   4   4   6   8   2  13  12   9\n",
              "usa         22  19  18  29  14  20  22  18  22  23   6  13  19"
            ],
            "text/html": [
              "\n",
              "  <div id=\"df-9598a9e6-b3c3-47bd-86c0-202c46615cad\">\n",
              "    <div class=\"colab-df-container\">\n",
              "      <div>\n",
              "<style scoped>\n",
              "    .dataframe tbody tr th:only-of-type {\n",
              "        vertical-align: middle;\n",
              "    }\n",
              "\n",
              "    .dataframe tbody tr th {\n",
              "        vertical-align: top;\n",
              "    }\n",
              "\n",
              "    .dataframe thead th {\n",
              "        text-align: right;\n",
              "    }\n",
              "</style>\n",
              "<table border=\"1\" class=\"dataframe\">\n",
              "  <thead>\n",
              "    <tr style=\"text-align: right;\">\n",
              "      <th>model_year</th>\n",
              "      <th>70</th>\n",
              "      <th>71</th>\n",
              "      <th>72</th>\n",
              "      <th>73</th>\n",
              "      <th>74</th>\n",
              "      <th>75</th>\n",
              "      <th>76</th>\n",
              "      <th>77</th>\n",
              "      <th>78</th>\n",
              "      <th>79</th>\n",
              "      <th>80</th>\n",
              "      <th>81</th>\n",
              "      <th>82</th>\n",
              "    </tr>\n",
              "    <tr>\n",
              "      <th>origin</th>\n",
              "      <th></th>\n",
              "      <th></th>\n",
              "      <th></th>\n",
              "      <th></th>\n",
              "      <th></th>\n",
              "      <th></th>\n",
              "      <th></th>\n",
              "      <th></th>\n",
              "      <th></th>\n",
              "      <th></th>\n",
              "      <th></th>\n",
              "      <th></th>\n",
              "      <th></th>\n",
              "    </tr>\n",
              "  </thead>\n",
              "  <tbody>\n",
              "    <tr>\n",
              "      <th>europe</th>\n",
              "      <td>5</td>\n",
              "      <td>4</td>\n",
              "      <td>5</td>\n",
              "      <td>7</td>\n",
              "      <td>6</td>\n",
              "      <td>6</td>\n",
              "      <td>8</td>\n",
              "      <td>4</td>\n",
              "      <td>6</td>\n",
              "      <td>4</td>\n",
              "      <td>8</td>\n",
              "      <td>3</td>\n",
              "      <td>2</td>\n",
              "    </tr>\n",
              "    <tr>\n",
              "      <th>japan</th>\n",
              "      <td>2</td>\n",
              "      <td>4</td>\n",
              "      <td>5</td>\n",
              "      <td>4</td>\n",
              "      <td>6</td>\n",
              "      <td>4</td>\n",
              "      <td>4</td>\n",
              "      <td>6</td>\n",
              "      <td>8</td>\n",
              "      <td>2</td>\n",
              "      <td>13</td>\n",
              "      <td>12</td>\n",
              "      <td>9</td>\n",
              "    </tr>\n",
              "    <tr>\n",
              "      <th>usa</th>\n",
              "      <td>22</td>\n",
              "      <td>19</td>\n",
              "      <td>18</td>\n",
              "      <td>29</td>\n",
              "      <td>14</td>\n",
              "      <td>20</td>\n",
              "      <td>22</td>\n",
              "      <td>18</td>\n",
              "      <td>22</td>\n",
              "      <td>23</td>\n",
              "      <td>6</td>\n",
              "      <td>13</td>\n",
              "      <td>19</td>\n",
              "    </tr>\n",
              "  </tbody>\n",
              "</table>\n",
              "</div>\n",
              "      <button class=\"colab-df-convert\" onclick=\"convertToInteractive('df-9598a9e6-b3c3-47bd-86c0-202c46615cad')\"\n",
              "              title=\"Convert this dataframe to an interactive table.\"\n",
              "              style=\"display:none;\">\n",
              "        \n",
              "  <svg xmlns=\"http://www.w3.org/2000/svg\" height=\"24px\"viewBox=\"0 0 24 24\"\n",
              "       width=\"24px\">\n",
              "    <path d=\"M0 0h24v24H0V0z\" fill=\"none\"/>\n",
              "    <path d=\"M18.56 5.44l.94 2.06.94-2.06 2.06-.94-2.06-.94-.94-2.06-.94 2.06-2.06.94zm-11 1L8.5 8.5l.94-2.06 2.06-.94-2.06-.94L8.5 2.5l-.94 2.06-2.06.94zm10 10l.94 2.06.94-2.06 2.06-.94-2.06-.94-.94-2.06-.94 2.06-2.06.94z\"/><path d=\"M17.41 7.96l-1.37-1.37c-.4-.4-.92-.59-1.43-.59-.52 0-1.04.2-1.43.59L10.3 9.45l-7.72 7.72c-.78.78-.78 2.05 0 2.83L4 21.41c.39.39.9.59 1.41.59.51 0 1.02-.2 1.41-.59l7.78-7.78 2.81-2.81c.8-.78.8-2.07 0-2.86zM5.41 20L4 18.59l7.72-7.72 1.47 1.35L5.41 20z\"/>\n",
              "  </svg>\n",
              "      </button>\n",
              "      \n",
              "  <style>\n",
              "    .colab-df-container {\n",
              "      display:flex;\n",
              "      flex-wrap:wrap;\n",
              "      gap: 12px;\n",
              "    }\n",
              "\n",
              "    .colab-df-convert {\n",
              "      background-color: #E8F0FE;\n",
              "      border: none;\n",
              "      border-radius: 50%;\n",
              "      cursor: pointer;\n",
              "      display: none;\n",
              "      fill: #1967D2;\n",
              "      height: 32px;\n",
              "      padding: 0 0 0 0;\n",
              "      width: 32px;\n",
              "    }\n",
              "\n",
              "    .colab-df-convert:hover {\n",
              "      background-color: #E2EBFA;\n",
              "      box-shadow: 0px 1px 2px rgba(60, 64, 67, 0.3), 0px 1px 3px 1px rgba(60, 64, 67, 0.15);\n",
              "      fill: #174EA6;\n",
              "    }\n",
              "\n",
              "    [theme=dark] .colab-df-convert {\n",
              "      background-color: #3B4455;\n",
              "      fill: #D2E3FC;\n",
              "    }\n",
              "\n",
              "    [theme=dark] .colab-df-convert:hover {\n",
              "      background-color: #434B5C;\n",
              "      box-shadow: 0px 1px 3px 1px rgba(0, 0, 0, 0.15);\n",
              "      filter: drop-shadow(0px 1px 2px rgba(0, 0, 0, 0.3));\n",
              "      fill: #FFFFFF;\n",
              "    }\n",
              "  </style>\n",
              "\n",
              "      <script>\n",
              "        const buttonEl =\n",
              "          document.querySelector('#df-9598a9e6-b3c3-47bd-86c0-202c46615cad button.colab-df-convert');\n",
              "        buttonEl.style.display =\n",
              "          google.colab.kernel.accessAllowed ? 'block' : 'none';\n",
              "\n",
              "        async function convertToInteractive(key) {\n",
              "          const element = document.querySelector('#df-9598a9e6-b3c3-47bd-86c0-202c46615cad');\n",
              "          const dataTable =\n",
              "            await google.colab.kernel.invokeFunction('convertToInteractive',\n",
              "                                                     [key], {});\n",
              "          if (!dataTable) return;\n",
              "\n",
              "          const docLinkHtml = 'Like what you see? Visit the ' +\n",
              "            '<a target=\"_blank\" href=https://colab.research.google.com/notebooks/data_table.ipynb>data table notebook</a>'\n",
              "            + ' to learn more about interactive tables.';\n",
              "          element.innerHTML = '';\n",
              "          dataTable['output_type'] = 'display_data';\n",
              "          await google.colab.output.renderOutput(dataTable, element);\n",
              "          const docLink = document.createElement('div');\n",
              "          docLink.innerHTML = docLinkHtml;\n",
              "          element.appendChild(docLink);\n",
              "        }\n",
              "      </script>\n",
              "    </div>\n",
              "  </div>\n",
              "  "
            ]
          },
          "metadata": {},
          "execution_count": 31
        }
      ]
    },
    {
      "cell_type": "code",
      "source": [
        "# Calculate the observed values for chi-squared test\n",
        "observed_values = pd.crosstab(df.origin, df.mpg_level).values\n",
        "print(\"Observed values:\\n\", observed_values)\n"
      ],
      "metadata": {
        "colab": {
          "base_uri": "https://localhost:8080/"
        },
        "id": "Bugmg57EHEG_",
        "outputId": "a0175142-ef4f-4b7e-fea7-8545ae60a4b2"
      },
      "execution_count": null,
      "outputs": [
        {
          "output_type": "stream",
          "name": "stdout",
          "text": [
            "Observed values:\n",
            " [[ 22   2  44]\n",
            " [ 49   0  30]\n",
            " [ 24  90 131]]\n"
          ]
        }
      ]
    },
    {
      "cell_type": "code",
      "source": [
        "# Compute chi-square test of independence\n",
        "chi2, p, dof, expected_values = st.chi2_contingency(observed_values)\n",
        "\n",
        "# Print results\n",
        "print(f\"Chi-square statistic: {chi2:.2f}\")\n",
        "print(f\"P-value: {p:.4f}\")\n",
        "print(f\"Degrees of freedom: {dof}\")\n",
        "print(\"Expected values:\")\n",
        "print(expected_values.round(2))\n"
      ],
      "metadata": {
        "colab": {
          "base_uri": "https://localhost:8080/"
        },
        "id": "GBw_sVayH5Wx",
        "outputId": "42ae33c1-047d-4866-aa49-45e80b3d7ee5"
      },
      "execution_count": null,
      "outputs": [
        {
          "output_type": "stream",
          "name": "stdout",
          "text": [
            "Chi-square statistic: 123.76\n",
            "P-value: 0.0000\n",
            "Degrees of freedom: 4\n",
            "Expected values:\n",
            "[[ 16.48  15.96  35.56]\n",
            " [ 19.15  18.54  41.31]\n",
            " [ 59.38  57.5  128.12]]\n"
          ]
        }
      ]
    },
    {
      "cell_type": "markdown",
      "source": [
        "Based on the p-value of 0.000 under the significance level of 0.05, we reject the null hypothesis that `origin` and `model_year` are independent. Therefore, we conclude that there is a statistically significant relationship between these two variables.\n"
      ],
      "metadata": {
        "id": "bsdV_5MzIXJn"
      }
    },
    {
      "cell_type": "code",
      "source": [
        "if p <= ALPHA:\n",
        "    print(f'Based on the p-value of {p:.3f} under the significance level of {ALPHA}, we reject the null hypothesis that `origin` and `model_year` are independent. Therefore, we conclude that there is a statistically significant relationship between these two variables.')\n",
        "else:\n",
        "    print(f'Based on the p-value of {p:.3f} under the significance level of {ALPHA}, we fail to reject the null hypothesis that `origin` and `model_year` are independent. Therefore, we do not have enough evidence to conclude that there is a significant relationship between these two variables.')\n"
      ],
      "metadata": {
        "colab": {
          "base_uri": "https://localhost:8080/"
        },
        "id": "ER-M2KxyIK0O",
        "outputId": "abaf7be2-70ad-438d-a38b-73bb189d781b"
      },
      "execution_count": null,
      "outputs": [
        {
          "output_type": "stream",
          "name": "stdout",
          "text": [
            "Based on the p-value of 0.000 under the significance level of 0.05, we reject the null hypothesis that `origin` and `model_year` are independent. Therefore, we conclude that there is a statistically significant relationship between these two variables.\n"
          ]
        }
      ]
    },
    {
      "cell_type": "markdown",
      "source": [
        "In below we want to use chi2 test available in SkLearn"
      ],
      "metadata": {
        "id": "57UX5ki-IpZW"
      }
    },
    {
      "cell_type": "code",
      "source": [
        "# Apply label encoding to origin and mpg_level columns\n",
        "df_cat_label = df.loc[:, ['origin', 'mpg_level']].apply(LabelEncoder().fit_transform)\n",
        "\n",
        "# Combine encoded columns with the rest of the categorical columns\n",
        "df_cat_label = pd.concat([df_cat_label, df.loc[:, 'cylinders':'model_year']], axis=1)\n",
        "\n",
        "# Display the first few rows of the new dataframe\n",
        "df_cat_label.head()\n"
      ],
      "metadata": {
        "colab": {
          "base_uri": "https://localhost:8080/",
          "height": 206
        },
        "id": "JZphlHe_If7R",
        "outputId": "ae857248-2247-4d81-c791-822fe1833cb2"
      },
      "execution_count": null,
      "outputs": [
        {
          "output_type": "execute_result",
          "data": {
            "text/plain": [
              "   origin  mpg_level  cylinders  model_year\n",
              "0       2          2          8          70\n",
              "1       2          1          8          70\n",
              "2       2          2          8          70\n",
              "3       2          1          8          70\n",
              "4       2          2          8          70"
            ],
            "text/html": [
              "\n",
              "  <div id=\"df-27abc3c3-98ea-4563-825e-b685c725dcf2\">\n",
              "    <div class=\"colab-df-container\">\n",
              "      <div>\n",
              "<style scoped>\n",
              "    .dataframe tbody tr th:only-of-type {\n",
              "        vertical-align: middle;\n",
              "    }\n",
              "\n",
              "    .dataframe tbody tr th {\n",
              "        vertical-align: top;\n",
              "    }\n",
              "\n",
              "    .dataframe thead th {\n",
              "        text-align: right;\n",
              "    }\n",
              "</style>\n",
              "<table border=\"1\" class=\"dataframe\">\n",
              "  <thead>\n",
              "    <tr style=\"text-align: right;\">\n",
              "      <th></th>\n",
              "      <th>origin</th>\n",
              "      <th>mpg_level</th>\n",
              "      <th>cylinders</th>\n",
              "      <th>model_year</th>\n",
              "    </tr>\n",
              "  </thead>\n",
              "  <tbody>\n",
              "    <tr>\n",
              "      <th>0</th>\n",
              "      <td>2</td>\n",
              "      <td>2</td>\n",
              "      <td>8</td>\n",
              "      <td>70</td>\n",
              "    </tr>\n",
              "    <tr>\n",
              "      <th>1</th>\n",
              "      <td>2</td>\n",
              "      <td>1</td>\n",
              "      <td>8</td>\n",
              "      <td>70</td>\n",
              "    </tr>\n",
              "    <tr>\n",
              "      <th>2</th>\n",
              "      <td>2</td>\n",
              "      <td>2</td>\n",
              "      <td>8</td>\n",
              "      <td>70</td>\n",
              "    </tr>\n",
              "    <tr>\n",
              "      <th>3</th>\n",
              "      <td>2</td>\n",
              "      <td>1</td>\n",
              "      <td>8</td>\n",
              "      <td>70</td>\n",
              "    </tr>\n",
              "    <tr>\n",
              "      <th>4</th>\n",
              "      <td>2</td>\n",
              "      <td>2</td>\n",
              "      <td>8</td>\n",
              "      <td>70</td>\n",
              "    </tr>\n",
              "  </tbody>\n",
              "</table>\n",
              "</div>\n",
              "      <button class=\"colab-df-convert\" onclick=\"convertToInteractive('df-27abc3c3-98ea-4563-825e-b685c725dcf2')\"\n",
              "              title=\"Convert this dataframe to an interactive table.\"\n",
              "              style=\"display:none;\">\n",
              "        \n",
              "  <svg xmlns=\"http://www.w3.org/2000/svg\" height=\"24px\"viewBox=\"0 0 24 24\"\n",
              "       width=\"24px\">\n",
              "    <path d=\"M0 0h24v24H0V0z\" fill=\"none\"/>\n",
              "    <path d=\"M18.56 5.44l.94 2.06.94-2.06 2.06-.94-2.06-.94-.94-2.06-.94 2.06-2.06.94zm-11 1L8.5 8.5l.94-2.06 2.06-.94-2.06-.94L8.5 2.5l-.94 2.06-2.06.94zm10 10l.94 2.06.94-2.06 2.06-.94-2.06-.94-.94-2.06-.94 2.06-2.06.94z\"/><path d=\"M17.41 7.96l-1.37-1.37c-.4-.4-.92-.59-1.43-.59-.52 0-1.04.2-1.43.59L10.3 9.45l-7.72 7.72c-.78.78-.78 2.05 0 2.83L4 21.41c.39.39.9.59 1.41.59.51 0 1.02-.2 1.41-.59l7.78-7.78 2.81-2.81c.8-.78.8-2.07 0-2.86zM5.41 20L4 18.59l7.72-7.72 1.47 1.35L5.41 20z\"/>\n",
              "  </svg>\n",
              "      </button>\n",
              "      \n",
              "  <style>\n",
              "    .colab-df-container {\n",
              "      display:flex;\n",
              "      flex-wrap:wrap;\n",
              "      gap: 12px;\n",
              "    }\n",
              "\n",
              "    .colab-df-convert {\n",
              "      background-color: #E8F0FE;\n",
              "      border: none;\n",
              "      border-radius: 50%;\n",
              "      cursor: pointer;\n",
              "      display: none;\n",
              "      fill: #1967D2;\n",
              "      height: 32px;\n",
              "      padding: 0 0 0 0;\n",
              "      width: 32px;\n",
              "    }\n",
              "\n",
              "    .colab-df-convert:hover {\n",
              "      background-color: #E2EBFA;\n",
              "      box-shadow: 0px 1px 2px rgba(60, 64, 67, 0.3), 0px 1px 3px 1px rgba(60, 64, 67, 0.15);\n",
              "      fill: #174EA6;\n",
              "    }\n",
              "\n",
              "    [theme=dark] .colab-df-convert {\n",
              "      background-color: #3B4455;\n",
              "      fill: #D2E3FC;\n",
              "    }\n",
              "\n",
              "    [theme=dark] .colab-df-convert:hover {\n",
              "      background-color: #434B5C;\n",
              "      box-shadow: 0px 1px 3px 1px rgba(0, 0, 0, 0.15);\n",
              "      filter: drop-shadow(0px 1px 2px rgba(0, 0, 0, 0.3));\n",
              "      fill: #FFFFFF;\n",
              "    }\n",
              "  </style>\n",
              "\n",
              "      <script>\n",
              "        const buttonEl =\n",
              "          document.querySelector('#df-27abc3c3-98ea-4563-825e-b685c725dcf2 button.colab-df-convert');\n",
              "        buttonEl.style.display =\n",
              "          google.colab.kernel.accessAllowed ? 'block' : 'none';\n",
              "\n",
              "        async function convertToInteractive(key) {\n",
              "          const element = document.querySelector('#df-27abc3c3-98ea-4563-825e-b685c725dcf2');\n",
              "          const dataTable =\n",
              "            await google.colab.kernel.invokeFunction('convertToInteractive',\n",
              "                                                     [key], {});\n",
              "          if (!dataTable) return;\n",
              "\n",
              "          const docLinkHtml = 'Like what you see? Visit the ' +\n",
              "            '<a target=\"_blank\" href=https://colab.research.google.com/notebooks/data_table.ipynb>data table notebook</a>'\n",
              "            + ' to learn more about interactive tables.';\n",
              "          element.innerHTML = '';\n",
              "          dataTable['output_type'] = 'display_data';\n",
              "          await google.colab.output.renderOutput(dataTable, element);\n",
              "          const docLink = document.createElement('div');\n",
              "          docLink.innerHTML = docLinkHtml;\n",
              "          element.appendChild(docLink);\n",
              "        }\n",
              "      </script>\n",
              "    </div>\n",
              "  </div>\n",
              "  "
            ]
          },
          "metadata": {},
          "execution_count": 38
        }
      ]
    },
    {
      "cell_type": "code",
      "source": [
        "# Perform chi-square test for each categorical feature against mpg_level\n",
        "chi2_res = feature_selection.chi2(df_cat_label, df.mpg_level)\n",
        "\n",
        "# Create a dataframe to store the results\n",
        "df_chi2 = pd.DataFrame({\n",
        "    'Feature 1': 'mpg_level',\n",
        "    'Feature 2': df_cat_label.columns,\n",
        "    'Chi-square': chi2_res[0],\n",
        "    'p-value': chi2_res[1],\n",
        "    'Alpha': ALPHA\n",
        "})\n",
        "\n",
        "# Determine whether to reject or fail to reject null hypothesis\n",
        "df_chi2['H0'] = df_chi2['p-value'].apply(lambda x: 'Rejected' if x <= ALPHA else 'Fail to reject')\n",
        "\n",
        "# Classify features as dependent or independent based on the null hypothesis\n",
        "df_chi2['Relation'] = df_chi2['H0'].apply(lambda x: 'Dependent' if x == 'Rejected' else 'Independent')\n",
        "\n",
        "# Display the results\n",
        "df_chi2\n"
      ],
      "metadata": {
        "colab": {
          "base_uri": "https://localhost:8080/",
          "height": 175
        },
        "id": "yFQRZAIkJA_-",
        "outputId": "8b526728-4b95-47a0-e6f3-d0f40e347b47"
      },
      "execution_count": null,
      "outputs": [
        {
          "output_type": "execute_result",
          "data": {
            "text/plain": [
              "   Feature 1   Feature 2  Chi-square       p-value  Alpha        H0   Relation\n",
              "0  mpg_level      origin   28.395578  6.823049e-07   0.05  Rejected  Dependent\n",
              "1  mpg_level   mpg_level  210.159363  2.314591e-46   0.05  Rejected  Dependent\n",
              "2  mpg_level   cylinders  127.418999  2.144450e-28   0.05  Rejected  Dependent\n",
              "3  mpg_level  model_year   21.742075  1.900065e-05   0.05  Rejected  Dependent"
            ],
            "text/html": [
              "\n",
              "  <div id=\"df-396fdcf1-f9c1-48df-afc1-c525d16badd4\">\n",
              "    <div class=\"colab-df-container\">\n",
              "      <div>\n",
              "<style scoped>\n",
              "    .dataframe tbody tr th:only-of-type {\n",
              "        vertical-align: middle;\n",
              "    }\n",
              "\n",
              "    .dataframe tbody tr th {\n",
              "        vertical-align: top;\n",
              "    }\n",
              "\n",
              "    .dataframe thead th {\n",
              "        text-align: right;\n",
              "    }\n",
              "</style>\n",
              "<table border=\"1\" class=\"dataframe\">\n",
              "  <thead>\n",
              "    <tr style=\"text-align: right;\">\n",
              "      <th></th>\n",
              "      <th>Feature 1</th>\n",
              "      <th>Feature 2</th>\n",
              "      <th>Chi-square</th>\n",
              "      <th>p-value</th>\n",
              "      <th>Alpha</th>\n",
              "      <th>H0</th>\n",
              "      <th>Relation</th>\n",
              "    </tr>\n",
              "  </thead>\n",
              "  <tbody>\n",
              "    <tr>\n",
              "      <th>0</th>\n",
              "      <td>mpg_level</td>\n",
              "      <td>origin</td>\n",
              "      <td>28.395578</td>\n",
              "      <td>6.823049e-07</td>\n",
              "      <td>0.05</td>\n",
              "      <td>Rejected</td>\n",
              "      <td>Dependent</td>\n",
              "    </tr>\n",
              "    <tr>\n",
              "      <th>1</th>\n",
              "      <td>mpg_level</td>\n",
              "      <td>mpg_level</td>\n",
              "      <td>210.159363</td>\n",
              "      <td>2.314591e-46</td>\n",
              "      <td>0.05</td>\n",
              "      <td>Rejected</td>\n",
              "      <td>Dependent</td>\n",
              "    </tr>\n",
              "    <tr>\n",
              "      <th>2</th>\n",
              "      <td>mpg_level</td>\n",
              "      <td>cylinders</td>\n",
              "      <td>127.418999</td>\n",
              "      <td>2.144450e-28</td>\n",
              "      <td>0.05</td>\n",
              "      <td>Rejected</td>\n",
              "      <td>Dependent</td>\n",
              "    </tr>\n",
              "    <tr>\n",
              "      <th>3</th>\n",
              "      <td>mpg_level</td>\n",
              "      <td>model_year</td>\n",
              "      <td>21.742075</td>\n",
              "      <td>1.900065e-05</td>\n",
              "      <td>0.05</td>\n",
              "      <td>Rejected</td>\n",
              "      <td>Dependent</td>\n",
              "    </tr>\n",
              "  </tbody>\n",
              "</table>\n",
              "</div>\n",
              "      <button class=\"colab-df-convert\" onclick=\"convertToInteractive('df-396fdcf1-f9c1-48df-afc1-c525d16badd4')\"\n",
              "              title=\"Convert this dataframe to an interactive table.\"\n",
              "              style=\"display:none;\">\n",
              "        \n",
              "  <svg xmlns=\"http://www.w3.org/2000/svg\" height=\"24px\"viewBox=\"0 0 24 24\"\n",
              "       width=\"24px\">\n",
              "    <path d=\"M0 0h24v24H0V0z\" fill=\"none\"/>\n",
              "    <path d=\"M18.56 5.44l.94 2.06.94-2.06 2.06-.94-2.06-.94-.94-2.06-.94 2.06-2.06.94zm-11 1L8.5 8.5l.94-2.06 2.06-.94-2.06-.94L8.5 2.5l-.94 2.06-2.06.94zm10 10l.94 2.06.94-2.06 2.06-.94-2.06-.94-.94-2.06-.94 2.06-2.06.94z\"/><path d=\"M17.41 7.96l-1.37-1.37c-.4-.4-.92-.59-1.43-.59-.52 0-1.04.2-1.43.59L10.3 9.45l-7.72 7.72c-.78.78-.78 2.05 0 2.83L4 21.41c.39.39.9.59 1.41.59.51 0 1.02-.2 1.41-.59l7.78-7.78 2.81-2.81c.8-.78.8-2.07 0-2.86zM5.41 20L4 18.59l7.72-7.72 1.47 1.35L5.41 20z\"/>\n",
              "  </svg>\n",
              "      </button>\n",
              "      \n",
              "  <style>\n",
              "    .colab-df-container {\n",
              "      display:flex;\n",
              "      flex-wrap:wrap;\n",
              "      gap: 12px;\n",
              "    }\n",
              "\n",
              "    .colab-df-convert {\n",
              "      background-color: #E8F0FE;\n",
              "      border: none;\n",
              "      border-radius: 50%;\n",
              "      cursor: pointer;\n",
              "      display: none;\n",
              "      fill: #1967D2;\n",
              "      height: 32px;\n",
              "      padding: 0 0 0 0;\n",
              "      width: 32px;\n",
              "    }\n",
              "\n",
              "    .colab-df-convert:hover {\n",
              "      background-color: #E2EBFA;\n",
              "      box-shadow: 0px 1px 2px rgba(60, 64, 67, 0.3), 0px 1px 3px 1px rgba(60, 64, 67, 0.15);\n",
              "      fill: #174EA6;\n",
              "    }\n",
              "\n",
              "    [theme=dark] .colab-df-convert {\n",
              "      background-color: #3B4455;\n",
              "      fill: #D2E3FC;\n",
              "    }\n",
              "\n",
              "    [theme=dark] .colab-df-convert:hover {\n",
              "      background-color: #434B5C;\n",
              "      box-shadow: 0px 1px 3px 1px rgba(0, 0, 0, 0.15);\n",
              "      filter: drop-shadow(0px 1px 2px rgba(0, 0, 0, 0.3));\n",
              "      fill: #FFFFFF;\n",
              "    }\n",
              "  </style>\n",
              "\n",
              "      <script>\n",
              "        const buttonEl =\n",
              "          document.querySelector('#df-396fdcf1-f9c1-48df-afc1-c525d16badd4 button.colab-df-convert');\n",
              "        buttonEl.style.display =\n",
              "          google.colab.kernel.accessAllowed ? 'block' : 'none';\n",
              "\n",
              "        async function convertToInteractive(key) {\n",
              "          const element = document.querySelector('#df-396fdcf1-f9c1-48df-afc1-c525d16badd4');\n",
              "          const dataTable =\n",
              "            await google.colab.kernel.invokeFunction('convertToInteractive',\n",
              "                                                     [key], {});\n",
              "          if (!dataTable) return;\n",
              "\n",
              "          const docLinkHtml = 'Like what you see? Visit the ' +\n",
              "            '<a target=\"_blank\" href=https://colab.research.google.com/notebooks/data_table.ipynb>data table notebook</a>'\n",
              "            + ' to learn more about interactive tables.';\n",
              "          element.innerHTML = '';\n",
              "          dataTable['output_type'] = 'display_data';\n",
              "          await google.colab.output.renderOutput(dataTable, element);\n",
              "          const docLink = document.createElement('div');\n",
              "          docLink.innerHTML = docLinkHtml;\n",
              "          element.appendChild(docLink);\n",
              "        }\n",
              "      </script>\n",
              "    </div>\n",
              "  </div>\n",
              "  "
            ]
          },
          "metadata": {},
          "execution_count": 39
        }
      ]
    },
    {
      "cell_type": "markdown",
      "source": [
        "**Introduction to Statistical Terminology**\n",
        "\n",
        "**Population**: Refers to the complete set of observations or data that we are interested in studying.\n",
        "\n",
        "**Sample**: Refers to a subset of the population. By studying the sample, we can draw conclusions or make inferences about the population.\n",
        "\n",
        "**Parameters**: These are characteristics or properties of the population that we are interested in. For example, if we are studying the height of all people in a country, the mean height of the entire population is a parameter.\n",
        "\n",
        "**Estimates**: These are values or measures that we calculate from the sample that help us estimate the parameters of the population. For example, the mean height of a sample can be used to estimate the mean height of the population.\n",
        "\n",
        "**Descriptive Statistics:** Techniques used to summarize or describe the characteristics of the data. These include measures of central tendency (e.g., mean, median, mode) and measures of variability (e.g., range, variance, standard deviation).\n",
        "\n",
        "**Inferential Statistics:** Techniques used to draw conclusions or make inferences about the population based on the sample data. For example, we can use inferential statistics to estimate the population mean based on the sample mean.\n",
        "\n",
        "**Parametric Statistics:** Statistical methods where we make assumptions about the distribution of the data. For example, the Gaussian or normal distribution is commonly assumed in parametric statistics.\n",
        "\n",
        "**Non-Parametric Statistics:** Statistical methods where we do not make any assumptions about the distribution of the data. These methods are also known as distribution-free methods.\n",
        "\n",
        "**Statistical Hypothesis Tests:** Methods used to evaluate the likelihood of observing a result given an assumption or expectation about the result. Hypothesis tests can be used to determine if a difference between groups is statistically significant.\n",
        "\n",
        "**Estimation Statistics:** Methods used to quantify the uncertainty of a result using confidence intervals. Confidence intervals provide a range of values within which the true parameter is likely to lie with a certain level of confidence."
      ],
      "metadata": {
        "id": "7ek2Qy3CEfX7"
      }
    },
    {
      "cell_type": "markdown",
      "source": [
        "**Statistical Hypothesis Tests: An Overview**\n",
        "\n",
        "Statistical Hypothesis Tests are a powerful tool to help us validate assumptions we make about the data. The process is straightforward: we first assume something about the data, such as two samples having the same mean. We then calculate the likelihood of observing the data assuming this assumption is true. If the likelihood is very low, we reject the assumption, and if it is not, we fail to reject it.\n",
        "\n",
        "In statistical terms, the assumption is called a Hypothesis, the likelihood we obtain is called a p-value, and the threshold we set is either the level of significance or critical value. The test we use is called a Statistical Hypothesis Test.\n",
        "\n",
        "If the likelihood we obtain is close to zero, it means that assuming the hypothesis to be true, the probability of observing/occurring the data is very low. In this case, we reject the hypothesis, as there is likely something wrong with our assumption. For instance, if we compare the means of two samples and the resulting p-value is very low, it suggests that assuming the two samples have the same mean, the data we have is unlikely to be generated, and hence, we reject the assumption."
      ],
      "metadata": {
        "id": "7MkNdIE0E-Nc"
      }
    },
    {
      "cell_type": "markdown",
      "source": [
        "**Hypothesis Testing in Statistics**\n",
        "\n",
        "In hypothesis testing, there are two types of hypotheses: the null hypothesis, H0, which suggests that no significant difference exists in a given set of observations, and the alternative hypothesis, H1, which suggests that a significant difference does exist.\n",
        "\n",
        "In general, the null hypothesis and alternative hypothesis are complementary to each other, and the hypothesis testing framework is set up as follows:\n",
        "\n",
        "makefile\n",
        "\n",
        "    H0: Variable A and Variable B are independent\n",
        "    H1: Variable A and Variable B are not independent.\n",
        "\n",
        "The p-value is the probability of observing data given the assumption in a statistical test, and it is used to assess the statistical significance of any findings. A p-value can be calculated from a test statistic by retrieving the probability from the test statistic's cumulative density function (CDF).\n",
        "\n",
        "In the context of a statistical test, if the p-value is less than or equal to a significance level, denoted as α (most commonly used as 0.05 in data science and machine learning), then the result is considered significant, and the null hypothesis is rejected. Otherwise, if the p-value is greater than α, the result is not significant, and the null hypothesis cannot be rejected.\n",
        "\n",
        "Some tests return a test statistic value from a specific data distribution that can be interpreted in the context of critical values. A critical value is a value from the distribution of the test statistic after which point the result is significant and the null hypothesis can be rejected.\n",
        "\n",
        "It is important to note that the interpretation of p-values and statistical significance requires a thorough understanding of the underlying statistical tests and their assumptions."
      ],
      "metadata": {
        "id": "2TzQLbQqFWuf"
      }
    },
    {
      "cell_type": "markdown",
      "source": [
        "**Independence tests for two categorical variables**\n",
        "\n",
        "**Pearson's Chi-square test**\n",
        "\n",
        "The Chi-square test is a non-parametric statistical tool designed to analyze group differences when the dependent variable is measured at a nominal or ordinal level. It is commonly used to compare observed data with data we would expect to obtain according to a specific hypothesis.\n",
        "χ2=∑(O−E)2E\n",
        "\n",
        "Where,\n",
        "\n",
        "  O: Observed (the actual count of cases in each cell of the table)\n",
        "\n",
        "  E: Expected value (calculated below)\n",
        "\n",
        "   χ2: The cell Chi-square value\n",
        "\n",
        "  $\\large \\chi ^{2} = \\sum \\frac{(O-E)^{2}}{E}$\n",
        "\n",
        "\n",
        "Assumptions\n",
        "\n",
        "   1. The test becomes invalid if any of the expected values are below 5\n",
        "\n",
        "   2. The p-value calculated is not exact but approximate and converges to exact on increasing data (hence, not suitable for small sample sizes)\n",
        "\n",
        "   3. The number of observations must be at least 20.\n",
        "\n",
        "If the expected cell counts are small, it is better to use an exact test as the Chi-squared test is no longer a good approximation in such cases. Therefore, we will use Fisher's exact test to overcome this issue.\n"
      ],
      "metadata": {
        "id": "Q_1VFIYKF5Bn"
      }
    },
    {
      "cell_type": "markdown",
      "source": [
        "**Fisher’s exact test**\n",
        "\n",
        "Fisher’s exact test is a statistical method used to assess the significance of the association between two categorical variables in a contingency table. It is an alternative to the Pearson’s chi-squared test for independence, and is particularly useful when sample sizes are small. Fisher’s exact test is valid for all sample sizes, but is commonly applied when sample sizes are limited. A guideline for using Fisher’s exact test over the chi-squared test is when more than 20% of cells in a contingency table have expected frequencies less than 5."
      ],
      "metadata": {
        "id": "SiLpFzGgGpWP"
      }
    },
    {
      "cell_type": "markdown",
      "source": [
        "# **Section 2. Statistical Analysis for Numerical Attributes**"
      ],
      "metadata": {
        "id": "Ibav6omOJTFj"
      }
    },
    {
      "cell_type": "code",
      "source": [
        "nums"
      ],
      "metadata": {
        "colab": {
          "base_uri": "https://localhost:8080/"
        },
        "id": "wGY2qyhyEtqS",
        "outputId": "c25d7729-94fb-4ff6-a80e-e9e20830ea8e"
      },
      "execution_count": null,
      "outputs": [
        {
          "output_type": "execute_result",
          "data": {
            "text/plain": [
              "['mpg', 'displacement', 'horsepower', 'weight', 'acceleration']"
            ]
          },
          "metadata": {},
          "execution_count": 40
        }
      ]
    },
    {
      "cell_type": "markdown",
      "source": [
        "Based on the distributions generated in Part1, it is evident that acceleration follows a normal distribution, while mpg and weight are right-skewed or possibly log-normal.\n",
        "\n",
        "The log-normal distribution is characterized by a random variable whose logarithm follows a normal distribution. To determine if mpg and weight follow a log-normal distribution, we will conduct an analysis."
      ],
      "metadata": {
        "id": "xco0GUGxdrsq"
      }
    },
    {
      "cell_type": "code",
      "source": [
        "fig, axes = plt.subplots(1, 2, figsize=(10, 4))\n",
        "\n",
        "sns.histplot(np.log2(df.mpg), ax=axes[0])\n",
        "axes[0].set_title('Distribution of log2(mpg)')\n",
        "\n",
        "sns.histplot(np.log2(df.weight), ax=axes[1])\n",
        "axes[1].set_title('Distribution of log2(weight)')\n",
        "\n",
        "plt.tight_layout()\n",
        "plt.show()\n"
      ],
      "metadata": {
        "colab": {
          "base_uri": "https://localhost:8080/",
          "height": 407
        },
        "id": "qqWnsw_Hd-Wl",
        "outputId": "3a809ff4-ea28-4d96-ba5d-7dd0cf0624d8"
      },
      "execution_count": null,
      "outputs": [
        {
          "output_type": "display_data",
          "data": {
            "text/plain": [
              "<Figure size 1000x400 with 2 Axes>"
            ],
            "image/png": "[encoded data removed]"
          },
          "metadata": {}
        }
      ]
    },
    {
      "cell_type": "markdown",
      "source": [
        "After applying a log transformation, it appears that weight does not follow a log-normal distribution. However, the distribution of mpg seems to follow a log-normal pattern based on visual analysis."
      ],
      "metadata": {
        "id": "OWxzTpKleV-O"
      }
    },
    {
      "cell_type": "code",
      "source": [
        "# quantile-quantile plots on original data\n",
        "fig, axs = plt.subplots(2, 3, figsize=(18, 8))\n",
        "\n",
        "for i, num in enumerate(nums):\n",
        "    qqplot(df[num], line='s', ax=axs[i//3][i%3])\n",
        "    axs[i//3][i%3].set_title(f'qqplot - {num}')\n",
        "\n",
        "plt.tight_layout()\n",
        "plt.show()\n"
      ],
      "metadata": {
        "colab": {
          "base_uri": "https://localhost:8080/",
          "height": 717
        },
        "id": "xbg_FBTXeWlZ",
        "outputId": "3f971b09-71f7-46c1-c332-d1cd9e011db8"
      },
      "execution_count": null,
      "outputs": [
        {
          "output_type": "display_data",
          "data": {
            "text/plain": [
              "<Figure size 1800x800 with 6 Axes>"
            ],
            "image/png": "[encoded data removed]"
          },
          "metadata": {}
        }
      ]
    },
    {
      "cell_type": "markdown",
      "source": [
        "The distribution of acceleration appears to be close to Gaussian based on both the histogram and QQ plot."
      ],
      "metadata": {
        "id": "0vyC2BtgeyV-"
      }
    },
    {
      "cell_type": "markdown",
      "source": [
        "**Normality Tests**\n",
        "\n",
        "The normality test can be divided into two parts:\n",
        "\n",
        "**1. Visual Normality Checks:**\n",
        "\n",
        "To visually check for normality, we can use the following:\n",
        "\n",
        "mathematica\n",
        "\n",
        "Histogram\n",
        "Quantile-Quantile plot\n",
        "\n",
        "**2. Statistical Normality Tests:**\n",
        "\n",
        "There are various statistical tests for checking the normality of data, but the most common ones are:\n",
        "\n",
        "rust\n",
        "\n",
        "Shapiro-Wilk Test (applicable only for Gaussian distribution)\n",
        "D’Agostino’s K² Test (applicable only for Gaussian distribution)\n",
        "Anderson-Darling Test (applicable for many other distributions as well)\n",
        "\n",
        "We will perform the Shapiro-Wilk test to check the normality of our numerical attributes.\n",
        "\n",
        "    Null Hypothesis (H0): Data is drawn from a normal distribution.\n",
        "    Significance Level (α): 0.05\n"
      ],
      "metadata": {
        "id": "MC9aUNvke6eH"
      }
    },
    {
      "cell_type": "code",
      "source": [
        "def shapiro_wilk_test(df: pd.DataFrame, cols: list, alpha=0.05):\n",
        "    \"\"\"\n",
        "    Conduct the Shapiro-Wilk test for normality on the columns in `cols` of the dataframe `df` under significance level `alpha`.\n",
        "\n",
        "    Args:\n",
        "    df (pd.DataFrame): The dataframe to be analyzed\n",
        "    cols (list): A list of column names to test for normality\n",
        "    alpha (float): The significance level for the test\n",
        "\n",
        "    Returns:\n",
        "    None\n",
        "    \"\"\"\n",
        "    for col in cols:\n",
        "        _, p = st.shapiro(df[col])\n",
        "        if p <= alpha:\n",
        "            print(f'Rejected H0 under significance level {alpha}: {col} does not seem to be normally distributed')\n",
        "        else:\n",
        "            print(f'Fail to reject H0 due to lack of evidence under significance level {alpha}: {col} seems to be normally distributed')\n"
      ],
      "metadata": {
        "id": "aF6NKxY3ezPZ"
      },
      "execution_count": null,
      "outputs": []
    },
    {
      "cell_type": "code",
      "source": [
        "shapiro_wilk_test(df, nums)"
      ],
      "metadata": {
        "colab": {
          "base_uri": "https://localhost:8080/"
        },
        "id": "0ZJIdueQfTGs",
        "outputId": "4401715d-af1c-4526-a126-1bc40507056a"
      },
      "execution_count": null,
      "outputs": [
        {
          "output_type": "stream",
          "name": "stdout",
          "text": [
            "Rejected H0 under significance level 0.05: mpg does not seem to be normally distributed\n",
            "Rejected H0 under significance level 0.05: displacement does not seem to be normally distributed\n",
            "Rejected H0 under significance level 0.05: horsepower does not seem to be normally distributed\n",
            "Rejected H0 under significance level 0.05: weight does not seem to be normally distributed\n",
            "Rejected H0 under significance level 0.05: acceleration does not seem to be normally distributed\n"
          ]
        }
      ]
    },
    {
      "cell_type": "markdown",
      "source": [
        "We expected acceleration to have a normal distribution, but our test rejected this hypothesis. Let's examine the p-value.\n",
        "\n",
        "The **stats.shapiro()** function tests for normality and returns two values: the test statistic and the p-value. Therefore, to properly assign values to the variables, we should modify the code as follows:"
      ],
      "metadata": {
        "id": "KHvK4za7fj_k"
      }
    },
    {
      "cell_type": "code",
      "source": [
        "test_stat, p_value = st.shapiro(df.acceleration)\n",
        "p_value"
      ],
      "metadata": {
        "colab": {
          "base_uri": "https://localhost:8080/"
        },
        "id": "GLs0QRvxfkjI",
        "outputId": "ba887eaf-ba5a-4184-b118-8033ab8503bf"
      },
      "execution_count": null,
      "outputs": [
        {
          "output_type": "execute_result",
          "data": {
            "text/plain": [
              "0.030546151101589203"
            ]
          },
          "metadata": {},
          "execution_count": 52
        }
      ]
    },
    {
      "cell_type": "markdown",
      "source": [
        "We rejected the null hypothesis under the significance level of 5%. However, if the significance level was set to 2.5%, we would have failed to reject the null hypothesis. We cannot change the p-value now, as it would be considered p-hacking. One possible reason for rejecting the null hypothesis could be that our data is not scaled. Scaling the data might improve our results.\n",
        "\n",
        "We will now apply a power transform to make the data more Gaussian-like and check for normality on the transformed data.\n",
        "\n",
        "**Power transform** is a family of parametric, monotonic transformations applied to data to make it more Gaussian-like. This transformation is useful for modeling issues related to heteroscedasticity (non-constant variance) or other situations where normality is desired."
      ],
      "metadata": {
        "id": "gQUcM5LWgAYM"
      }
    },
    {
      "cell_type": "code",
      "source": [
        "# import necessary library\n",
        "from sklearn.preprocessing import PowerTransformer\n",
        "\n",
        "# transform numerical features using PowerTransformer\n",
        "pt = PowerTransformer()\n",
        "df_tfnum = pd.DataFrame(pt.fit_transform(df[nums]), columns=nums)\n",
        "\n",
        "# display first few rows of transformed data\n",
        "df_tfnum.head()\n"
      ],
      "metadata": {
        "colab": {
          "base_uri": "https://localhost:8080/",
          "height": 206
        },
        "id": "6A3DJVF6fyFM",
        "outputId": "83d1ee9b-bb0d-4ab0-a3f3-10bf2567d10d"
      },
      "execution_count": null,
      "outputs": [
        {
          "output_type": "execute_result",
          "data": {
            "text/plain": [
              "        mpg  displacement  horsepower    weight  acceleration\n",
              "0 -0.635451      1.119336    0.854984  0.744740     -1.317572\n",
              "1 -1.142697      1.324530    1.443754  0.919500     -1.522941\n",
              "2 -0.635451      1.175211    1.216062  0.678812     -1.732292\n",
              "3 -0.965340      1.103648    1.216062  0.675864     -1.317572\n",
              "4 -0.796543      1.093078    1.044925  0.691548     -1.945873"
            ],
            "text/html": [
              "\n",
              "  <div id=\"df-ab59b1fa-9fd9-4725-a09c-a32533e58b10\">\n",
              "    <div class=\"colab-df-container\">\n",
              "      <div>\n",
              "<style scoped>\n",
              "    .dataframe tbody tr th:only-of-type {\n",
              "        vertical-align: middle;\n",
              "    }\n",
              "\n",
              "    .dataframe tbody tr th {\n",
              "        vertical-align: top;\n",
              "    }\n",
              "\n",
              "    .dataframe thead th {\n",
              "        text-align: right;\n",
              "    }\n",
              "</style>\n",
              "<table border=\"1\" class=\"dataframe\">\n",
              "  <thead>\n",
              "    <tr style=\"text-align: right;\">\n",
              "      <th></th>\n",
              "      <th>mpg</th>\n",
              "      <th>displacement</th>\n",
              "      <th>horsepower</th>\n",
              "      <th>weight</th>\n",
              "      <th>acceleration</th>\n",
              "    </tr>\n",
              "  </thead>\n",
              "  <tbody>\n",
              "    <tr>\n",
              "      <th>0</th>\n",
              "      <td>-0.635451</td>\n",
              "      <td>1.119336</td>\n",
              "      <td>0.854984</td>\n",
              "      <td>0.744740</td>\n",
              "      <td>-1.317572</td>\n",
              "    </tr>\n",
              "    <tr>\n",
              "      <th>1</th>\n",
              "      <td>-1.142697</td>\n",
              "      <td>1.324530</td>\n",
              "      <td>1.443754</td>\n",
              "      <td>0.919500</td>\n",
              "      <td>-1.522941</td>\n",
              "    </tr>\n",
              "    <tr>\n",
              "      <th>2</th>\n",
              "      <td>-0.635451</td>\n",
              "      <td>1.175211</td>\n",
              "      <td>1.216062</td>\n",
              "      <td>0.678812</td>\n",
              "      <td>-1.732292</td>\n",
              "    </tr>\n",
              "    <tr>\n",
              "      <th>3</th>\n",
              "      <td>-0.965340</td>\n",
              "      <td>1.103648</td>\n",
              "      <td>1.216062</td>\n",
              "      <td>0.675864</td>\n",
              "      <td>-1.317572</td>\n",
              "    </tr>\n",
              "    <tr>\n",
              "      <th>4</th>\n",
              "      <td>-0.796543</td>\n",
              "      <td>1.093078</td>\n",
              "      <td>1.044925</td>\n",
              "      <td>0.691548</td>\n",
              "      <td>-1.945873</td>\n",
              "    </tr>\n",
              "  </tbody>\n",
              "</table>\n",
              "</div>\n",
              "      <button class=\"colab-df-convert\" onclick=\"convertToInteractive('df-ab59b1fa-9fd9-4725-a09c-a32533e58b10')\"\n",
              "              title=\"Convert this dataframe to an interactive table.\"\n",
              "              style=\"display:none;\">\n",
              "        \n",
              "  <svg xmlns=\"http://www.w3.org/2000/svg\" height=\"24px\"viewBox=\"0 0 24 24\"\n",
              "       width=\"24px\">\n",
              "    <path d=\"M0 0h24v24H0V0z\" fill=\"none\"/>\n",
              "    <path d=\"M18.56 5.44l.94 2.06.94-2.06 2.06-.94-2.06-.94-.94-2.06-.94 2.06-2.06.94zm-11 1L8.5 8.5l.94-2.06 2.06-.94-2.06-.94L8.5 2.5l-.94 2.06-2.06.94zm10 10l.94 2.06.94-2.06 2.06-.94-2.06-.94-.94-2.06-.94 2.06-2.06.94z\"/><path d=\"M17.41 7.96l-1.37-1.37c-.4-.4-.92-.59-1.43-.59-.52 0-1.04.2-1.43.59L10.3 9.45l-7.72 7.72c-.78.78-.78 2.05 0 2.83L4 21.41c.39.39.9.59 1.41.59.51 0 1.02-.2 1.41-.59l7.78-7.78 2.81-2.81c.8-.78.8-2.07 0-2.86zM5.41 20L4 18.59l7.72-7.72 1.47 1.35L5.41 20z\"/>\n",
              "  </svg>\n",
              "      </button>\n",
              "      \n",
              "  <style>\n",
              "    .colab-df-container {\n",
              "      display:flex;\n",
              "      flex-wrap:wrap;\n",
              "      gap: 12px;\n",
              "    }\n",
              "\n",
              "    .colab-df-convert {\n",
              "      background-color: #E8F0FE;\n",
              "      border: none;\n",
              "      border-radius: 50%;\n",
              "      cursor: pointer;\n",
              "      display: none;\n",
              "      fill: #1967D2;\n",
              "      height: 32px;\n",
              "      padding: 0 0 0 0;\n",
              "      width: 32px;\n",
              "    }\n",
              "\n",
              "    .colab-df-convert:hover {\n",
              "      background-color: #E2EBFA;\n",
              "      box-shadow: 0px 1px 2px rgba(60, 64, 67, 0.3), 0px 1px 3px 1px rgba(60, 64, 67, 0.15);\n",
              "      fill: #174EA6;\n",
              "    }\n",
              "\n",
              "    [theme=dark] .colab-df-convert {\n",
              "      background-color: #3B4455;\n",
              "      fill: #D2E3FC;\n",
              "    }\n",
              "\n",
              "    [theme=dark] .colab-df-convert:hover {\n",
              "      background-color: #434B5C;\n",
              "      box-shadow: 0px 1px 3px 1px rgba(0, 0, 0, 0.15);\n",
              "      filter: drop-shadow(0px 1px 2px rgba(0, 0, 0, 0.3));\n",
              "      fill: #FFFFFF;\n",
              "    }\n",
              "  </style>\n",
              "\n",
              "      <script>\n",
              "        const buttonEl =\n",
              "          document.querySelector('#df-ab59b1fa-9fd9-4725-a09c-a32533e58b10 button.colab-df-convert');\n",
              "        buttonEl.style.display =\n",
              "          google.colab.kernel.accessAllowed ? 'block' : 'none';\n",
              "\n",
              "        async function convertToInteractive(key) {\n",
              "          const element = document.querySelector('#df-ab59b1fa-9fd9-4725-a09c-a32533e58b10');\n",
              "          const dataTable =\n",
              "            await google.colab.kernel.invokeFunction('convertToInteractive',\n",
              "                                                     [key], {});\n",
              "          if (!dataTable) return;\n",
              "\n",
              "          const docLinkHtml = 'Like what you see? Visit the ' +\n",
              "            '<a target=\"_blank\" href=https://colab.research.google.com/notebooks/data_table.ipynb>data table notebook</a>'\n",
              "            + ' to learn more about interactive tables.';\n",
              "          element.innerHTML = '';\n",
              "          dataTable['output_type'] = 'display_data';\n",
              "          await google.colab.output.renderOutput(dataTable, element);\n",
              "          const docLink = document.createElement('div');\n",
              "          docLink.innerHTML = docLinkHtml;\n",
              "          element.appendChild(docLink);\n",
              "        }\n",
              "      </script>\n",
              "    </div>\n",
              "  </div>\n",
              "  "
            ]
          },
          "metadata": {},
          "execution_count": 53
        }
      ]
    },
    {
      "cell_type": "markdown",
      "source": [
        "After applying power transforms to the data, several improvements were observed. Firstly, the data was scaled, resulting in it being centered at 0. Secondly, the distributions of the features became more Gaussian-like while preserving their original structures. This was achieved by applying transformations such as square-root, log, etc.\n",
        "\n",
        "As a result of the power transforms, the acceleration feature remained Gaussian, the skewness was removed from the mpg and weight features, and the distribution of displacement became bimodal, which was consistent with the observations.\n",
        "\n",
        "Interestingly, the distributions of mpg and weight after power transformation were similar to those obtained after applying a log transform. It is worth noting that the power transform function in scikit-learn indeed applies log transforms (refer to the documentation).\n"
      ],
      "metadata": {
        "id": "p-SiRU3eg320"
      }
    },
    {
      "cell_type": "code",
      "source": [
        "# Create a figure with appropriate size\n",
        "fig = plt.figure(figsize=(18, 8))\n",
        "\n",
        "# Loop through each numeric feature and create a distribution plot\n",
        "for i, num in enumerate(['mpg', 'displacement', 'horsepower', 'acceleration']):\n",
        "    ax = plt.subplot(2, 3, i+1)\n",
        "    sns.histplot(df_tfnum[num], kde=True, stat='density')\n",
        "    ax.set_xlabel(f'Transformed {num}')\n",
        "    ax.set_ylabel('Density')\n",
        "    ax.set_title(f'Distribution of Transformed {num}')\n",
        "    plt.tight_layout()\n"
      ],
      "metadata": {
        "colab": {
          "base_uri": "https://localhost:8080/",
          "height": 717
        },
        "id": "NMr4KtyZgrJX",
        "outputId": "06f9f427-2662-49e5-b7e2-a01984bfcc86"
      },
      "execution_count": null,
      "outputs": [
        {
          "output_type": "display_data",
          "data": {
            "text/plain": [
              "<Figure size 1800x800 with 4 Axes>"
            ],
            "image/png": "[encoded data removed]"
          },
          "metadata": {}
        }
      ]
    },
    {
      "cell_type": "code",
      "source": [
        "#check for normality using quantile-quantile plots\n",
        "\n",
        "fig, axs = plt.subplots(2, 2, figsize=(16, 12))\n",
        "axs = axs.flatten()\n",
        "\n",
        "for i, num in enumerate(['mpg', 'displacement', 'horsepower', 'acceleration']):\n",
        "  qqplot(df_tfnum[num], line='s', ax=axs[i])\n",
        "  axs[i].set_title(f'QQ-plot for Transformed {num}')\n",
        "\n",
        "plt.tight_layout()"
      ],
      "metadata": {
        "colab": {
          "base_uri": "https://localhost:8080/",
          "height": 1000
        },
        "id": "tcpDow6dhH50",
        "outputId": "ceeaa964-f754-4500-ff5c-a51e1981d8ff"
      },
      "execution_count": null,
      "outputs": [
        {
          "output_type": "display_data",
          "data": {
            "text/plain": [
              "<Figure size 1600x1200 with 4 Axes>"
            ],
            "image/png": "[encoded data removed]"
          },
          "metadata": {}
        }
      ]
    },
    {
      "cell_type": "code",
      "source": [
        "#Use Shapiro-Wilk test to check for normality using Q-Q plots\n",
        "shapiro_wilk_test(df_tfnum, ['mpg', 'displacement', 'horsepower', 'acceleration'])"
      ],
      "metadata": {
        "colab": {
          "base_uri": "https://localhost:8080/"
        },
        "id": "L2BykrQKhXak",
        "outputId": "b8739054-a40e-4c1c-c6c6-1709ee67ea9f"
      },
      "execution_count": null,
      "outputs": [
        {
          "output_type": "stream",
          "name": "stdout",
          "text": [
            "Rejected H0 under significance level 0.05: mpg does not seem to be normally distributed\n",
            "Rejected H0 under significance level 0.05: displacement does not seem to be normally distributed\n",
            "Rejected H0 under significance level 0.05: horsepower does not seem to be normally distributed\n",
            "Fail to reject H0 due to lack of evidence under significance level 0.05: acceleration seems to be normally distributed\n"
          ]
        }
      ]
    },
    {
      "cell_type": "markdown",
      "source": [
        "The data shows that acceleration is normally distributed both visually and statistically after normalization."
      ],
      "metadata": {
        "id": "8mrpKpKjhwAd"
      }
    },
    {
      "cell_type": "code",
      "source": [
        "test_stat, p_value = st.shapiro(df_tfnum.acceleration)\n",
        "p_value"
      ],
      "metadata": {
        "colab": {
          "base_uri": "https://localhost:8080/"
        },
        "id": "KhkbasoSheV0",
        "outputId": "1939b036-75d3-4cf3-d534-1f5220002cd7"
      },
      "execution_count": null,
      "outputs": [
        {
          "output_type": "execute_result",
          "data": {
            "text/plain": [
              "0.3864997923374176"
            ]
          },
          "metadata": {},
          "execution_count": 58
        }
      ]
    },
    {
      "cell_type": "markdown",
      "source": [
        "# **Section 3: Exploring correlation between two continuous variables**"
      ],
      "metadata": {
        "id": "ezw-tmhih-v-"
      }
    },
    {
      "cell_type": "markdown",
      "source": [
        "**Spearman's Rank Correlation** is a non-parametric rank correlation method that measures the strength of a monotonic relationship between two variables. It calculates the correlation coefficient by converting the raw data into rank data and then using the formula:\n",
        "\n",
        "$\\large Corr_{_s}(x,y) = \\frac{Cov(rank(x), rank(y))}{\\sigma _{rank(x)}\\sigma _{rank(y)}}$\n",
        "\n",
        "The result is a value between -1 and 1, which is interpretable.\n",
        "\n",
        "Spearman's Correlation is a common approach used in non-parametric statistics, as it doesn't assume any particular distribution of the data. It is also interpretable because the result falls in the range [-1, 1].\n",
        "\n",
        "As a statistical hypothesis test, the method assumes that the samples are uncorrelated and fails to reject the null hypothesis H0 if the p-value is greater than the significance level.\n",
        "\n",
        "For all correlation tests between mpg and other attributes, our null hypothesis will be that there is no correlation between mpg and the other attribute.\n",
        "\n",
        "Null Hypothesis H0: There is no correlation between mpg and the other attribute.\n",
        "Significance level (α) = 0.05.\n"
      ],
      "metadata": {
        "id": "zASFo4tPjoIz"
      }
    },
    {
      "cell_type": "code",
      "source": [
        "# Perform Spearman's rank correlation test between mpg and numerical features\n",
        "for num in nums:\n",
        "    if num == 'mpg':\n",
        "        continue\n",
        "\n",
        "    corr, p = st.spearmanr(df.mpg, df[num])\n",
        "\n",
        "    print(f'\\nCorrelation between `mpg` and `{num}`:\\n')\n",
        "    print(f'Correlation coefficient: {round(corr, 4)} \\t p-value: {p}')\n",
        "\n",
        "    if p <= ALPHA:\n",
        "        print(f'Reject the null hypothesis at the significance level {ALPHA}: there is evidence of correlation between mpg and {num}.')\n",
        "    else:\n",
        "        print(f'Fail to reject the null hypothesis at the significance level {ALPHA}: there is no evidence of correlation between mpg and {num}.')\n"
      ],
      "metadata": {
        "colab": {
          "base_uri": "https://localhost:8080/"
        },
        "id": "V29x3ng8iB2o",
        "outputId": "aaed545e-54dc-46d4-da0e-763865bbc9b3"
      },
      "execution_count": null,
      "outputs": [
        {
          "output_type": "stream",
          "name": "stdout",
          "text": [
            "\n",
            "Correlation between `mpg` and `displacement`:\n",
            "\n",
            "Correlation coefficient: -0.8552 \t p-value: 2.1957775993226176e-113\n",
            "Reject the null hypothesis at the significance level 0.05: there is evidence of correlation between mpg and displacement.\n",
            "\n",
            "Correlation between `mpg` and `horsepower`:\n",
            "\n",
            "Correlation coefficient: -0.8536 \t p-value: 1.619383245501938e-112\n",
            "Reject the null hypothesis at the significance level 0.05: there is evidence of correlation between mpg and horsepower.\n",
            "\n",
            "Correlation between `mpg` and `weight`:\n",
            "\n",
            "Correlation coefficient: -0.8756 \t p-value: 2.662377938025222e-125\n",
            "Reject the null hypothesis at the significance level 0.05: there is evidence of correlation between mpg and weight.\n",
            "\n",
            "Correlation between `mpg` and `acceleration`:\n",
            "\n",
            "Correlation coefficient: 0.4415 \t p-value: 3.9036035663531793e-20\n",
            "Reject the null hypothesis at the significance level 0.05: there is evidence of correlation between mpg and acceleration.\n"
          ]
        }
      ]
    },
    {
      "cell_type": "markdown",
      "source": [
        "All null hypotheses (H0) are rejected at a significance level of 5%, indicating that there are statistically significant correlations between the variables. Except for acceleration, all other correlations are found to be very high, which is also evident from our previous plots."
      ],
      "metadata": {
        "id": "GEGYMzEFkamy"
      }
    },
    {
      "cell_type": "code",
      "source": [
        "def calculate_correlation(x1, x2, method='spearman', alpha=0.05):\n",
        "    \"\"\"\n",
        "    Calculate the correlation, p-value, and hypothesis test results between x1 and x2.\n",
        "\n",
        "    :param x1: A pandas series or numpy array containing the first variable.\n",
        "    :param x2: A pandas series or numpy array containing the second variable.\n",
        "    :param method: The correlation method to use. Allowed values are 'pearson', 'spearman', and 'kendall'.\n",
        "    :param alpha: The significance level to use for the hypothesis test.\n",
        "    :return: A tuple containing the correlation coefficient, p-value, and hypothesis test result.\n",
        "    \"\"\"\n",
        "\n",
        "    ALLOWED_METHODS = ['pearson', 'spearman', 'kendall']\n",
        "    if method not in ALLOWED_METHODS:\n",
        "        raise ValueError(f'Allowed methods are {ALLOWED_METHODS}.')\n",
        "\n",
        "    if method == 'pearson':\n",
        "        corr, p = st.pearsonr(x1, x2)\n",
        "    elif method == 'spearman':\n",
        "        corr, p = st.spearmanr(x1, x2)\n",
        "    else:\n",
        "        corr, p = st.kendalltau(x1, x2)\n",
        "\n",
        "    h0 = 'rejected' if p <= alpha else 'failed to reject'\n",
        "\n",
        "    return corr, p, h0\n"
      ],
      "metadata": {
        "id": "h6xOQ34OkbG3"
      },
      "execution_count": null,
      "outputs": []
    },
    {
      "cell_type": "code",
      "source": [
        "# Create an empty DataFrame to store correlation information\n",
        "df_corr = pd.DataFrame(columns=['Attribute 1', 'Attribute 2', 'Correlation', 'p-value', 'Null Hypothesis'])\n",
        "\n",
        "# Loop through each pair of numeric attributes and test for correlation\n",
        "for pair in itertools.combinations(nums, 2):\n",
        "\n",
        "    # Calculate correlation, p-value, and null hypothesis using the test_correlation function\n",
        "    corr, p, h0 = calculate_correlation(df[pair[0]], df[pair[1]])\n",
        "\n",
        "    # Add the results to the DataFrame\n",
        "    df_corr = df_corr.append({'Attribute 1': pair[0], 'Attribute 2': pair[1],\n",
        "                              'Correlation': round(corr, 5), 'p-value': p, 'Null Hypothesis': h0}, ignore_index=True)\n",
        "\n",
        "# Display the resulting DataFrame\n",
        "df_corr\n"
      ],
      "metadata": {
        "colab": {
          "base_uri": "https://localhost:8080/",
          "height": 727
        },
        "id": "Tk29I99Qk6zC",
        "outputId": "43519abc-9d73-4083-af3b-b88ad147c920"
      },
      "execution_count": null,
      "outputs": [
        {
          "output_type": "stream",
          "name": "stderr",
          "text": [
            "<ipython-input-66-2642d038ff87>:11: FutureWarning: The frame.append method is deprecated and will be removed from pandas in a future version. Use pandas.concat instead.\n",
            "  df_corr = df_corr.append({'Attribute 1': pair[0], 'Attribute 2': pair[1],\n",
            "<ipython-input-66-2642d038ff87>:11: FutureWarning: The frame.append method is deprecated and will be removed from pandas in a future version. Use pandas.concat instead.\n",
            "  df_corr = df_corr.append({'Attribute 1': pair[0], 'Attribute 2': pair[1],\n",
            "<ipython-input-66-2642d038ff87>:11: FutureWarning: The frame.append method is deprecated and will be removed from pandas in a future version. Use pandas.concat instead.\n",
            "  df_corr = df_corr.append({'Attribute 1': pair[0], 'Attribute 2': pair[1],\n",
            "<ipython-input-66-2642d038ff87>:11: FutureWarning: The frame.append method is deprecated and will be removed from pandas in a future version. Use pandas.concat instead.\n",
            "  df_corr = df_corr.append({'Attribute 1': pair[0], 'Attribute 2': pair[1],\n",
            "<ipython-input-66-2642d038ff87>:11: FutureWarning: The frame.append method is deprecated and will be removed from pandas in a future version. Use pandas.concat instead.\n",
            "  df_corr = df_corr.append({'Attribute 1': pair[0], 'Attribute 2': pair[1],\n",
            "<ipython-input-66-2642d038ff87>:11: FutureWarning: The frame.append method is deprecated and will be removed from pandas in a future version. Use pandas.concat instead.\n",
            "  df_corr = df_corr.append({'Attribute 1': pair[0], 'Attribute 2': pair[1],\n",
            "<ipython-input-66-2642d038ff87>:11: FutureWarning: The frame.append method is deprecated and will be removed from pandas in a future version. Use pandas.concat instead.\n",
            "  df_corr = df_corr.append({'Attribute 1': pair[0], 'Attribute 2': pair[1],\n",
            "<ipython-input-66-2642d038ff87>:11: FutureWarning: The frame.append method is deprecated and will be removed from pandas in a future version. Use pandas.concat instead.\n",
            "  df_corr = df_corr.append({'Attribute 1': pair[0], 'Attribute 2': pair[1],\n",
            "<ipython-input-66-2642d038ff87>:11: FutureWarning: The frame.append method is deprecated and will be removed from pandas in a future version. Use pandas.concat instead.\n",
            "  df_corr = df_corr.append({'Attribute 1': pair[0], 'Attribute 2': pair[1],\n",
            "<ipython-input-66-2642d038ff87>:11: FutureWarning: The frame.append method is deprecated and will be removed from pandas in a future version. Use pandas.concat instead.\n",
            "  df_corr = df_corr.append({'Attribute 1': pair[0], 'Attribute 2': pair[1],\n"
          ]
        },
        {
          "output_type": "execute_result",
          "data": {
            "text/plain": [
              "    Attribute 1   Attribute 2  Correlation        p-value Null Hypothesis\n",
              "0           mpg  displacement     -0.85523  2.195778e-113        rejected\n",
              "1           mpg    horsepower     -0.85362  1.619383e-112        rejected\n",
              "2           mpg        weight     -0.87559  2.662378e-125        rejected\n",
              "3           mpg  acceleration      0.44154   3.903604e-20        rejected\n",
              "4  displacement    horsepower      0.87617  1.126737e-125        rejected\n",
              "5  displacement        weight      0.94563  2.463170e-192        rejected\n",
              "6  displacement  acceleration     -0.49940   4.061210e-26        rejected\n",
              "7    horsepower        weight      0.87882  2.182674e-127        rejected\n",
              "8    horsepower  acceleration     -0.65814   5.157840e-50        rejected\n",
              "9        weight  acceleration     -0.40511   6.484246e-17        rejected"
            ],
            "text/html": [
              "\n",
              "  <div id=\"df-07d53e9b-bae5-4021-85cf-172f78b6f0db\">\n",
              "    <div class=\"colab-df-container\">\n",
              "      <div>\n",
              "<style scoped>\n",
              "    .dataframe tbody tr th:only-of-type {\n",
              "        vertical-align: middle;\n",
              "    }\n",
              "\n",
              "    .dataframe tbody tr th {\n",
              "        vertical-align: top;\n",
              "    }\n",
              "\n",
              "    .dataframe thead th {\n",
              "        text-align: right;\n",
              "    }\n",
              "</style>\n",
              "<table border=\"1\" class=\"dataframe\">\n",
              "  <thead>\n",
              "    <tr style=\"text-align: right;\">\n",
              "      <th></th>\n",
              "      <th>Attribute 1</th>\n",
              "      <th>Attribute 2</th>\n",
              "      <th>Correlation</th>\n",
              "      <th>p-value</th>\n",
              "      <th>Null Hypothesis</th>\n",
              "    </tr>\n",
              "  </thead>\n",
              "  <tbody>\n",
              "    <tr>\n",
              "      <th>0</th>\n",
              "      <td>mpg</td>\n",
              "      <td>displacement</td>\n",
              "      <td>-0.85523</td>\n",
              "      <td>2.195778e-113</td>\n",
              "      <td>rejected</td>\n",
              "    </tr>\n",
              "    <tr>\n",
              "      <th>1</th>\n",
              "      <td>mpg</td>\n",
              "      <td>horsepower</td>\n",
              "      <td>-0.85362</td>\n",
              "      <td>1.619383e-112</td>\n",
              "      <td>rejected</td>\n",
              "    </tr>\n",
              "    <tr>\n",
              "      <th>2</th>\n",
              "      <td>mpg</td>\n",
              "      <td>weight</td>\n",
              "      <td>-0.87559</td>\n",
              "      <td>2.662378e-125</td>\n",
              "      <td>rejected</td>\n",
              "    </tr>\n",
              "    <tr>\n",
              "      <th>3</th>\n",
              "      <td>mpg</td>\n",
              "      <td>acceleration</td>\n",
              "      <td>0.44154</td>\n",
              "      <td>3.903604e-20</td>\n",
              "      <td>rejected</td>\n",
              "    </tr>\n",
              "    <tr>\n",
              "      <th>4</th>\n",
              "      <td>displacement</td>\n",
              "      <td>horsepower</td>\n",
              "      <td>0.87617</td>\n",
              "      <td>1.126737e-125</td>\n",
              "      <td>rejected</td>\n",
              "    </tr>\n",
              "    <tr>\n",
              "      <th>5</th>\n",
              "      <td>displacement</td>\n",
              "      <td>weight</td>\n",
              "      <td>0.94563</td>\n",
              "      <td>2.463170e-192</td>\n",
              "      <td>rejected</td>\n",
              "    </tr>\n",
              "    <tr>\n",
              "      <th>6</th>\n",
              "      <td>displacement</td>\n",
              "      <td>acceleration</td>\n",
              "      <td>-0.49940</td>\n",
              "      <td>4.061210e-26</td>\n",
              "      <td>rejected</td>\n",
              "    </tr>\n",
              "    <tr>\n",
              "      <th>7</th>\n",
              "      <td>horsepower</td>\n",
              "      <td>weight</td>\n",
              "      <td>0.87882</td>\n",
              "      <td>2.182674e-127</td>\n",
              "      <td>rejected</td>\n",
              "    </tr>\n",
              "    <tr>\n",
              "      <th>8</th>\n",
              "      <td>horsepower</td>\n",
              "      <td>acceleration</td>\n",
              "      <td>-0.65814</td>\n",
              "      <td>5.157840e-50</td>\n",
              "      <td>rejected</td>\n",
              "    </tr>\n",
              "    <tr>\n",
              "      <th>9</th>\n",
              "      <td>weight</td>\n",
              "      <td>acceleration</td>\n",
              "      <td>-0.40511</td>\n",
              "      <td>6.484246e-17</td>\n",
              "      <td>rejected</td>\n",
              "    </tr>\n",
              "  </tbody>\n",
              "</table>\n",
              "</div>\n",
              "      <button class=\"colab-df-convert\" onclick=\"convertToInteractive('df-07d53e9b-bae5-4021-85cf-172f78b6f0db')\"\n",
              "              title=\"Convert this dataframe to an interactive table.\"\n",
              "              style=\"display:none;\">\n",
              "        \n",
              "  <svg xmlns=\"http://www.w3.org/2000/svg\" height=\"24px\"viewBox=\"0 0 24 24\"\n",
              "       width=\"24px\">\n",
              "    <path d=\"M0 0h24v24H0V0z\" fill=\"none\"/>\n",
              "    <path d=\"M18.56 5.44l.94 2.06.94-2.06 2.06-.94-2.06-.94-.94-2.06-.94 2.06-2.06.94zm-11 1L8.5 8.5l.94-2.06 2.06-.94-2.06-.94L8.5 2.5l-.94 2.06-2.06.94zm10 10l.94 2.06.94-2.06 2.06-.94-2.06-.94-.94-2.06-.94 2.06-2.06.94z\"/><path d=\"M17.41 7.96l-1.37-1.37c-.4-.4-.92-.59-1.43-.59-.52 0-1.04.2-1.43.59L10.3 9.45l-7.72 7.72c-.78.78-.78 2.05 0 2.83L4 21.41c.39.39.9.59 1.41.59.51 0 1.02-.2 1.41-.59l7.78-7.78 2.81-2.81c.8-.78.8-2.07 0-2.86zM5.41 20L4 18.59l7.72-7.72 1.47 1.35L5.41 20z\"/>\n",
              "  </svg>\n",
              "      </button>\n",
              "      \n",
              "  <style>\n",
              "    .colab-df-container {\n",
              "      display:flex;\n",
              "      flex-wrap:wrap;\n",
              "      gap: 12px;\n",
              "    }\n",
              "\n",
              "    .colab-df-convert {\n",
              "      background-color: #E8F0FE;\n",
              "      border: none;\n",
              "      border-radius: 50%;\n",
              "      cursor: pointer;\n",
              "      display: none;\n",
              "      fill: #1967D2;\n",
              "      height: 32px;\n",
              "      padding: 0 0 0 0;\n",
              "      width: 32px;\n",
              "    }\n",
              "\n",
              "    .colab-df-convert:hover {\n",
              "      background-color: #E2EBFA;\n",
              "      box-shadow: 0px 1px 2px rgba(60, 64, 67, 0.3), 0px 1px 3px 1px rgba(60, 64, 67, 0.15);\n",
              "      fill: #174EA6;\n",
              "    }\n",
              "\n",
              "    [theme=dark] .colab-df-convert {\n",
              "      background-color: #3B4455;\n",
              "      fill: #D2E3FC;\n",
              "    }\n",
              "\n",
              "    [theme=dark] .colab-df-convert:hover {\n",
              "      background-color: #434B5C;\n",
              "      box-shadow: 0px 1px 3px 1px rgba(0, 0, 0, 0.15);\n",
              "      filter: drop-shadow(0px 1px 2px rgba(0, 0, 0, 0.3));\n",
              "      fill: #FFFFFF;\n",
              "    }\n",
              "  </style>\n",
              "\n",
              "      <script>\n",
              "        const buttonEl =\n",
              "          document.querySelector('#df-07d53e9b-bae5-4021-85cf-172f78b6f0db button.colab-df-convert');\n",
              "        buttonEl.style.display =\n",
              "          google.colab.kernel.accessAllowed ? 'block' : 'none';\n",
              "\n",
              "        async function convertToInteractive(key) {\n",
              "          const element = document.querySelector('#df-07d53e9b-bae5-4021-85cf-172f78b6f0db');\n",
              "          const dataTable =\n",
              "            await google.colab.kernel.invokeFunction('convertToInteractive',\n",
              "                                                     [key], {});\n",
              "          if (!dataTable) return;\n",
              "\n",
              "          const docLinkHtml = 'Like what you see? Visit the ' +\n",
              "            '<a target=\"_blank\" href=https://colab.research.google.com/notebooks/data_table.ipynb>data table notebook</a>'\n",
              "            + ' to learn more about interactive tables.';\n",
              "          element.innerHTML = '';\n",
              "          dataTable['output_type'] = 'display_data';\n",
              "          await google.colab.output.renderOutput(dataTable, element);\n",
              "          const docLink = document.createElement('div');\n",
              "          docLink.innerHTML = docLinkHtml;\n",
              "          element.appendChild(docLink);\n",
              "        }\n",
              "      </script>\n",
              "    </div>\n",
              "  </div>\n",
              "  "
            ]
          },
          "metadata": {},
          "execution_count": 66
        }
      ]
    },
    {
      "cell_type": "markdown",
      "source": [
        "Some pairs, such as (mpg, acceleration), (displacement, acceleration), and (weight, acceleration), display moderate correlation, while the remaining pairs demonstrate high correlation."
      ],
      "metadata": {
        "id": "MB6X0zqylxlC"
      }
    },
    {
      "cell_type": "markdown",
      "source": [
        "# **Section 4. Statistical Significance Tests**"
      ],
      "metadata": {
        "id": "kTQP_KwxmQ3z"
      }
    },
    {
      "cell_type": "markdown",
      "source": [
        "We will now conduct significance tests to determine if two samples have the same mean or not. There are two types of significance tests available for different conditions.\n",
        "\n",
        "**Parametric Statistical Significance Tests**\n",
        "\n",
        "    The Student’s t-test is a parametric test that is used to determine whether the means of two independent normal distributed samples are statistically different from each other.\n",
        "\n",
        "    The Analysis of Variance Test (ANOVA) is also a parametric test that is used to determine whether the means of two or more independent normal distributed samples are statistically different from each other.\n",
        "\n",
        "ANOVA is useful when comparing more than two groups, as it can determine whether any of the groups are statistically different from each other. However, it does not quantify which groups differ or by how much.\n",
        "\n",
        "Alternatively, t-tests can be applied pairwise to compare two groups at a time.\n",
        "\n",
        "**Non-Parametric and Parametric Statistical Significance Tests**\n",
        "\n",
        "    Mann-Whitney U Test - Non-parametric equivalent of Student's t-test.\n",
        "    Kruskal-Wallis H Test - Non-parametric equivalent of ANOVA for median comparison.\n",
        "    t-Test - Parametric test for comparing means of two independent samples assuming normality.\n",
        "    ANOVA - Parametric test for comparing means of more than two independent samples assuming normality.\n",
        "\n",
        "We will apply the appropriate test depending on the sample distribution. If the sample is normally distributed, we will use parametric tests, otherwise, non-parametric tests will be used."
      ],
      "metadata": {
        "id": "H0lhZERnmrVp"
      }
    },
    {
      "cell_type": "markdown",
      "source": [
        "Let's examine if there is a significant difference between the mean acceleration of cars in **japan** and **usa**.\n",
        "First, we will check the normality assumption of the acceleration variable in both japan and usa. Then we will select the appropriate statistical test based on the results of our normality test."
      ],
      "metadata": {
        "id": "1WVU6dknoXRR"
      }
    },
    {
      "cell_type": "code",
      "source": [
        "shapiro_wilk_test(df[df.origin == 'japan'], ['acceleration'])"
      ],
      "metadata": {
        "colab": {
          "base_uri": "https://localhost:8080/"
        },
        "id": "lVuI5e9hlyCg",
        "outputId": "8c400624-7e60-4634-914d-160cf2abffb6"
      },
      "execution_count": null,
      "outputs": [
        {
          "output_type": "stream",
          "name": "stdout",
          "text": [
            "Fail to reject H0 due to lack of evidence under significance level 0.05: acceleration seems to be normally distributed\n"
          ]
        }
      ]
    },
    {
      "cell_type": "code",
      "source": [
        "shapiro_wilk_test(df[df.origin=='usa'], ['acceleration'])"
      ],
      "metadata": {
        "colab": {
          "base_uri": "https://localhost:8080/"
        },
        "id": "Ob-R7327o8OJ",
        "outputId": "02485f3b-0ec2-43b2-995a-6ecc9c8d490d"
      },
      "execution_count": null,
      "outputs": [
        {
          "output_type": "stream",
          "name": "stdout",
          "text": [
            "Fail to reject H0 due to lack of evidence under significance level 0.05: acceleration seems to be normally distributed\n"
          ]
        }
      ]
    },
    {
      "cell_type": "markdown",
      "source": [
        "Since both the samples of acceleration for Japan and USA follow a normal distribution, we can perform a **parametric test** to compare their means.\n",
        "\n",
        "We set up our null hypothesis as:\n",
        "\n",
        "H0: The sample mean of acceleration for Japan is equal to the sample mean of acceleration for USA.\n",
        "\n",
        "We choose the significance level as α=0.05."
      ],
      "metadata": {
        "id": "aLrzG_yHpHcR"
      }
    },
    {
      "cell_type": "code",
      "source": [
        "# because the variance is not same for the two distributions hence equal_var=False\n",
        "_, p = st.ttest_ind(df[df.origin=='japan'].acceleration, df[df.origin=='usa'].acceleration, equal_var=False)\n",
        "\n",
        "if p <= ALPHA:\n",
        "    print(f'Rejected H0 under {ALPHA*100}% significance, Different distributions.')\n",
        "else:\n",
        "    print(f'Fail to Reject H0 under {ALPHA*100}% significance, Same distributions.')\n",
        "\n"
      ],
      "metadata": {
        "colab": {
          "base_uri": "https://localhost:8080/"
        },
        "id": "cwABOa-DpINU",
        "outputId": "b046bc37-127b-4a4b-fe7a-8a39beb5ed24"
      },
      "execution_count": null,
      "outputs": [
        {
          "output_type": "stream",
          "name": "stdout",
          "text": [
            "Rejected H0 under 5.0% significance, Different distributions.\n"
          ]
        }
      ]
    },
    {
      "cell_type": "code",
      "source": [
        "# Set significance level\n",
        "ALPHA = 0.05\n",
        "\n",
        "# Perform one-way ANOVA test\n",
        "_, p = st.f_oneway(df[df.origin=='japan'].acceleration, df[df.origin=='usa'].acceleration, df[df.origin=='europe'].acceleration)\n",
        "\n",
        "# Determine if null hypothesis is rejected or failed to reject\n",
        "if p <= ALPHA:\n",
        "    print(f'At a {ALPHA*100}% significance level, we reject the null hypothesis and conclude that the distributions of acceleration for the different origins are different.')\n",
        "else:\n",
        "    print(f'At a {ALPHA*100}% significance level, we fail to reject the null hypothesis and conclude that there is not enough evidence to suggest that the distributions of acceleration for the different origins are different.')\n"
      ],
      "metadata": {
        "colab": {
          "base_uri": "https://localhost:8080/"
        },
        "id": "zn8EfhGCpkdg",
        "outputId": "22cccade-e230-46d1-c33d-ae6c1ddfd78b"
      },
      "execution_count": null,
      "outputs": [
        {
          "output_type": "stream",
          "name": "stdout",
          "text": [
            "At a 5.0% significance level, we reject the null hypothesis and conclude that the distributions of acceleration for the different origins are different.\n"
          ]
        }
      ]
    },
    {
      "cell_type": "markdown",
      "source": [
        "Let's test whether the **distribution of horsepower** is the same across all regions."
      ],
      "metadata": {
        "id": "fz28-3cep8ng"
      }
    },
    {
      "cell_type": "code",
      "source": [
        "shapiro_wilk_test(df[df.origin=='japan'], ['horsepower'])"
      ],
      "metadata": {
        "colab": {
          "base_uri": "https://localhost:8080/"
        },
        "id": "SV6NxYqOp9X4",
        "outputId": "e5adb979-1f3f-4432-dc91-cea3aee066de"
      },
      "execution_count": null,
      "outputs": [
        {
          "output_type": "stream",
          "name": "stdout",
          "text": [
            "Rejected H0 under significance level 0.05: horsepower does not seem to be normally distributed\n"
          ]
        }
      ]
    },
    {
      "cell_type": "code",
      "source": [
        "shapiro_wilk_test(df[df.origin=='europe'], ['horsepower'])"
      ],
      "metadata": {
        "colab": {
          "base_uri": "https://localhost:8080/"
        },
        "id": "2y_BMd_XuDGL",
        "outputId": "17fad095-c631-4c5a-a8b4-6963047644d2"
      },
      "execution_count": null,
      "outputs": [
        {
          "output_type": "stream",
          "name": "stdout",
          "text": [
            "Rejected H0 under significance level 0.05: horsepower does not seem to be normally distributed\n"
          ]
        }
      ]
    },
    {
      "cell_type": "code",
      "source": [
        "shapiro_wilk_test(df[df.origin=='usa'], ['horsepower'])"
      ],
      "metadata": {
        "colab": {
          "base_uri": "https://localhost:8080/"
        },
        "id": "vCxM7gR4uGTY",
        "outputId": "fdbf8ede-5a6b-4121-dbad-0aa6a13e6ca9"
      },
      "execution_count": null,
      "outputs": [
        {
          "output_type": "stream",
          "name": "stdout",
          "text": [
            "Rejected H0 under significance level 0.05: horsepower does not seem to be normally distributed\n"
          ]
        }
      ]
    },
    {
      "cell_type": "markdown",
      "source": [
        "As the distribution of horsepower across different regions is not normal, we will apply a **non-parametric test**. Our null hypothesis (H0) is that the sample distributions of horsepower across regions are equal, with a significance level (α) of 0.05."
      ],
      "metadata": {
        "id": "tdgh3iF0uPA6"
      }
    },
    {
      "cell_type": "code",
      "source": [
        "# Set the significance level\n",
        "ALPHA = 0.05\n",
        "\n",
        "# Perform Kruskal-Wallis test\n",
        "japan_hp = df.loc[df.origin == 'japan', 'horsepower']\n",
        "usa_hp = df.loc[df.origin == 'usa', 'horsepower']\n",
        "europe_hp = df.loc[df.origin == 'europe', 'horsepower']\n",
        "\n",
        "stat, p = st.kruskal(japan_hp, usa_hp, europe_hp)\n",
        "\n",
        "# Check if the null hypothesis is rejected\n",
        "if p <= ALPHA:\n",
        "    print(f\"The null hypothesis is rejected at {ALPHA*100}% significance level. The distributions of horsepower are significantly different among the three origins.\")\n",
        "else:\n",
        "    print(f\"The null hypothesis cannot be rejected at {ALPHA*100}% significance level. The distributions of horsepower are not significantly different among the three origins.\")\n"
      ],
      "metadata": {
        "colab": {
          "base_uri": "https://localhost:8080/"
        },
        "id": "xdpOkzl6uPjz",
        "outputId": "18a5f5cf-edad-4a9a-a9a7-96a1783ecb12"
      },
      "execution_count": null,
      "outputs": [
        {
          "output_type": "stream",
          "name": "stdout",
          "text": [
            "The null hypothesis is rejected at 5.0% significance level. The distributions of horsepower are significantly different among the three origins.\n"
          ]
        }
      ]
    },
    {
      "cell_type": "markdown",
      "source": [
        "Compare the **distribution of acceleration** between samples with mpg_level high and medium."
      ],
      "metadata": {
        "id": "13EyjRn1unBe"
      }
    },
    {
      "cell_type": "code",
      "source": [
        "# Set the significance level\n",
        "ALPHA = 0.05\n",
        "\n",
        "# Perform Mann-Whitney U test\n",
        "statistic, p = st.mannwhitneyu(df[df.mpg_level == 'high'].acceleration,\n",
        "                                   df[df.mpg_level == 'medium'].acceleration)\n",
        "\n",
        "# Check if p-value is less than or equal to the significance level\n",
        "if p <= ALPHA:\n",
        "    print(f'Reject the null hypothesis at {ALPHA*100}% significance level. The two distributions are different.')\n",
        "else:\n",
        "    print(f'Fail to reject the null hypothesis at {ALPHA*100}% significance level. The two distributions are the same.')\n"
      ],
      "metadata": {
        "colab": {
          "base_uri": "https://localhost:8080/"
        },
        "id": "804pQrSavEtX",
        "outputId": "d98050b5-db3d-4183-c49d-d8d9dd563836"
      },
      "execution_count": null,
      "outputs": [
        {
          "output_type": "stream",
          "name": "stdout",
          "text": [
            "Fail to reject the null hypothesis at 5.0% significance level. The two distributions are the same.\n"
          ]
        }
      ]
    },
    {
      "cell_type": "markdown",
      "source": [
        "Analyzing the **distribution of mpg** across different years."
      ],
      "metadata": {
        "id": "RCbsvgznvOe9"
      }
    },
    {
      "cell_type": "code",
      "source": [
        "# Group the mpg data by model year\n",
        "acc_gb_year = df.groupby('model_year')['mpg']\n",
        "\n",
        "# Create a list of mpg values for each model year\n",
        "acc_yr = [list(acc_gb_year.get_group(yr)) for yr in df.model_year.unique()]\n",
        "\n",
        "# Perform the Kruskal-Wallis test and check for significance\n",
        "_, p = st.kruskal(*acc_yr)\n",
        "\n",
        "# Define significance level\n",
        "ALPHA = 0.05\n",
        "\n",
        "# Check the p-value and print the result\n",
        "if p <= ALPHA:\n",
        "    print(f\"Reject the null hypothesis at {ALPHA*100}% significance level. The distributions are different.\")\n",
        "else:\n",
        "    print(f\"Fail to reject the null hypothesis at {ALPHA*100}% significance level. The distributions are the same.\")\n"
      ],
      "metadata": {
        "colab": {
          "base_uri": "https://localhost:8080/"
        },
        "id": "fSIKRZUkvRBL",
        "outputId": "6cffa1df-21bc-4069-e0d3-748dccf2ac2a"
      },
      "execution_count": null,
      "outputs": [
        {
          "output_type": "stream",
          "name": "stdout",
          "text": [
            "Reject the null hypothesis at 5.0% significance level. The distributions are different.\n"
          ]
        }
      ]
    },
    {
      "cell_type": "markdown",
      "source": [
        "# **Section 5: Relation between Categorical and Continous attributes**"
      ],
      "metadata": {
        "id": "5vgAyYISvjHP"
      }
    },
    {
      "cell_type": "markdown",
      "source": [
        "ANOVA (Analysis of Variance) is a statistical test used to determine whether two or more population means are equal or not by analyzing the differences among the means of the samples. It is used when we want to compare the means of more than two groups at the same time. The test calculates the F-ratio by comparing the between-group variance to the within-group variance.\n",
        "\n",
        "The hypothesis of the ANOVA test is as follows:\n",
        "\n",
        "    Null Hypothesis (H0): The means of all groups are equal.\n",
        "    Alternative Hypothesis (H1): At least one group mean is different from the others.\n",
        "\n",
        "The test uses the F-statistic, which is calculated by dividing the between-group variance by the within-group variance. A large F-value means that the between-group variance is much greater than the within-group variance, indicating that there is a significant difference between the means of the groups.\n",
        "\n",
        "The ANOVA test assumes that the samples are independent, normal, and have equal variances. If the ANOVA test rejects the null hypothesis, we need to perform a post-hoc test to determine which groups are significantly different from each other.\n",
        "\n",
        "In the context of machine learning, the ANOVA test can be used for feature selection, where we can determine which features are relevant for predicting the target variable. By performing ANOVA on each feature, we can calculate the F-value and p-value and select the features with a low p-value, indicating a significant relationship with the target variable."
      ],
      "metadata": {
        "id": "X0WatcY9wixu"
      }
    },
    {
      "cell_type": "code",
      "source": [
        "# Perform ANOVA test between cylinders and other continuous attributes\n",
        "result_f = feature_selection.f_classif(df.loc[:, 'mpg': 'acceleration'], df.cylinders)\n",
        "\n",
        "# Create a DataFrame to store ANOVA test results\n",
        "anova_test_cat = pd.DataFrame({\n",
        "    'cat_attribute': 'cylinders',\n",
        "    'cont_attribute': df.loc[:, 'mpg': 'acceleration'].columns,\n",
        "    'f_value': result_f[0],\n",
        "    'p_value': result_f[1],\n",
        "    'alpha': ALPHA\n",
        "})\n",
        "\n",
        "# Determine if null hypothesis is rejected or not\n",
        "anova_test_cat['null_hypothesis'] = np.where(anova_test_cat.p_value <= ALPHA, 'rejected', 'not rejected')\n",
        "\n",
        "# Classify the relationship between the attributes\n",
        "anova_test_cat['relationship'] = np.where(anova_test_cat.null_hypothesis == 'rejected', 'dependent', 'independent')\n",
        "\n",
        "anova_test_cat\n"
      ],
      "metadata": {
        "colab": {
          "base_uri": "https://localhost:8080/",
          "height": 206
        },
        "id": "VUbKpNVNvmix",
        "outputId": "5780a4fb-fb25-4ac0-df25-f68792f540e0"
      },
      "execution_count": null,
      "outputs": [
        {
          "output_type": "execute_result",
          "data": {
            "text/plain": [
              "  cat_attribute cont_attribute     f_value        p_value  alpha  \\\n",
              "0     cylinders            mpg  172.954629   8.785541e-85   0.05   \n",
              "1     cylinders   displacement  933.260216  3.054493e-197   0.05   \n",
              "2     cylinders     horsepower  297.855648  1.079822e-116   0.05   \n",
              "3     cylinders         weight  414.851887  1.751845e-138   0.05   \n",
              "4     cylinders   acceleration   48.677596   3.709542e-33   0.05   \n",
              "\n",
              "  null_hypothesis relationship  \n",
              "0        rejected    dependent  \n",
              "1        rejected    dependent  \n",
              "2        rejected    dependent  \n",
              "3        rejected    dependent  \n",
              "4        rejected    dependent  "
            ],
            "text/html": [
              "\n",
              "  <div id=\"df-8d30aa5b-10b1-4592-b13c-21aa5a49d8d1\">\n",
              "    <div class=\"colab-df-container\">\n",
              "      <div>\n",
              "<style scoped>\n",
              "    .dataframe tbody tr th:only-of-type {\n",
              "        vertical-align: middle;\n",
              "    }\n",
              "\n",
              "    .dataframe tbody tr th {\n",
              "        vertical-align: top;\n",
              "    }\n",
              "\n",
              "    .dataframe thead th {\n",
              "        text-align: right;\n",
              "    }\n",
              "</style>\n",
              "<table border=\"1\" class=\"dataframe\">\n",
              "  <thead>\n",
              "    <tr style=\"text-align: right;\">\n",
              "      <th></th>\n",
              "      <th>cat_attribute</th>\n",
              "      <th>cont_attribute</th>\n",
              "      <th>f_value</th>\n",
              "      <th>p_value</th>\n",
              "      <th>alpha</th>\n",
              "      <th>null_hypothesis</th>\n",
              "      <th>relationship</th>\n",
              "    </tr>\n",
              "  </thead>\n",
              "  <tbody>\n",
              "    <tr>\n",
              "      <th>0</th>\n",
              "      <td>cylinders</td>\n",
              "      <td>mpg</td>\n",
              "      <td>172.954629</td>\n",
              "      <td>8.785541e-85</td>\n",
              "      <td>0.05</td>\n",
              "      <td>rejected</td>\n",
              "      <td>dependent</td>\n",
              "    </tr>\n",
              "    <tr>\n",
              "      <th>1</th>\n",
              "      <td>cylinders</td>\n",
              "      <td>displacement</td>\n",
              "      <td>933.260216</td>\n",
              "      <td>3.054493e-197</td>\n",
              "      <td>0.05</td>\n",
              "      <td>rejected</td>\n",
              "      <td>dependent</td>\n",
              "    </tr>\n",
              "    <tr>\n",
              "      <th>2</th>\n",
              "      <td>cylinders</td>\n",
              "      <td>horsepower</td>\n",
              "      <td>297.855648</td>\n",
              "      <td>1.079822e-116</td>\n",
              "      <td>0.05</td>\n",
              "      <td>rejected</td>\n",
              "      <td>dependent</td>\n",
              "    </tr>\n",
              "    <tr>\n",
              "      <th>3</th>\n",
              "      <td>cylinders</td>\n",
              "      <td>weight</td>\n",
              "      <td>414.851887</td>\n",
              "      <td>1.751845e-138</td>\n",
              "      <td>0.05</td>\n",
              "      <td>rejected</td>\n",
              "      <td>dependent</td>\n",
              "    </tr>\n",
              "    <tr>\n",
              "      <th>4</th>\n",
              "      <td>cylinders</td>\n",
              "      <td>acceleration</td>\n",
              "      <td>48.677596</td>\n",
              "      <td>3.709542e-33</td>\n",
              "      <td>0.05</td>\n",
              "      <td>rejected</td>\n",
              "      <td>dependent</td>\n",
              "    </tr>\n",
              "  </tbody>\n",
              "</table>\n",
              "</div>\n",
              "      <button class=\"colab-df-convert\" onclick=\"convertToInteractive('df-8d30aa5b-10b1-4592-b13c-21aa5a49d8d1')\"\n",
              "              title=\"Convert this dataframe to an interactive table.\"\n",
              "              style=\"display:none;\">\n",
              "        \n",
              "  <svg xmlns=\"http://www.w3.org/2000/svg\" height=\"24px\"viewBox=\"0 0 24 24\"\n",
              "       width=\"24px\">\n",
              "    <path d=\"M0 0h24v24H0V0z\" fill=\"none\"/>\n",
              "    <path d=\"M18.56 5.44l.94 2.06.94-2.06 2.06-.94-2.06-.94-.94-2.06-.94 2.06-2.06.94zm-11 1L8.5 8.5l.94-2.06 2.06-.94-2.06-.94L8.5 2.5l-.94 2.06-2.06.94zm10 10l.94 2.06.94-2.06 2.06-.94-2.06-.94-.94-2.06-.94 2.06-2.06.94z\"/><path d=\"M17.41 7.96l-1.37-1.37c-.4-.4-.92-.59-1.43-.59-.52 0-1.04.2-1.43.59L10.3 9.45l-7.72 7.72c-.78.78-.78 2.05 0 2.83L4 21.41c.39.39.9.59 1.41.59.51 0 1.02-.2 1.41-.59l7.78-7.78 2.81-2.81c.8-.78.8-2.07 0-2.86zM5.41 20L4 18.59l7.72-7.72 1.47 1.35L5.41 20z\"/>\n",
              "  </svg>\n",
              "      </button>\n",
              "      \n",
              "  <style>\n",
              "    .colab-df-container {\n",
              "      display:flex;\n",
              "      flex-wrap:wrap;\n",
              "      gap: 12px;\n",
              "    }\n",
              "\n",
              "    .colab-df-convert {\n",
              "      background-color: #E8F0FE;\n",
              "      border: none;\n",
              "      border-radius: 50%;\n",
              "      cursor: pointer;\n",
              "      display: none;\n",
              "      fill: #1967D2;\n",
              "      height: 32px;\n",
              "      padding: 0 0 0 0;\n",
              "      width: 32px;\n",
              "    }\n",
              "\n",
              "    .colab-df-convert:hover {\n",
              "      background-color: #E2EBFA;\n",
              "      box-shadow: 0px 1px 2px rgba(60, 64, 67, 0.3), 0px 1px 3px 1px rgba(60, 64, 67, 0.15);\n",
              "      fill: #174EA6;\n",
              "    }\n",
              "\n",
              "    [theme=dark] .colab-df-convert {\n",
              "      background-color: #3B4455;\n",
              "      fill: #D2E3FC;\n",
              "    }\n",
              "\n",
              "    [theme=dark] .colab-df-convert:hover {\n",
              "      background-color: #434B5C;\n",
              "      box-shadow: 0px 1px 3px 1px rgba(0, 0, 0, 0.15);\n",
              "      filter: drop-shadow(0px 1px 2px rgba(0, 0, 0, 0.3));\n",
              "      fill: #FFFFFF;\n",
              "    }\n",
              "  </style>\n",
              "\n",
              "      <script>\n",
              "        const buttonEl =\n",
              "          document.querySelector('#df-8d30aa5b-10b1-4592-b13c-21aa5a49d8d1 button.colab-df-convert');\n",
              "        buttonEl.style.display =\n",
              "          google.colab.kernel.accessAllowed ? 'block' : 'none';\n",
              "\n",
              "        async function convertToInteractive(key) {\n",
              "          const element = document.querySelector('#df-8d30aa5b-10b1-4592-b13c-21aa5a49d8d1');\n",
              "          const dataTable =\n",
              "            await google.colab.kernel.invokeFunction('convertToInteractive',\n",
              "                                                     [key], {});\n",
              "          if (!dataTable) return;\n",
              "\n",
              "          const docLinkHtml = 'Like what you see? Visit the ' +\n",
              "            '<a target=\"_blank\" href=https://colab.research.google.com/notebooks/data_table.ipynb>data table notebook</a>'\n",
              "            + ' to learn more about interactive tables.';\n",
              "          element.innerHTML = '';\n",
              "          dataTable['output_type'] = 'display_data';\n",
              "          await google.colab.output.renderOutput(dataTable, element);\n",
              "          const docLink = document.createElement('div');\n",
              "          docLink.innerHTML = docLinkHtml;\n",
              "          element.appendChild(docLink);\n",
              "        }\n",
              "      </script>\n",
              "    </div>\n",
              "  </div>\n",
              "  "
            ]
          },
          "metadata": {},
          "execution_count": 85
        }
      ]
    },
    {
      "cell_type": "code",
      "source": [
        "# Perform ANOVA test on selected categorical features with respect to mpg\n",
        "from sklearn.feature_selection import f_classif\n",
        "\n",
        "cat_features = ['origin', 'cylinders', 'model_year']\n",
        "result_f, result_p = f_classif(df_cat_label[cat_features], df.mpg)\n",
        "\n",
        "ALPHA = 0.05\n",
        "anova_test_cat = pd.DataFrame({\n",
        "    'cont-attr': 'mpg',\n",
        "    'cat-attr': cat_features,\n",
        "    'f': result_f,\n",
        "    'p': result_p,\n",
        "    'alpha': ALPHA\n",
        "})\n",
        "\n",
        "anova_test_cat['H0'] = np.where(anova_test_cat['p'] <= ALPHA, 'rejected', 'fail to reject')\n",
        "anova_test_cat['relation'] = np.where(anova_test_cat['H0'] == 'rejected', 'dependent', 'independent')\n",
        "anova_test_cat"
      ],
      "metadata": {
        "colab": {
          "base_uri": "https://localhost:8080/",
          "height": 143
        },
        "id": "eNK_ARRxwAKu",
        "outputId": "01d33b31-2330-400b-afb9-2fb614967484"
      },
      "execution_count": null,
      "outputs": [
        {
          "output_type": "execute_result",
          "data": {
            "text/plain": [
              "  cont-attr    cat-attr          f             p  alpha        H0   relation\n",
              "0       mpg      origin   2.345244  3.516516e-09   0.05  rejected  dependent\n",
              "1       mpg   cylinders  12.104269  2.855307e-63   0.05  rejected  dependent\n",
              "2       mpg  model_year   3.795294  3.748099e-20   0.05  rejected  dependent"
            ],
            "text/html": [
              "\n",
              "  <div id=\"df-ef5955bd-8349-46fb-9cd7-dd6b8f902733\">\n",
              "    <div class=\"colab-df-container\">\n",
              "      <div>\n",
              "<style scoped>\n",
              "    .dataframe tbody tr th:only-of-type {\n",
              "        vertical-align: middle;\n",
              "    }\n",
              "\n",
              "    .dataframe tbody tr th {\n",
              "        vertical-align: top;\n",
              "    }\n",
              "\n",
              "    .dataframe thead th {\n",
              "        text-align: right;\n",
              "    }\n",
              "</style>\n",
              "<table border=\"1\" class=\"dataframe\">\n",
              "  <thead>\n",
              "    <tr style=\"text-align: right;\">\n",
              "      <th></th>\n",
              "      <th>cont-attr</th>\n",
              "      <th>cat-attr</th>\n",
              "      <th>f</th>\n",
              "      <th>p</th>\n",
              "      <th>alpha</th>\n",
              "      <th>H0</th>\n",
              "      <th>relation</th>\n",
              "    </tr>\n",
              "  </thead>\n",
              "  <tbody>\n",
              "    <tr>\n",
              "      <th>0</th>\n",
              "      <td>mpg</td>\n",
              "      <td>origin</td>\n",
              "      <td>2.345244</td>\n",
              "      <td>3.516516e-09</td>\n",
              "      <td>0.05</td>\n",
              "      <td>rejected</td>\n",
              "      <td>dependent</td>\n",
              "    </tr>\n",
              "    <tr>\n",
              "      <th>1</th>\n",
              "      <td>mpg</td>\n",
              "      <td>cylinders</td>\n",
              "      <td>12.104269</td>\n",
              "      <td>2.855307e-63</td>\n",
              "      <td>0.05</td>\n",
              "      <td>rejected</td>\n",
              "      <td>dependent</td>\n",
              "    </tr>\n",
              "    <tr>\n",
              "      <th>2</th>\n",
              "      <td>mpg</td>\n",
              "      <td>model_year</td>\n",
              "      <td>3.795294</td>\n",
              "      <td>3.748099e-20</td>\n",
              "      <td>0.05</td>\n",
              "      <td>rejected</td>\n",
              "      <td>dependent</td>\n",
              "    </tr>\n",
              "  </tbody>\n",
              "</table>\n",
              "</div>\n",
              "      <button class=\"colab-df-convert\" onclick=\"convertToInteractive('df-ef5955bd-8349-46fb-9cd7-dd6b8f902733')\"\n",
              "              title=\"Convert this dataframe to an interactive table.\"\n",
              "              style=\"display:none;\">\n",
              "        \n",
              "  <svg xmlns=\"http://www.w3.org/2000/svg\" height=\"24px\"viewBox=\"0 0 24 24\"\n",
              "       width=\"24px\">\n",
              "    <path d=\"M0 0h24v24H0V0z\" fill=\"none\"/>\n",
              "    <path d=\"M18.56 5.44l.94 2.06.94-2.06 2.06-.94-2.06-.94-.94-2.06-.94 2.06-2.06.94zm-11 1L8.5 8.5l.94-2.06 2.06-.94-2.06-.94L8.5 2.5l-.94 2.06-2.06.94zm10 10l.94 2.06.94-2.06 2.06-.94-2.06-.94-.94-2.06-.94 2.06-2.06.94z\"/><path d=\"M17.41 7.96l-1.37-1.37c-.4-.4-.92-.59-1.43-.59-.52 0-1.04.2-1.43.59L10.3 9.45l-7.72 7.72c-.78.78-.78 2.05 0 2.83L4 21.41c.39.39.9.59 1.41.59.51 0 1.02-.2 1.41-.59l7.78-7.78 2.81-2.81c.8-.78.8-2.07 0-2.86zM5.41 20L4 18.59l7.72-7.72 1.47 1.35L5.41 20z\"/>\n",
              "  </svg>\n",
              "      </button>\n",
              "      \n",
              "  <style>\n",
              "    .colab-df-container {\n",
              "      display:flex;\n",
              "      flex-wrap:wrap;\n",
              "      gap: 12px;\n",
              "    }\n",
              "\n",
              "    .colab-df-convert {\n",
              "      background-color: #E8F0FE;\n",
              "      border: none;\n",
              "      border-radius: 50%;\n",
              "      cursor: pointer;\n",
              "      display: none;\n",
              "      fill: #1967D2;\n",
              "      height: 32px;\n",
              "      padding: 0 0 0 0;\n",
              "      width: 32px;\n",
              "    }\n",
              "\n",
              "    .colab-df-convert:hover {\n",
              "      background-color: #E2EBFA;\n",
              "      box-shadow: 0px 1px 2px rgba(60, 64, 67, 0.3), 0px 1px 3px 1px rgba(60, 64, 67, 0.15);\n",
              "      fill: #174EA6;\n",
              "    }\n",
              "\n",
              "    [theme=dark] .colab-df-convert {\n",
              "      background-color: #3B4455;\n",
              "      fill: #D2E3FC;\n",
              "    }\n",
              "\n",
              "    [theme=dark] .colab-df-convert:hover {\n",
              "      background-color: #434B5C;\n",
              "      box-shadow: 0px 1px 3px 1px rgba(0, 0, 0, 0.15);\n",
              "      filter: drop-shadow(0px 1px 2px rgba(0, 0, 0, 0.3));\n",
              "      fill: #FFFFFF;\n",
              "    }\n",
              "  </style>\n",
              "\n",
              "      <script>\n",
              "        const buttonEl =\n",
              "          document.querySelector('#df-ef5955bd-8349-46fb-9cd7-dd6b8f902733 button.colab-df-convert');\n",
              "        buttonEl.style.display =\n",
              "          google.colab.kernel.accessAllowed ? 'block' : 'none';\n",
              "\n",
              "        async function convertToInteractive(key) {\n",
              "          const element = document.querySelector('#df-ef5955bd-8349-46fb-9cd7-dd6b8f902733');\n",
              "          const dataTable =\n",
              "            await google.colab.kernel.invokeFunction('convertToInteractive',\n",
              "                                                     [key], {});\n",
              "          if (!dataTable) return;\n",
              "\n",
              "          const docLinkHtml = 'Like what you see? Visit the ' +\n",
              "            '<a target=\"_blank\" href=https://colab.research.google.com/notebooks/data_table.ipynb>data table notebook</a>'\n",
              "            + ' to learn more about interactive tables.';\n",
              "          element.innerHTML = '';\n",
              "          dataTable['output_type'] = 'display_data';\n",
              "          await google.colab.output.renderOutput(dataTable, element);\n",
              "          const docLink = document.createElement('div');\n",
              "          docLink.innerHTML = docLinkHtml;\n",
              "          element.appendChild(docLink);\n",
              "        }\n",
              "      </script>\n",
              "    </div>\n",
              "  </div>\n",
              "  "
            ]
          },
          "metadata": {},
          "execution_count": 87
        }
      ]
    }
  ]
}