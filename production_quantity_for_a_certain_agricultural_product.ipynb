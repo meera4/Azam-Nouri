{
  "nbformat": 4,
  "nbformat_minor": 0,
  "metadata": {
    "colab": {
      "provenance": [],
      "authorship_tag": "ABX9TyMbxe3q1u8SDhDKLN5VGgcQ"
    },
    "kernelspec": {
      "name": "python3",
      "display_name": "Python 3"
    },
    "language_info": {
      "name": "python"
    }
  },
  "cells": [
    {
      "cell_type": "markdown",
      "source": [
        "**Project Statement:**\n",
        "\n",
        "We have been given the monthly production quantity for a certain agricultural product (Grople syrup) in 10 different provinces of a country between January 2015 to December 2020. This Grople syrup comes from a fruit. It takes a few months for the fruits to grow on the trees which bear them. It also takes a few days to extract the syrup from the fruits after they have been harvested.\n",
        "\n",
        "\n",
        "\n",
        "We would like to predict the production quantity for Grople syrup.\n",
        "\n",
        "\n",
        "\n",
        "**We want to use following Datasets:**\n",
        "\n",
        "\n",
        "**Production Quantity.csv** has 4 columns\n",
        "start_date, end_date: start day and end day of each month between January 2015 to Dec 2020.\n",
        "\n",
        "prod: production quantity of Grople syrup in tonnes at monthly frequency\n",
        "region_id: A unique identifier for the 10 provinces\n",
        "\n",
        "Daily Precipitation.csv: has 4 columns\n",
        "start_date, end_date: start day and end day at a daily frequency between January 1, 2014 to Mar 13, 2022.\n",
        "precip: Precipitation quantity (in mm) at daily frequency\n",
        "\n",
        "region_id: A unique identifier for the 10 provinces\n",
        "\n",
        "**Daily Soil Moisture.csv:** has 4 columns\n",
        "start_date, end_date: start day and end day at daily frequency between January 1, 2014 to Mar 6, 2022.\n",
        "\n",
        "smos: Soil Moisture at 5cm depth (measured by the ratio Vol/Vol) at daily frequency\n",
        "region_id: A unique identifier for the 10 provinces\n",
        "\n",
        "**Daily Temperature.csv:** has 4 columns\n",
        "start_date, end_date: start day and end day at daily frequency between January 1, 2014 to Mar 13, 2022.\n",
        "\n",
        "temp: Average daily temperature on the surface of the land (in celsius) at daily frequency\n",
        "\n",
        "region_id: A unique identifier for the 10 provinces\n",
        "\n",
        "**Eight Day NDVI.csv:** has 4 columns\n",
        "start_date, end_date: start day and end day at 8-day frequency between Dec 27, 2013 to Mar 13, 2022.\n",
        "\n",
        "ndvi: Normalized Difference Vegetation Index (NDVI is a ratio which ranges between [-1, 1] and captures the vegetation abundance of an area) at 8 day frequency between the given periods**\n",
        "\n",
        "region_id: A unique identifier for the 10 provinces."
      ],
      "metadata": {
        "id": "Zb7nijck0hCV"
      }
    },
    {
      "cell_type": "code",
      "execution_count": null,
      "metadata": {
        "id": "dP-HfWJ3KC12"
      },
      "outputs": [],
      "source": [
        "import numpy as np\n",
        "import pandas as pd\n",
        "from sklearn.model_selection import train_test_split\n",
        "from sklearn.ensemble import RandomForestRegressor\n",
        "from sklearn.metrics import mean_absolute_percentage_error, r2_score"
      ]
    },
    {
      "cell_type": "markdown",
      "source": [
        "**Data Prepration**"
      ],
      "metadata": {
        "id": "HccXjxEb0pK6"
      }
    },
    {
      "cell_type": "code",
      "source": [
        "## Creating dataframes\n",
        "df_product=pd.read_csv(\"Production Quantity.csv\", parse_dates=[0,1])\n",
        "df_prec=pd.read_csv(\"Daily Precipitation.csv\", parse_dates=[0,1])\n",
        "df_soil=pd.read_csv(\"Daily Soil Mositure.csv\", parse_dates=[0,1])\n",
        "df_temp=pd.read_csv(\"Daily Temperature.csv\", parse_dates=[0,1])\n",
        "df_ndvi=pd.read_csv(\"Eight Day NDVI.csv\", parse_dates=[0,1])\n"
      ],
      "metadata": {
        "id": "mFHQ-l_kRbht"
      },
      "execution_count": null,
      "outputs": []
    },
    {
      "cell_type": "code",
      "source": [
        "#let's look at the datasets;\n",
        "print(df_product.head(1))\n",
        "print(df_prec.head(1))\n",
        "print(df_soil.head(1))\n",
        "print(df_temp.head(1))\n",
        "print(df_ndvi.head(1))"
      ],
      "metadata": {
        "colab": {
          "base_uri": "https://localhost:8080/"
        },
        "id": "3FUz_ZzWSfpu",
        "outputId": "8d04c1f6-02fb-4d99-8de0-f30144b4e48b"
      },
      "execution_count": null,
      "outputs": [
        {
          "output_type": "stream",
          "name": "stdout",
          "text": [
            "                 start_date                  end_date    prod  region_id\n",
            "0 2015-01-01 00:00:00+00:00 2015-01-31 00:00:00+00:00  171725         93\n",
            "                 start_date                  end_date    precip  region_id\n",
            "0 2014-01-01 00:00:00+00:00 2014-01-01 00:00:00+00:00  1.392393         93\n",
            "                 start_date                  end_date      smos  region_id\n",
            "0 2014-01-01 00:00:00+00:00 2014-01-01 00:00:00+00:00  0.310787         93\n",
            "                 start_date                  end_date       temp  region_id\n",
            "0 2014-01-02 00:00:00+00:00 2014-01-02 00:00:00+00:00  24.707605         93\n",
            "                 start_date                  end_date      ndvi  region_id\n",
            "0 2013-12-27 00:00:00+00:00 2014-01-03 00:00:00+00:00  0.679106         93\n"
          ]
        }
      ]
    },
    {
      "cell_type": "code",
      "source": [
        "#checking for duplicates in dataset;\n",
        "print(df_product.duplicated(subset=['start_date','region_id']).sum())\n",
        "print(df_prec.duplicated(subset=['start_date','region_id']).sum())\n",
        "print(df_soil.duplicated(subset=['start_date','region_id']).sum())\n",
        "print(df_temp.duplicated(subset=['start_date','region_id']).sum())\n",
        "print(df_ndvi.duplicated(subset=['start_date','region_id']).sum())"
      ],
      "metadata": {
        "colab": {
          "base_uri": "https://localhost:8080/"
        },
        "id": "-qhEwGJ9SCye",
        "outputId": "51874c1f-1fae-42b6-90f4-acceade87fd9"
      },
      "execution_count": null,
      "outputs": [
        {
          "output_type": "stream",
          "name": "stdout",
          "text": [
            "0\n",
            "0\n",
            "0\n",
            "0\n",
            "0\n"
          ]
        }
      ]
    },
    {
      "cell_type": "code",
      "source": [
        "df[\"Daily Precipitation\"] = df_prec['precip']\n",
        "df[\"smos\"] = df_soil['smos']\n",
        "df[\"temp\"] = df_temp['temp']\n",
        "df[\"ndvi\"] = df_ndvi[\"ndvi\"]"
      ],
      "metadata": {
        "id": "iYDyqAzCS56D"
      },
      "execution_count": null,
      "outputs": []
    },
    {
      "cell_type": "code",
      "source": [
        "print(df.shape)\n",
        "df.head(3)"
      ],
      "metadata": {
        "colab": {
          "base_uri": "https://localhost:8080/",
          "height": 160
        },
        "id": "eS_2bLNaVTVh",
        "outputId": "c0757dec-1fdf-4631-c620-3a83a0e9a518"
      },
      "execution_count": null,
      "outputs": [
        {
          "output_type": "stream",
          "name": "stdout",
          "text": [
            "(720, 8)\n"
          ]
        },
        {
          "output_type": "execute_result",
          "data": {
            "text/plain": [
              "                 start_date                  end_date    prod  region_id  \\\n",
              "0  2015-01-01T00:00:00.000Z  2015-01-31T00:00:00.000Z  171725         93   \n",
              "1  2015-02-01T00:00:00.000Z  2015-02-28T00:00:00.000Z  188325         93   \n",
              "2  2015-03-01T00:00:00.000Z  2015-03-31T00:00:00.000Z  247856         93   \n",
              "\n",
              "   Daily Precipitation      smos       temp      ndvi  \n",
              "0             1.392393  0.310787  24.707605  0.679106  \n",
              "1             0.315380  0.192271  26.421176  0.701431  \n",
              "2             2.347846  0.265683  24.305642  0.745149  "
            ],
            "text/html": [
              "\n",
              "  <div id=\"df-6dd2e3b6-328c-42bc-9801-dc0d2a5dc2dd\" class=\"colab-df-container\">\n",
              "    <div>\n",
              "<style scoped>\n",
              "    .dataframe tbody tr th:only-of-type {\n",
              "        vertical-align: middle;\n",
              "    }\n",
              "\n",
              "    .dataframe tbody tr th {\n",
              "        vertical-align: top;\n",
              "    }\n",
              "\n",
              "    .dataframe thead th {\n",
              "        text-align: right;\n",
              "    }\n",
              "</style>\n",
              "<table border=\"1\" class=\"dataframe\">\n",
              "  <thead>\n",
              "    <tr style=\"text-align: right;\">\n",
              "      <th></th>\n",
              "      <th>start_date</th>\n",
              "      <th>end_date</th>\n",
              "      <th>prod</th>\n",
              "      <th>region_id</th>\n",
              "      <th>Daily Precipitation</th>\n",
              "      <th>smos</th>\n",
              "      <th>temp</th>\n",
              "      <th>ndvi</th>\n",
              "    </tr>\n",
              "  </thead>\n",
              "  <tbody>\n",
              "    <tr>\n",
              "      <th>0</th>\n",
              "      <td>2015-01-01T00:00:00.000Z</td>\n",
              "      <td>2015-01-31T00:00:00.000Z</td>\n",
              "      <td>171725</td>\n",
              "      <td>93</td>\n",
              "      <td>1.392393</td>\n",
              "      <td>0.310787</td>\n",
              "      <td>24.707605</td>\n",
              "      <td>0.679106</td>\n",
              "    </tr>\n",
              "    <tr>\n",
              "      <th>1</th>\n",
              "      <td>2015-02-01T00:00:00.000Z</td>\n",
              "      <td>2015-02-28T00:00:00.000Z</td>\n",
              "      <td>188325</td>\n",
              "      <td>93</td>\n",
              "      <td>0.315380</td>\n",
              "      <td>0.192271</td>\n",
              "      <td>26.421176</td>\n",
              "      <td>0.701431</td>\n",
              "    </tr>\n",
              "    <tr>\n",
              "      <th>2</th>\n",
              "      <td>2015-03-01T00:00:00.000Z</td>\n",
              "      <td>2015-03-31T00:00:00.000Z</td>\n",
              "      <td>247856</td>\n",
              "      <td>93</td>\n",
              "      <td>2.347846</td>\n",
              "      <td>0.265683</td>\n",
              "      <td>24.305642</td>\n",
              "      <td>0.745149</td>\n",
              "    </tr>\n",
              "  </tbody>\n",
              "</table>\n",
              "</div>\n",
              "    <div class=\"colab-df-buttons\">\n",
              "\n",
              "  <div class=\"colab-df-container\">\n",
              "    <button class=\"colab-df-convert\" onclick=\"convertToInteractive('df-6dd2e3b6-328c-42bc-9801-dc0d2a5dc2dd')\"\n",
              "            title=\"Convert this dataframe to an interactive table.\"\n",
              "            style=\"display:none;\">\n",
              "\n",
              "  <svg xmlns=\"http://www.w3.org/2000/svg\" height=\"24px\" viewBox=\"0 -960 960 960\">\n",
              "    <path d=\"M120-120v-720h720v720H120Zm60-500h600v-160H180v160Zm220 220h160v-160H400v160Zm0 220h160v-160H400v160ZM180-400h160v-160H180v160Zm440 0h160v-160H620v160ZM180-180h160v-160H180v160Zm440 0h160v-160H620v160Z\"/>\n",
              "  </svg>\n",
              "    </button>\n",
              "\n",
              "  <style>\n",
              "    .colab-df-container {\n",
              "      display:flex;\n",
              "      gap: 12px;\n",
              "    }\n",
              "\n",
              "    .colab-df-convert {\n",
              "      background-color: #E8F0FE;\n",
              "      border: none;\n",
              "      border-radius: 50%;\n",
              "      cursor: pointer;\n",
              "      display: none;\n",
              "      fill: #1967D2;\n",
              "      height: 32px;\n",
              "      padding: 0 0 0 0;\n",
              "      width: 32px;\n",
              "    }\n",
              "\n",
              "    .colab-df-convert:hover {\n",
              "      background-color: #E2EBFA;\n",
              "      box-shadow: 0px 1px 2px rgba(60, 64, 67, 0.3), 0px 1px 3px 1px rgba(60, 64, 67, 0.15);\n",
              "      fill: #174EA6;\n",
              "    }\n",
              "\n",
              "    .colab-df-buttons div {\n",
              "      margin-bottom: 4px;\n",
              "    }\n",
              "\n",
              "    [theme=dark] .colab-df-convert {\n",
              "      background-color: #3B4455;\n",
              "      fill: #D2E3FC;\n",
              "    }\n",
              "\n",
              "    [theme=dark] .colab-df-convert:hover {\n",
              "      background-color: #434B5C;\n",
              "      box-shadow: 0px 1px 3px 1px rgba(0, 0, 0, 0.15);\n",
              "      filter: drop-shadow(0px 1px 2px rgba(0, 0, 0, 0.3));\n",
              "      fill: #FFFFFF;\n",
              "    }\n",
              "  </style>\n",
              "\n",
              "    <script>\n",
              "      const buttonEl =\n",
              "        document.querySelector('#df-6dd2e3b6-328c-42bc-9801-dc0d2a5dc2dd button.colab-df-convert');\n",
              "      buttonEl.style.display =\n",
              "        google.colab.kernel.accessAllowed ? 'block' : 'none';\n",
              "\n",
              "      async function convertToInteractive(key) {\n",
              "        const element = document.querySelector('#df-6dd2e3b6-328c-42bc-9801-dc0d2a5dc2dd');\n",
              "        const dataTable =\n",
              "          await google.colab.kernel.invokeFunction('convertToInteractive',\n",
              "                                                    [key], {});\n",
              "        if (!dataTable) return;\n",
              "\n",
              "        const docLinkHtml = 'Like what you see? Visit the ' +\n",
              "          '<a target=\"_blank\" href=https://colab.research.google.com/notebooks/data_table.ipynb>data table notebook</a>'\n",
              "          + ' to learn more about interactive tables.';\n",
              "        element.innerHTML = '';\n",
              "        dataTable['output_type'] = 'display_data';\n",
              "        await google.colab.output.renderOutput(dataTable, element);\n",
              "        const docLink = document.createElement('div');\n",
              "        docLink.innerHTML = docLinkHtml;\n",
              "        element.appendChild(docLink);\n",
              "      }\n",
              "    </script>\n",
              "  </div>\n",
              "\n",
              "\n",
              "<div id=\"df-3910449b-6825-43d7-ba93-fe4eda79e6ed\">\n",
              "  <button class=\"colab-df-quickchart\" onclick=\"quickchart('df-3910449b-6825-43d7-ba93-fe4eda79e6ed')\"\n",
              "            title=\"Suggest charts\"\n",
              "            style=\"display:none;\">\n",
              "\n",
              "<svg xmlns=\"http://www.w3.org/2000/svg\" height=\"24px\"viewBox=\"0 0 24 24\"\n",
              "     width=\"24px\">\n",
              "    <g>\n",
              "        <path d=\"M19 3H5c-1.1 0-2 .9-2 2v14c0 1.1.9 2 2 2h14c1.1 0 2-.9 2-2V5c0-1.1-.9-2-2-2zM9 17H7v-7h2v7zm4 0h-2V7h2v10zm4 0h-2v-4h2v4z\"/>\n",
              "    </g>\n",
              "</svg>\n",
              "  </button>\n",
              "\n",
              "<style>\n",
              "  .colab-df-quickchart {\n",
              "      --bg-color: #E8F0FE;\n",
              "      --fill-color: #1967D2;\n",
              "      --hover-bg-color: #E2EBFA;\n",
              "      --hover-fill-color: #174EA6;\n",
              "      --disabled-fill-color: #AAA;\n",
              "      --disabled-bg-color: #DDD;\n",
              "  }\n",
              "\n",
              "  [theme=dark] .colab-df-quickchart {\n",
              "      --bg-color: #3B4455;\n",
              "      --fill-color: #D2E3FC;\n",
              "      --hover-bg-color: #434B5C;\n",
              "      --hover-fill-color: #FFFFFF;\n",
              "      --disabled-bg-color: #3B4455;\n",
              "      --disabled-fill-color: #666;\n",
              "  }\n",
              "\n",
              "  .colab-df-quickchart {\n",
              "    background-color: var(--bg-color);\n",
              "    border: none;\n",
              "    border-radius: 50%;\n",
              "    cursor: pointer;\n",
              "    display: none;\n",
              "    fill: var(--fill-color);\n",
              "    height: 32px;\n",
              "    padding: 0;\n",
              "    width: 32px;\n",
              "  }\n",
              "\n",
              "  .colab-df-quickchart:hover {\n",
              "    background-color: var(--hover-bg-color);\n",
              "    box-shadow: 0 1px 2px rgba(60, 64, 67, 0.3), 0 1px 3px 1px rgba(60, 64, 67, 0.15);\n",
              "    fill: var(--button-hover-fill-color);\n",
              "  }\n",
              "\n",
              "  .colab-df-quickchart-complete:disabled,\n",
              "  .colab-df-quickchart-complete:disabled:hover {\n",
              "    background-color: var(--disabled-bg-color);\n",
              "    fill: var(--disabled-fill-color);\n",
              "    box-shadow: none;\n",
              "  }\n",
              "\n",
              "  .colab-df-spinner {\n",
              "    border: 2px solid var(--fill-color);\n",
              "    border-color: transparent;\n",
              "    border-bottom-color: var(--fill-color);\n",
              "    animation:\n",
              "      spin 1s steps(1) infinite;\n",
              "  }\n",
              "\n",
              "  @keyframes spin {\n",
              "    0% {\n",
              "      border-color: transparent;\n",
              "      border-bottom-color: var(--fill-color);\n",
              "      border-left-color: var(--fill-color);\n",
              "    }\n",
              "    20% {\n",
              "      border-color: transparent;\n",
              "      border-left-color: var(--fill-color);\n",
              "      border-top-color: var(--fill-color);\n",
              "    }\n",
              "    30% {\n",
              "      border-color: transparent;\n",
              "      border-left-color: var(--fill-color);\n",
              "      border-top-color: var(--fill-color);\n",
              "      border-right-color: var(--fill-color);\n",
              "    }\n",
              "    40% {\n",
              "      border-color: transparent;\n",
              "      border-right-color: var(--fill-color);\n",
              "      border-top-color: var(--fill-color);\n",
              "    }\n",
              "    60% {\n",
              "      border-color: transparent;\n",
              "      border-right-color: var(--fill-color);\n",
              "    }\n",
              "    80% {\n",
              "      border-color: transparent;\n",
              "      border-right-color: var(--fill-color);\n",
              "      border-bottom-color: var(--fill-color);\n",
              "    }\n",
              "    90% {\n",
              "      border-color: transparent;\n",
              "      border-bottom-color: var(--fill-color);\n",
              "    }\n",
              "  }\n",
              "</style>\n",
              "\n",
              "  <script>\n",
              "    async function quickchart(key) {\n",
              "      const quickchartButtonEl =\n",
              "        document.querySelector('#' + key + ' button');\n",
              "      quickchartButtonEl.disabled = true;  // To prevent multiple clicks.\n",
              "      quickchartButtonEl.classList.add('colab-df-spinner');\n",
              "      try {\n",
              "        const charts = await google.colab.kernel.invokeFunction(\n",
              "            'suggestCharts', [key], {});\n",
              "      } catch (error) {\n",
              "        console.error('Error during call to suggestCharts:', error);\n",
              "      }\n",
              "      quickchartButtonEl.classList.remove('colab-df-spinner');\n",
              "      quickchartButtonEl.classList.add('colab-df-quickchart-complete');\n",
              "    }\n",
              "    (() => {\n",
              "      let quickchartButtonEl =\n",
              "        document.querySelector('#df-3910449b-6825-43d7-ba93-fe4eda79e6ed button');\n",
              "      quickchartButtonEl.style.display =\n",
              "        google.colab.kernel.accessAllowed ? 'block' : 'none';\n",
              "    })();\n",
              "  </script>\n",
              "</div>\n",
              "\n",
              "    </div>\n",
              "  </div>\n"
            ],
            "application/vnd.google.colaboratory.intrinsic+json": {
              "type": "dataframe",
              "variable_name": "df",
              "summary": "{\n  \"name\": \"df\",\n  \"rows\": 720,\n  \"fields\": [\n    {\n      \"column\": \"start_date\",\n      \"properties\": {\n        \"dtype\": \"object\",\n        \"num_unique_values\": 72,\n        \"samples\": [\n          \"2015-05-01T00:00:00.000Z\",\n          \"2020-03-01T00:00:00.000Z\",\n          \"2016-07-01T00:00:00.000Z\"\n        ],\n        \"semantic_type\": \"\",\n        \"description\": \"\"\n      }\n    },\n    {\n      \"column\": \"end_date\",\n      \"properties\": {\n        \"dtype\": \"object\",\n        \"num_unique_values\": 72,\n        \"samples\": [\n          \"2015-05-31T00:00:00.000Z\",\n          \"2020-03-31T00:00:00.000Z\",\n          \"2016-07-31T00:00:00.000Z\"\n        ],\n        \"semantic_type\": \"\",\n        \"description\": \"\"\n      }\n    },\n    {\n      \"column\": \"prod\",\n      \"properties\": {\n        \"dtype\": \"number\",\n        \"std\": 142882,\n        \"min\": 10215,\n        \"max\": 593579,\n        \"num_unique_values\": 718,\n        \"samples\": [\n          27121,\n          208935,\n          238014\n        ],\n        \"semantic_type\": \"\",\n        \"description\": \"\"\n      }\n    },\n    {\n      \"column\": \"region_id\",\n      \"properties\": {\n        \"dtype\": \"number\",\n        \"std\": 4,\n        \"min\": 93,\n        \"max\": 105,\n        \"num_unique_values\": 10,\n        \"samples\": [\n          104,\n          94,\n          99\n        ],\n        \"semantic_type\": \"\",\n        \"description\": \"\"\n      }\n    },\n    {\n      \"column\": \"Daily Precipitation\",\n      \"properties\": {\n        \"dtype\": \"number\",\n        \"std\": 7.969790882807529,\n        \"min\": 6.66344038147903e-05,\n        \"max\": 67.2230333607908,\n        \"num_unique_values\": 720,\n        \"samples\": [\n          16.0063838550247,\n          14.2447191618616,\n          0.0033799160449862\n        ],\n        \"semantic_type\": \"\",\n        \"description\": \"\"\n      }\n    },\n    {\n      \"column\": \"smos\",\n      \"properties\": {\n        \"dtype\": \"number\",\n        \"std\": 0.07798380218149349,\n        \"min\": 0.126442500375774,\n        \"max\": 0.588048779990444,\n        \"num_unique_values\": 479,\n        \"samples\": [\n          0.235157201878186,\n          0.386780688520617,\n          0.15316236445418\n        ],\n        \"semantic_type\": \"\",\n        \"description\": \"\"\n      }\n    },\n    {\n      \"column\": \"temp\",\n      \"properties\": {\n        \"dtype\": \"number\",\n        \"std\": 2.3046480556208966,\n        \"min\": 20.5714604328448,\n        \"max\": 33.7108338418594,\n        \"num_unique_values\": 720,\n        \"samples\": [\n          27.641901195525,\n          27.460996713598,\n          28.7635083784097\n        ],\n        \"semantic_type\": \"\",\n        \"description\": \"\"\n      }\n    },\n    {\n      \"column\": \"ndvi\",\n      \"properties\": {\n        \"dtype\": \"number\",\n        \"std\": 0.03846540268594263,\n        \"min\": 0.573140894092,\n        \"max\": 0.85744707719768,\n        \"num_unique_values\": 720,\n        \"samples\": [\n          0.779226675935373,\n          0.821875063943651,\n          0.79379898137166\n        ],\n        \"semantic_type\": \"\",\n        \"description\": \"\"\n      }\n    }\n  ]\n}"
            }
          },
          "metadata": {},
          "execution_count": 237
        }
      ]
    },
    {
      "cell_type": "code",
      "source": [
        "print(df.info())\n",
        "print(df.describe())"
      ],
      "metadata": {
        "colab": {
          "base_uri": "https://localhost:8080/"
        },
        "id": "VWhyISKLYTIV",
        "outputId": "4a74dd31-a673-48d9-f73a-531e356d42cc"
      },
      "execution_count": null,
      "outputs": [
        {
          "output_type": "stream",
          "name": "stdout",
          "text": [
            "<class 'pandas.core.frame.DataFrame'>\n",
            "RangeIndex: 720 entries, 0 to 719\n",
            "Data columns (total 8 columns):\n",
            " #   Column               Non-Null Count  Dtype  \n",
            "---  ------               --------------  -----  \n",
            " 0   start_date           720 non-null    object \n",
            " 1   end_date             720 non-null    object \n",
            " 2   prod                 720 non-null    int64  \n",
            " 3   region_id            720 non-null    int64  \n",
            " 4   Daily Precipitation  720 non-null    float64\n",
            " 5   smos                 720 non-null    float64\n",
            " 6   temp                 720 non-null    float64\n",
            " 7   ndvi                 720 non-null    float64\n",
            "dtypes: float64(4), int64(2), object(2)\n",
            "memory usage: 45.1+ KB\n",
            "None\n",
            "                prod  region_id  Daily Precipitation        smos        temp  \\\n",
            "count     720.000000  720.00000           720.000000  720.000000  720.000000   \n",
            "mean   159014.201389   99.00000             6.338860    0.290631   27.054364   \n",
            "std    142882.722751    4.10163             7.969791    0.077984    2.304648   \n",
            "min     10215.000000   93.00000             0.000067    0.126443   20.571460   \n",
            "25%     35445.500000   95.00000             0.634289    0.235572   25.623223   \n",
            "50%     91945.500000   98.50000             3.472216    0.278911   27.197225   \n",
            "75%    269946.000000  103.00000             9.093432    0.339133   28.734890   \n",
            "max    593579.000000  105.00000            67.223033    0.588049   33.710834   \n",
            "\n",
            "             ndvi  \n",
            "count  720.000000  \n",
            "mean     0.783307  \n",
            "std      0.038465  \n",
            "min      0.573141  \n",
            "25%      0.765453  \n",
            "50%      0.792154  \n",
            "75%      0.810870  \n",
            "max      0.857447  \n"
          ]
        }
      ]
    },
    {
      "cell_type": "markdown",
      "source": [
        "## **Random Forest**"
      ],
      "metadata": {
        "id": "vifdr77d26QW"
      }
    },
    {
      "cell_type": "code",
      "source": [
        "df.head(1)"
      ],
      "metadata": {
        "colab": {
          "base_uri": "https://localhost:8080/",
          "height": 80
        },
        "id": "QC8MthmD3Eef",
        "outputId": "b7c9c860-dbea-43f3-ea4c-6cf4d6271dfa"
      },
      "execution_count": null,
      "outputs": [
        {
          "output_type": "execute_result",
          "data": {
            "text/plain": [
              "                 start_date                  end_date    prod  region_id  \\\n",
              "0  2015-01-01T00:00:00.000Z  2015-01-31T00:00:00.000Z  171725         93   \n",
              "\n",
              "   Daily Precipitation      smos       temp      ndvi  \n",
              "0             1.392393  0.310787  24.707605  0.679106  "
            ],
            "text/html": [
              "\n",
              "  <div id=\"df-72f7e5ac-ef56-4f9a-ae48-ab1eb8835282\" class=\"colab-df-container\">\n",
              "    <div>\n",
              "<style scoped>\n",
              "    .dataframe tbody tr th:only-of-type {\n",
              "        vertical-align: middle;\n",
              "    }\n",
              "\n",
              "    .dataframe tbody tr th {\n",
              "        vertical-align: top;\n",
              "    }\n",
              "\n",
              "    .dataframe thead th {\n",
              "        text-align: right;\n",
              "    }\n",
              "</style>\n",
              "<table border=\"1\" class=\"dataframe\">\n",
              "  <thead>\n",
              "    <tr style=\"text-align: right;\">\n",
              "      <th></th>\n",
              "      <th>start_date</th>\n",
              "      <th>end_date</th>\n",
              "      <th>prod</th>\n",
              "      <th>region_id</th>\n",
              "      <th>Daily Precipitation</th>\n",
              "      <th>smos</th>\n",
              "      <th>temp</th>\n",
              "      <th>ndvi</th>\n",
              "    </tr>\n",
              "  </thead>\n",
              "  <tbody>\n",
              "    <tr>\n",
              "      <th>0</th>\n",
              "      <td>2015-01-01T00:00:00.000Z</td>\n",
              "      <td>2015-01-31T00:00:00.000Z</td>\n",
              "      <td>171725</td>\n",
              "      <td>93</td>\n",
              "      <td>1.392393</td>\n",
              "      <td>0.310787</td>\n",
              "      <td>24.707605</td>\n",
              "      <td>0.679106</td>\n",
              "    </tr>\n",
              "  </tbody>\n",
              "</table>\n",
              "</div>\n",
              "    <div class=\"colab-df-buttons\">\n",
              "\n",
              "  <div class=\"colab-df-container\">\n",
              "    <button class=\"colab-df-convert\" onclick=\"convertToInteractive('df-72f7e5ac-ef56-4f9a-ae48-ab1eb8835282')\"\n",
              "            title=\"Convert this dataframe to an interactive table.\"\n",
              "            style=\"display:none;\">\n",
              "\n",
              "  <svg xmlns=\"http://www.w3.org/2000/svg\" height=\"24px\" viewBox=\"0 -960 960 960\">\n",
              "    <path d=\"M120-120v-720h720v720H120Zm60-500h600v-160H180v160Zm220 220h160v-160H400v160Zm0 220h160v-160H400v160ZM180-400h160v-160H180v160Zm440 0h160v-160H620v160ZM180-180h160v-160H180v160Zm440 0h160v-160H620v160Z\"/>\n",
              "  </svg>\n",
              "    </button>\n",
              "\n",
              "  <style>\n",
              "    .colab-df-container {\n",
              "      display:flex;\n",
              "      gap: 12px;\n",
              "    }\n",
              "\n",
              "    .colab-df-convert {\n",
              "      background-color: #E8F0FE;\n",
              "      border: none;\n",
              "      border-radius: 50%;\n",
              "      cursor: pointer;\n",
              "      display: none;\n",
              "      fill: #1967D2;\n",
              "      height: 32px;\n",
              "      padding: 0 0 0 0;\n",
              "      width: 32px;\n",
              "    }\n",
              "\n",
              "    .colab-df-convert:hover {\n",
              "      background-color: #E2EBFA;\n",
              "      box-shadow: 0px 1px 2px rgba(60, 64, 67, 0.3), 0px 1px 3px 1px rgba(60, 64, 67, 0.15);\n",
              "      fill: #174EA6;\n",
              "    }\n",
              "\n",
              "    .colab-df-buttons div {\n",
              "      margin-bottom: 4px;\n",
              "    }\n",
              "\n",
              "    [theme=dark] .colab-df-convert {\n",
              "      background-color: #3B4455;\n",
              "      fill: #D2E3FC;\n",
              "    }\n",
              "\n",
              "    [theme=dark] .colab-df-convert:hover {\n",
              "      background-color: #434B5C;\n",
              "      box-shadow: 0px 1px 3px 1px rgba(0, 0, 0, 0.15);\n",
              "      filter: drop-shadow(0px 1px 2px rgba(0, 0, 0, 0.3));\n",
              "      fill: #FFFFFF;\n",
              "    }\n",
              "  </style>\n",
              "\n",
              "    <script>\n",
              "      const buttonEl =\n",
              "        document.querySelector('#df-72f7e5ac-ef56-4f9a-ae48-ab1eb8835282 button.colab-df-convert');\n",
              "      buttonEl.style.display =\n",
              "        google.colab.kernel.accessAllowed ? 'block' : 'none';\n",
              "\n",
              "      async function convertToInteractive(key) {\n",
              "        const element = document.querySelector('#df-72f7e5ac-ef56-4f9a-ae48-ab1eb8835282');\n",
              "        const dataTable =\n",
              "          await google.colab.kernel.invokeFunction('convertToInteractive',\n",
              "                                                    [key], {});\n",
              "        if (!dataTable) return;\n",
              "\n",
              "        const docLinkHtml = 'Like what you see? Visit the ' +\n",
              "          '<a target=\"_blank\" href=https://colab.research.google.com/notebooks/data_table.ipynb>data table notebook</a>'\n",
              "          + ' to learn more about interactive tables.';\n",
              "        element.innerHTML = '';\n",
              "        dataTable['output_type'] = 'display_data';\n",
              "        await google.colab.output.renderOutput(dataTable, element);\n",
              "        const docLink = document.createElement('div');\n",
              "        docLink.innerHTML = docLinkHtml;\n",
              "        element.appendChild(docLink);\n",
              "      }\n",
              "    </script>\n",
              "  </div>\n",
              "\n",
              "\n",
              "    </div>\n",
              "  </div>\n"
            ],
            "application/vnd.google.colaboratory.intrinsic+json": {
              "type": "dataframe",
              "variable_name": "df",
              "summary": "{\n  \"name\": \"df\",\n  \"rows\": 720,\n  \"fields\": [\n    {\n      \"column\": \"start_date\",\n      \"properties\": {\n        \"dtype\": \"object\",\n        \"num_unique_values\": 72,\n        \"samples\": [\n          \"2015-05-01T00:00:00.000Z\",\n          \"2020-03-01T00:00:00.000Z\",\n          \"2016-07-01T00:00:00.000Z\"\n        ],\n        \"semantic_type\": \"\",\n        \"description\": \"\"\n      }\n    },\n    {\n      \"column\": \"end_date\",\n      \"properties\": {\n        \"dtype\": \"object\",\n        \"num_unique_values\": 72,\n        \"samples\": [\n          \"2015-05-31T00:00:00.000Z\",\n          \"2020-03-31T00:00:00.000Z\",\n          \"2016-07-31T00:00:00.000Z\"\n        ],\n        \"semantic_type\": \"\",\n        \"description\": \"\"\n      }\n    },\n    {\n      \"column\": \"prod\",\n      \"properties\": {\n        \"dtype\": \"number\",\n        \"std\": 142882,\n        \"min\": 10215,\n        \"max\": 593579,\n        \"num_unique_values\": 718,\n        \"samples\": [\n          27121,\n          208935,\n          238014\n        ],\n        \"semantic_type\": \"\",\n        \"description\": \"\"\n      }\n    },\n    {\n      \"column\": \"region_id\",\n      \"properties\": {\n        \"dtype\": \"number\",\n        \"std\": 4,\n        \"min\": 93,\n        \"max\": 105,\n        \"num_unique_values\": 10,\n        \"samples\": [\n          104,\n          94,\n          99\n        ],\n        \"semantic_type\": \"\",\n        \"description\": \"\"\n      }\n    },\n    {\n      \"column\": \"Daily Precipitation\",\n      \"properties\": {\n        \"dtype\": \"number\",\n        \"std\": 7.969790882807529,\n        \"min\": 6.66344038147903e-05,\n        \"max\": 67.2230333607908,\n        \"num_unique_values\": 720,\n        \"samples\": [\n          16.0063838550247,\n          14.2447191618616,\n          0.0033799160449862\n        ],\n        \"semantic_type\": \"\",\n        \"description\": \"\"\n      }\n    },\n    {\n      \"column\": \"smos\",\n      \"properties\": {\n        \"dtype\": \"number\",\n        \"std\": 0.07798380218149349,\n        \"min\": 0.126442500375774,\n        \"max\": 0.588048779990444,\n        \"num_unique_values\": 479,\n        \"samples\": [\n          0.235157201878186,\n          0.386780688520617,\n          0.15316236445418\n        ],\n        \"semantic_type\": \"\",\n        \"description\": \"\"\n      }\n    },\n    {\n      \"column\": \"temp\",\n      \"properties\": {\n        \"dtype\": \"number\",\n        \"std\": 2.3046480556208966,\n        \"min\": 20.5714604328448,\n        \"max\": 33.7108338418594,\n        \"num_unique_values\": 720,\n        \"samples\": [\n          27.641901195525,\n          27.460996713598,\n          28.7635083784097\n        ],\n        \"semantic_type\": \"\",\n        \"description\": \"\"\n      }\n    },\n    {\n      \"column\": \"ndvi\",\n      \"properties\": {\n        \"dtype\": \"number\",\n        \"std\": 0.03846540268594263,\n        \"min\": 0.573140894092,\n        \"max\": 0.85744707719768,\n        \"num_unique_values\": 720,\n        \"samples\": [\n          0.779226675935373,\n          0.821875063943651,\n          0.79379898137166\n        ],\n        \"semantic_type\": \"\",\n        \"description\": \"\"\n      }\n    }\n  ]\n}"
            }
          },
          "metadata": {},
          "execution_count": 239
        }
      ]
    },
    {
      "cell_type": "code",
      "source": [
        "x = df.drop(['start_date','end_date','prod'], axis=1)\n",
        "y = df['prod']"
      ],
      "metadata": {
        "id": "fPVho89czw8J"
      },
      "execution_count": null,
      "outputs": []
    },
    {
      "cell_type": "code",
      "source": [
        "# train test split\n",
        "x_train, x_test, y_train, y_test = train_test_split(x, y, test_size=0.2, random_state=1)"
      ],
      "metadata": {
        "id": "PeT2bukS4fVB"
      },
      "execution_count": null,
      "outputs": []
    },
    {
      "cell_type": "code",
      "source": [
        "rf = RandomForestRegressor(n_estimators = 100)\n",
        "rf.fit(x_train, y_train)"
      ],
      "metadata": {
        "colab": {
          "base_uri": "https://localhost:8080/",
          "height": 74
        },
        "id": "azXcRxc74i5E",
        "outputId": "55d559a3-189f-4d45-ddd8-3a61d84924a8"
      },
      "execution_count": null,
      "outputs": [
        {
          "output_type": "execute_result",
          "data": {
            "text/plain": [
              "RandomForestRegressor()"
            ],
            "text/html": [
              "<style>#sk-container-id-11 {color: black;background-color: white;}#sk-container-id-11 pre{padding: 0;}#sk-container-id-11 div.sk-toggleable {background-color: white;}#sk-container-id-11 label.sk-toggleable__label {cursor: pointer;display: block;width: 100%;margin-bottom: 0;padding: 0.3em;box-sizing: border-box;text-align: center;}#sk-container-id-11 label.sk-toggleable__label-arrow:before {content: \"▸\";float: left;margin-right: 0.25em;color: #696969;}#sk-container-id-11 label.sk-toggleable__label-arrow:hover:before {color: black;}#sk-container-id-11 div.sk-estimator:hover label.sk-toggleable__label-arrow:before {color: black;}#sk-container-id-11 div.sk-toggleable__content {max-height: 0;max-width: 0;overflow: hidden;text-align: left;background-color: #f0f8ff;}#sk-container-id-11 div.sk-toggleable__content pre {margin: 0.2em;color: black;border-radius: 0.25em;background-color: #f0f8ff;}#sk-container-id-11 input.sk-toggleable__control:checked~div.sk-toggleable__content {max-height: 200px;max-width: 100%;overflow: auto;}#sk-container-id-11 input.sk-toggleable__control:checked~label.sk-toggleable__label-arrow:before {content: \"▾\";}#sk-container-id-11 div.sk-estimator input.sk-toggleable__control:checked~label.sk-toggleable__label {background-color: #d4ebff;}#sk-container-id-11 div.sk-label input.sk-toggleable__control:checked~label.sk-toggleable__label {background-color: #d4ebff;}#sk-container-id-11 input.sk-hidden--visually {border: 0;clip: rect(1px 1px 1px 1px);clip: rect(1px, 1px, 1px, 1px);height: 1px;margin: -1px;overflow: hidden;padding: 0;position: absolute;width: 1px;}#sk-container-id-11 div.sk-estimator {font-family: monospace;background-color: #f0f8ff;border: 1px dotted black;border-radius: 0.25em;box-sizing: border-box;margin-bottom: 0.5em;}#sk-container-id-11 div.sk-estimator:hover {background-color: #d4ebff;}#sk-container-id-11 div.sk-parallel-item::after {content: \"\";width: 100%;border-bottom: 1px solid gray;flex-grow: 1;}#sk-container-id-11 div.sk-label:hover label.sk-toggleable__label {background-color: #d4ebff;}#sk-container-id-11 div.sk-serial::before {content: \"\";position: absolute;border-left: 1px solid gray;box-sizing: border-box;top: 0;bottom: 0;left: 50%;z-index: 0;}#sk-container-id-11 div.sk-serial {display: flex;flex-direction: column;align-items: center;background-color: white;padding-right: 0.2em;padding-left: 0.2em;position: relative;}#sk-container-id-11 div.sk-item {position: relative;z-index: 1;}#sk-container-id-11 div.sk-parallel {display: flex;align-items: stretch;justify-content: center;background-color: white;position: relative;}#sk-container-id-11 div.sk-item::before, #sk-container-id-11 div.sk-parallel-item::before {content: \"\";position: absolute;border-left: 1px solid gray;box-sizing: border-box;top: 0;bottom: 0;left: 50%;z-index: -1;}#sk-container-id-11 div.sk-parallel-item {display: flex;flex-direction: column;z-index: 1;position: relative;background-color: white;}#sk-container-id-11 div.sk-parallel-item:first-child::after {align-self: flex-end;width: 50%;}#sk-container-id-11 div.sk-parallel-item:last-child::after {align-self: flex-start;width: 50%;}#sk-container-id-11 div.sk-parallel-item:only-child::after {width: 0;}#sk-container-id-11 div.sk-dashed-wrapped {border: 1px dashed gray;margin: 0 0.4em 0.5em 0.4em;box-sizing: border-box;padding-bottom: 0.4em;background-color: white;}#sk-container-id-11 div.sk-label label {font-family: monospace;font-weight: bold;display: inline-block;line-height: 1.2em;}#sk-container-id-11 div.sk-label-container {text-align: center;}#sk-container-id-11 div.sk-container {/* jupyter's `normalize.less` sets `[hidden] { display: none; }` but bootstrap.min.css set `[hidden] { display: none !important; }` so we also need the `!important` here to be able to override the default hidden behavior on the sphinx rendered scikit-learn.org. See: https://github.com/scikit-learn/scikit-learn/issues/21755 */display: inline-block !important;position: relative;}#sk-container-id-11 div.sk-text-repr-fallback {display: none;}</style><div id=\"sk-container-id-11\" class=\"sk-top-container\"><div class=\"sk-text-repr-fallback\"><pre>RandomForestRegressor()</pre><b>In a Jupyter environment, please rerun this cell to show the HTML representation or trust the notebook. <br />On GitHub, the HTML representation is unable to render, please try loading this page with nbviewer.org.</b></div><div class=\"sk-container\" hidden><div class=\"sk-item\"><div class=\"sk-estimator sk-toggleable\"><input class=\"sk-toggleable__control sk-hidden--visually\" id=\"sk-estimator-id-11\" type=\"checkbox\" checked><label for=\"sk-estimator-id-11\" class=\"sk-toggleable__label sk-toggleable__label-arrow\">RandomForestRegressor</label><div class=\"sk-toggleable__content\"><pre>RandomForestRegressor()</pre></div></div></div></div></div>"
            ]
          },
          "metadata": {},
          "execution_count": 242
        }
      ]
    },
    {
      "cell_type": "code",
      "source": [
        "# Prediction\n",
        "y_train_pred = rf.predict(x_train)"
      ],
      "metadata": {
        "id": "JplWrchEz80F"
      },
      "execution_count": null,
      "outputs": []
    },
    {
      "cell_type": "code",
      "source": [
        "# Calculating Mean Absolute Percentage Error\n",
        "mape = mean_absolute_percentage_error(y_train, y_train_pred)\n",
        "print(mape)"
      ],
      "metadata": {
        "colab": {
          "base_uri": "https://localhost:8080/"
        },
        "id": "543CS-bkz_G6",
        "outputId": "4c9048d5-1db4-4bdf-808d-1d6acaf1ea23"
      },
      "execution_count": null,
      "outputs": [
        {
          "output_type": "stream",
          "name": "stdout",
          "text": [
            "0.06782683103041191\n"
          ]
        }
      ]
    },
    {
      "cell_type": "code",
      "source": [
        "# Calculating r2_Score\n",
        "r2 = r2_score(y_train, y_train_pred)\n",
        "print(r2)"
      ],
      "metadata": {
        "colab": {
          "base_uri": "https://localhost:8080/"
        },
        "id": "eFC9gI_l0Bgt",
        "outputId": "31b341bb-554c-4d0a-ab37-1cd7a5f7459a"
      },
      "execution_count": null,
      "outputs": [
        {
          "output_type": "stream",
          "name": "stdout",
          "text": [
            "0.9915377081254924\n"
          ]
        }
      ]
    },
    {
      "cell_type": "markdown",
      "source": [
        "## **Test set**"
      ],
      "metadata": {
        "id": "EELdKX4p6Xv9"
      }
    },
    {
      "cell_type": "code",
      "source": [
        "y_test_pred = rf.predict(x_test)"
      ],
      "metadata": {
        "id": "tQ74s_nv8sMd"
      },
      "execution_count": null,
      "outputs": []
    },
    {
      "cell_type": "code",
      "source": [
        "# Calculating Mean Absolute Percentage Error\n",
        "mape = mean_absolute_percentage_error(y_test, y_test_pred)\n",
        "print(mape)"
      ],
      "metadata": {
        "colab": {
          "base_uri": "https://localhost:8080/"
        },
        "id": "vzP6pCKC9CKD",
        "outputId": "e73f36d5-299b-43a6-aca2-1f7bd53c47bf"
      },
      "execution_count": null,
      "outputs": [
        {
          "output_type": "stream",
          "name": "stdout",
          "text": [
            "0.18312689380758915\n"
          ]
        }
      ]
    },
    {
      "cell_type": "code",
      "source": [
        "# Calculating r2_Score\n",
        "r2 = r2_score(y_test, y_test_pred)\n",
        "print(r2)"
      ],
      "metadata": {
        "colab": {
          "base_uri": "https://localhost:8080/"
        },
        "id": "FQWhA_TM9JTw",
        "outputId": "7be02128-47b5-4777-aa3c-e242fe5e8aaa"
      },
      "execution_count": null,
      "outputs": [
        {
          "output_type": "stream",
          "name": "stdout",
          "text": [
            "0.9285173664614508\n"
          ]
        }
      ]
    }
  ]
}